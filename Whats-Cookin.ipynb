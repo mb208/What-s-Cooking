{
 "cells": [
  {
   "cell_type": "code",
   "execution_count": 1,
   "metadata": {
    "collapsed": false
   },
   "outputs": [
    {
     "name": "stderr",
     "output_type": "stream",
     "text": [
      "A newer version of GraphLab Create (v1.7.1) is available! Your current version is v1.6.1.\n",
      "\n",
      "You can use pip to upgrade the graphlab-create package. For more information see https://dato.com/products/create/upgrade.\n",
      "[INFO] This non-commercial license of GraphLab Create is assigned to jmuller17@amherst.edu and will expire on November 16, 2016. For commercial licensing options, visit https://dato.com/buy/.\n",
      "\n",
      "[INFO] Start server at: ipc:///tmp/graphlab_server-7208 - Server binary: /Users/Jack/.graphlab/anaconda/lib/python2.7/site-packages/graphlab/unity_server - Server log: /tmp/graphlab_server_1449593628.log\n",
      "[INFO] GraphLab Server Version: 1.6.1\n"
     ]
    },
    {
     "name": "stdout",
     "output_type": "stream",
     "text": [
      "PROGRESS: Finished parsing file /Users/Jack/Documents/AIT/Data Mining/Data/train.json\n",
      "PROGRESS: Parsing completed. Parsed 1 lines in 1.08475 secs.\n"
     ]
    }
   ],
   "source": [
    "import graphlab\n",
    "data = graphlab.SFrame.read_json(\"/Users/Jack/Documents/AIT/Data Mining/Data/train.json\")"
   ]
  },
  {
   "cell_type": "code",
   "execution_count": 3,
   "metadata": {
    "collapsed": false
   },
   "outputs": [
    {
     "data": {
      "text/html": [
       "<div style=\"max-height:1000px;max-width:1500px;overflow:auto;\"><table frame=\"box\" rules=\"cols\">\n",
       "    <tr>\n",
       "        <th style=\"padding-left: 1em; padding-right: 1em; text-align: center\">cuisine</th>\n",
       "        <th style=\"padding-left: 1em; padding-right: 1em; text-align: center\">id</th>\n",
       "        <th style=\"padding-left: 1em; padding-right: 1em; text-align: center\">ingredients</th>\n",
       "    </tr>\n",
       "    <tr>\n",
       "        <td style=\"padding-left: 1em; padding-right: 1em; text-align: center; vertical-align: top\">greek</td>\n",
       "        <td style=\"padding-left: 1em; padding-right: 1em; text-align: center; vertical-align: top\">10259</td>\n",
       "        <td style=\"padding-left: 1em; padding-right: 1em; text-align: center; vertical-align: top\">[romaine lettuce, black<br>olives, grape tomatoes, ...</td>\n",
       "    </tr>\n",
       "    <tr>\n",
       "        <td style=\"padding-left: 1em; padding-right: 1em; text-align: center; vertical-align: top\">southern_us</td>\n",
       "        <td style=\"padding-left: 1em; padding-right: 1em; text-align: center; vertical-align: top\">25693</td>\n",
       "        <td style=\"padding-left: 1em; padding-right: 1em; text-align: center; vertical-align: top\">[plain flour, ground<br>pepper, salt, tomatoes, ...</td>\n",
       "    </tr>\n",
       "    <tr>\n",
       "        <td style=\"padding-left: 1em; padding-right: 1em; text-align: center; vertical-align: top\">filipino</td>\n",
       "        <td style=\"padding-left: 1em; padding-right: 1em; text-align: center; vertical-align: top\">20130</td>\n",
       "        <td style=\"padding-left: 1em; padding-right: 1em; text-align: center; vertical-align: top\">[eggs, pepper, salt,<br>mayonaise, cooking oil, ...</td>\n",
       "    </tr>\n",
       "    <tr>\n",
       "        <td style=\"padding-left: 1em; padding-right: 1em; text-align: center; vertical-align: top\">indian</td>\n",
       "        <td style=\"padding-left: 1em; padding-right: 1em; text-align: center; vertical-align: top\">22213</td>\n",
       "        <td style=\"padding-left: 1em; padding-right: 1em; text-align: center; vertical-align: top\">[water, vegetable oil,<br>wheat, salt] ...</td>\n",
       "    </tr>\n",
       "    <tr>\n",
       "        <td style=\"padding-left: 1em; padding-right: 1em; text-align: center; vertical-align: top\">indian</td>\n",
       "        <td style=\"padding-left: 1em; padding-right: 1em; text-align: center; vertical-align: top\">13162</td>\n",
       "        <td style=\"padding-left: 1em; padding-right: 1em; text-align: center; vertical-align: top\">[black pepper, shallots,<br>cornflour, cayenne ...</td>\n",
       "    </tr>\n",
       "    <tr>\n",
       "        <td style=\"padding-left: 1em; padding-right: 1em; text-align: center; vertical-align: top\">jamaican</td>\n",
       "        <td style=\"padding-left: 1em; padding-right: 1em; text-align: center; vertical-align: top\">6602</td>\n",
       "        <td style=\"padding-left: 1em; padding-right: 1em; text-align: center; vertical-align: top\">[plain flour, sugar,<br>butter, eggs, fresh ...</td>\n",
       "    </tr>\n",
       "    <tr>\n",
       "        <td style=\"padding-left: 1em; padding-right: 1em; text-align: center; vertical-align: top\">spanish</td>\n",
       "        <td style=\"padding-left: 1em; padding-right: 1em; text-align: center; vertical-align: top\">42779</td>\n",
       "        <td style=\"padding-left: 1em; padding-right: 1em; text-align: center; vertical-align: top\">[olive oil, salt, medium<br>shrimp, pepper, garlic, ...</td>\n",
       "    </tr>\n",
       "    <tr>\n",
       "        <td style=\"padding-left: 1em; padding-right: 1em; text-align: center; vertical-align: top\">italian</td>\n",
       "        <td style=\"padding-left: 1em; padding-right: 1em; text-align: center; vertical-align: top\">3735</td>\n",
       "        <td style=\"padding-left: 1em; padding-right: 1em; text-align: center; vertical-align: top\">[sugar, pistachio nuts,<br>white almond bark, fl ...</td>\n",
       "    </tr>\n",
       "    <tr>\n",
       "        <td style=\"padding-left: 1em; padding-right: 1em; text-align: center; vertical-align: top\">mexican</td>\n",
       "        <td style=\"padding-left: 1em; padding-right: 1em; text-align: center; vertical-align: top\">16903</td>\n",
       "        <td style=\"padding-left: 1em; padding-right: 1em; text-align: center; vertical-align: top\">[olive oil, purple onion,<br>fresh pineapple, pork, ...</td>\n",
       "    </tr>\n",
       "    <tr>\n",
       "        <td style=\"padding-left: 1em; padding-right: 1em; text-align: center; vertical-align: top\">italian</td>\n",
       "        <td style=\"padding-left: 1em; padding-right: 1em; text-align: center; vertical-align: top\">12734</td>\n",
       "        <td style=\"padding-left: 1em; padding-right: 1em; text-align: center; vertical-align: top\">[chopped tomatoes, fresh<br>basil, garlic, extra- ...</td>\n",
       "    </tr>\n",
       "</table>\n",
       "[10 rows x 3 columns]<br/>\n",
       "</div>"
      ],
      "text/plain": [
       "Columns:\n",
       "\tcuisine\tstr\n",
       "\tid\tint\n",
       "\tingredients\tlist\n",
       "\n",
       "Rows: 10\n",
       "\n",
       "Data:\n",
       "+-------------+-------+-------------------------------+\n",
       "|   cuisine   |   id  |          ingredients          |\n",
       "+-------------+-------+-------------------------------+\n",
       "|    greek    | 10259 | [romaine lettuce, black ol... |\n",
       "| southern_us | 25693 | [plain flour, ground peppe... |\n",
       "|   filipino  | 20130 | [eggs, pepper, salt, mayon... |\n",
       "|    indian   | 22213 | [water, vegetable oil, whe... |\n",
       "|    indian   | 13162 | [black pepper, shallots, c... |\n",
       "|   jamaican  |  6602 | [plain flour, sugar, butte... |\n",
       "|   spanish   | 42779 | [olive oil, salt, medium s... |\n",
       "|   italian   |  3735 | [sugar, pistachio nuts, wh... |\n",
       "|   mexican   | 16903 | [olive oil, purple onion, ... |\n",
       "|   italian   | 12734 | [chopped tomatoes, fresh b... |\n",
       "+-------------+-------+-------------------------------+\n",
       "[10 rows x 3 columns]"
      ]
     },
     "execution_count": 3,
     "metadata": {},
     "output_type": "execute_result"
    }
   ],
   "source": [
    "data.head()\n"
   ]
  },
  {
   "cell_type": "code",
   "execution_count": 7,
   "metadata": {
    "collapsed": false
   },
   "outputs": [
    {
     "name": "stdout",
     "output_type": "stream",
     "text": [
      "Canvas is updated and available in a tab in the default browser.\n"
     ]
    }
   ],
   "source": [
    "data.show()"
   ]
  },
  {
   "cell_type": "code",
   "execution_count": 4,
   "metadata": {
    "collapsed": false
   },
   "outputs": [],
   "source": [
    "import operator\n",
    "def cuisineIngredientsDict():\n",
    "    cuisineDict = {}\n",
    "    for i in data:\n",
    "        if i['cuisine'] not in cuisineDict:\n",
    "            cuisineDict[i['cuisine']] = {}\n",
    "        for x in i['ingredients']:\n",
    "            if x not in cuisineDict[i['cuisine']]:\n",
    "                cuisineDict[i['cuisine']][x] = 1\n",
    "            else:\n",
    "                cuisineDict[i['cuisine']][x] += 1\n",
    "    for i in cuisineDict:\n",
    "        cuisineDict[i] = sorted(cuisineDict[i].items(), key=operator.itemgetter(1), reverse=True)\n",
    "    return cuisineDict\n"
   ]
  },
  {
   "cell_type": "code",
   "execution_count": 5,
   "metadata": {
    "collapsed": false
   },
   "outputs": [],
   "source": [
    "cuisineI = cuisineIngredientsDict()\n"
   ]
  },
  {
   "cell_type": "markdown",
   "metadata": {},
   "source": [
    "# Cleaning Ingredients"
   ]
  },
  {
   "cell_type": "code",
   "execution_count": null,
   "metadata": {
    "collapsed": true
   },
   "outputs": [],
   "source": [
    "import numpy as np\n",
    "import re\n",
    "import operator\n",
    "import os\n",
    "import nltk\n",
    "import pandas as pd \n",
    "from pandas import DataFrame, Series \n",
    "from nltk.stem import WordNetLemmatizer\n"
   ]
  },
  {
   "cell_type": "code",
   "execution_count": 3,
   "metadata": {
    "collapsed": false
   },
   "outputs": [],
   "source": [
    "recipe_df = pd.read_json('/Users/Jack/Documents/AIT/Data Mining/Data/train.json')\n",
    "ingredients = recipe_df['ingredients']"
   ]
  },
  {
   "cell_type": "code",
   "execution_count": 4,
   "metadata": {
    "collapsed": false
   },
   "outputs": [],
   "source": [
    "replace = ['chopped','mixed', 'juice', 'juiced', 'peeled', 'diced', 'crushed', 'dried', 'minced',\n",
    "           'stewed', 'whole', 'and', 'grated', 'shredded', 'ground', 'leaves', 'fresh', 'plain',\n",
    "          'all-purpose', 'frozen', 'pods', 'seed', 'seeds', 'root', 'sea','powder',\n",
    "          'light', 'dark', 'whole-milk', 'salt', 'large', 'breasts', 'breast', 'thighs', 'thigh',\n",
    "          'drumsticks','legs', 'leg', 'rack', 'racks', 'sliced', 'dry', 'heavy', 'unsalted',\n",
    "          'halves', 'skinless', 'boneless', 'fat', 'free', 'sodium', 'low', 'lean', 'fillets',\n",
    "          'baby', 'leaf', 'chees', 'medium', 'crumbles','le', 'bulb', 'boil', '%', 'softened',\n",
    "          'instant', 'granulated']"
   ]
  },
  {
   "cell_type": "code",
   "execution_count": 5,
   "metadata": {
    "collapsed": false
   },
   "outputs": [],
   "source": [
    "ingredients = [[nltk.word_tokenize(i) for i in x] for x in ingredients]"
   ]
  },
  {
   "cell_type": "code",
   "execution_count": 6,
   "metadata": {
    "collapsed": false
   },
   "outputs": [],
   "source": [
    "ingredients = [[[j for j in i if j not in replace] for i in x] for x in ingredients]\n",
    "ingredients = [filter(None,x) for x in ingredients]"
   ]
  },
  {
   "cell_type": "code",
   "execution_count": 7,
   "metadata": {
    "collapsed": false
   },
   "outputs": [],
   "source": [
    "stem = WordNetLemmatizer()\n",
    "ingredients = [[[stem.lemmatize(j) for j in i] for i in x] for x in ingredients]\n",
    "ingredients = [[[j for j in i if not j.isdigit()] for i in x] for x in ingredients]"
   ]
  },
  {
   "cell_type": "code",
   "execution_count": 8,
   "metadata": {
    "collapsed": true
   },
   "outputs": [],
   "source": [
    "ingredients = [[\" \".join(i) for i in x] for x in ingredients]"
   ]
  },
  {
   "cell_type": "code",
   "execution_count": 9,
   "metadata": {
    "collapsed": false
   },
   "outputs": [],
   "source": [
    "temp = graphlab.SArray(data=ingredients, dtype=list)\n",
    "tf = graphlab.text_analytics.tf_idf(temp)"
   ]
  },
  {
   "cell_type": "code",
   "execution_count": 10,
   "metadata": {
    "collapsed": false,
    "scrolled": true
   },
   "outputs": [
    {
     "data": {
      "text/html": [
       "<div style=\"max-height:1000px;max-width:1500px;overflow:auto;\"><table frame=\"box\" rules=\"cols\">\n",
       "    <tr>\n",
       "        <th style=\"padding-left: 1em; padding-right: 1em; text-align: center\">cuisine</th>\n",
       "        <th style=\"padding-left: 1em; padding-right: 1em; text-align: center\">id</th>\n",
       "        <th style=\"padding-left: 1em; padding-right: 1em; text-align: center\">ingredients</th>\n",
       "        <th style=\"padding-left: 1em; padding-right: 1em; text-align: center\">X4</th>\n",
       "    </tr>\n",
       "    <tr>\n",
       "        <td style=\"padding-left: 1em; padding-right: 1em; text-align: center; vertical-align: top\">greek</td>\n",
       "        <td style=\"padding-left: 1em; padding-right: 1em; text-align: center; vertical-align: top\">10259</td>\n",
       "        <td style=\"padding-left: 1em; padding-right: 1em; text-align: center; vertical-align: top\">[romaine lettuce, black<br>olives, grape tomatoes, ...</td>\n",
       "        <td style=\"padding-left: 1em; padding-right: 1em; text-align: center; vertical-align: top\">[romaine lettuce, black<br>olive, grape tomato, ...</td>\n",
       "    </tr>\n",
       "    <tr>\n",
       "        <td style=\"padding-left: 1em; padding-right: 1em; text-align: center; vertical-align: top\">southern_us</td>\n",
       "        <td style=\"padding-left: 1em; padding-right: 1em; text-align: center; vertical-align: top\">25693</td>\n",
       "        <td style=\"padding-left: 1em; padding-right: 1em; text-align: center; vertical-align: top\">[plain flour, ground<br>pepper, salt, tomatoes, ...</td>\n",
       "        <td style=\"padding-left: 1em; padding-right: 1em; text-align: center; vertical-align: top\">[flour, pepper, tomato,<br>black pepper, thyme,  ...</td>\n",
       "    </tr>\n",
       "    <tr>\n",
       "        <td style=\"padding-left: 1em; padding-right: 1em; text-align: center; vertical-align: top\">filipino</td>\n",
       "        <td style=\"padding-left: 1em; padding-right: 1em; text-align: center; vertical-align: top\">20130</td>\n",
       "        <td style=\"padding-left: 1em; padding-right: 1em; text-align: center; vertical-align: top\">[eggs, pepper, salt,<br>mayonaise, cooking oil, ...</td>\n",
       "        <td style=\"padding-left: 1em; padding-right: 1em; text-align: center; vertical-align: top\">[egg, pepper, mayonaise,<br>cooking oil, green ...</td>\n",
       "    </tr>\n",
       "    <tr>\n",
       "        <td style=\"padding-left: 1em; padding-right: 1em; text-align: center; vertical-align: top\">indian</td>\n",
       "        <td style=\"padding-left: 1em; padding-right: 1em; text-align: center; vertical-align: top\">22213</td>\n",
       "        <td style=\"padding-left: 1em; padding-right: 1em; text-align: center; vertical-align: top\">[water, vegetable oil,<br>wheat, salt] ...</td>\n",
       "        <td style=\"padding-left: 1em; padding-right: 1em; text-align: center; vertical-align: top\">[water, vegetable oil,<br>wheat] ...</td>\n",
       "    </tr>\n",
       "    <tr>\n",
       "        <td style=\"padding-left: 1em; padding-right: 1em; text-align: center; vertical-align: top\">indian</td>\n",
       "        <td style=\"padding-left: 1em; padding-right: 1em; text-align: center; vertical-align: top\">13162</td>\n",
       "        <td style=\"padding-left: 1em; padding-right: 1em; text-align: center; vertical-align: top\">[black pepper, shallots,<br>cornflour, cayenne ...</td>\n",
       "        <td style=\"padding-left: 1em; padding-right: 1em; text-align: center; vertical-align: top\">[black pepper, shallot,<br>cornflour, cayenne ...</td>\n",
       "    </tr>\n",
       "    <tr>\n",
       "        <td style=\"padding-left: 1em; padding-right: 1em; text-align: center; vertical-align: top\">jamaican</td>\n",
       "        <td style=\"padding-left: 1em; padding-right: 1em; text-align: center; vertical-align: top\">6602</td>\n",
       "        <td style=\"padding-left: 1em; padding-right: 1em; text-align: center; vertical-align: top\">[plain flour, sugar,<br>butter, eggs, fresh ...</td>\n",
       "        <td style=\"padding-left: 1em; padding-right: 1em; text-align: center; vertical-align: top\">[flour, sugar, butter,<br>egg, ginger, cinnamon, ...</td>\n",
       "    </tr>\n",
       "    <tr>\n",
       "        <td style=\"padding-left: 1em; padding-right: 1em; text-align: center; vertical-align: top\">spanish</td>\n",
       "        <td style=\"padding-left: 1em; padding-right: 1em; text-align: center; vertical-align: top\">42779</td>\n",
       "        <td style=\"padding-left: 1em; padding-right: 1em; text-align: center; vertical-align: top\">[olive oil, salt, medium<br>shrimp, pepper, garlic, ...</td>\n",
       "        <td style=\"padding-left: 1em; padding-right: 1em; text-align: center; vertical-align: top\">[olive oil, shrimp,<br>pepper, garlic, cilan ...</td>\n",
       "    </tr>\n",
       "    <tr>\n",
       "        <td style=\"padding-left: 1em; padding-right: 1em; text-align: center; vertical-align: top\">italian</td>\n",
       "        <td style=\"padding-left: 1em; padding-right: 1em; text-align: center; vertical-align: top\">3735</td>\n",
       "        <td style=\"padding-left: 1em; padding-right: 1em; text-align: center; vertical-align: top\">[sugar, pistachio nuts,<br>white almond bark, fl ...</td>\n",
       "        <td style=\"padding-left: 1em; padding-right: 1em; text-align: center; vertical-align: top\">[sugar, pistachio nut,<br>white almond bark, fl ...</td>\n",
       "    </tr>\n",
       "    <tr>\n",
       "        <td style=\"padding-left: 1em; padding-right: 1em; text-align: center; vertical-align: top\">mexican</td>\n",
       "        <td style=\"padding-left: 1em; padding-right: 1em; text-align: center; vertical-align: top\">16903</td>\n",
       "        <td style=\"padding-left: 1em; padding-right: 1em; text-align: center; vertical-align: top\">[olive oil, purple onion,<br>fresh pineapple, pork, ...</td>\n",
       "        <td style=\"padding-left: 1em; padding-right: 1em; text-align: center; vertical-align: top\">[olive oil, purple onion,<br>pineapple, pork, poblano ...</td>\n",
       "    </tr>\n",
       "    <tr>\n",
       "        <td style=\"padding-left: 1em; padding-right: 1em; text-align: center; vertical-align: top\">italian</td>\n",
       "        <td style=\"padding-left: 1em; padding-right: 1em; text-align: center; vertical-align: top\">12734</td>\n",
       "        <td style=\"padding-left: 1em; padding-right: 1em; text-align: center; vertical-align: top\">[chopped tomatoes, fresh<br>basil, garlic, extra- ...</td>\n",
       "        <td style=\"padding-left: 1em; padding-right: 1em; text-align: center; vertical-align: top\">[tomato, basil, garlic,<br>extra-virgin olive oil, ...</td>\n",
       "    </tr>\n",
       "</table>\n",
       "[39774 rows x 4 columns]<br/>Note: Only the head of the SFrame is printed.<br/>You can use print_rows(num_rows=m, num_columns=n) to print more rows and columns.\n",
       "</div>"
      ],
      "text/plain": [
       "Columns:\n",
       "\tcuisine\tstr\n",
       "\tid\tint\n",
       "\tingredients\tlist\n",
       "\tX4\tlist\n",
       "\n",
       "Rows: 39774\n",
       "\n",
       "Data:\n",
       "+-------------+-------+-------------------------------+\n",
       "|   cuisine   |   id  |          ingredients          |\n",
       "+-------------+-------+-------------------------------+\n",
       "|    greek    | 10259 | [romaine lettuce, black ol... |\n",
       "| southern_us | 25693 | [plain flour, ground peppe... |\n",
       "|   filipino  | 20130 | [eggs, pepper, salt, mayon... |\n",
       "|    indian   | 22213 | [water, vegetable oil, whe... |\n",
       "|    indian   | 13162 | [black pepper, shallots, c... |\n",
       "|   jamaican  |  6602 | [plain flour, sugar, butte... |\n",
       "|   spanish   | 42779 | [olive oil, salt, medium s... |\n",
       "|   italian   |  3735 | [sugar, pistachio nuts, wh... |\n",
       "|   mexican   | 16903 | [olive oil, purple onion, ... |\n",
       "|   italian   | 12734 | [chopped tomatoes, fresh b... |\n",
       "+-------------+-------+-------------------------------+\n",
       "+-------------------------------+\n",
       "|               X4              |\n",
       "+-------------------------------+\n",
       "| [romaine lettuce, black ol... |\n",
       "| [flour, pepper, tomato, bl... |\n",
       "| [egg, pepper, mayonaise, c... |\n",
       "| [water, vegetable oil, wheat] |\n",
       "| [black pepper, shallot, co... |\n",
       "| [flour, sugar, butter, egg... |\n",
       "| [olive oil, shrimp, pepper... |\n",
       "| [sugar, pistachio nut, whi... |\n",
       "| [olive oil, purple onion, ... |\n",
       "| [tomato, basil, garlic, ex... |\n",
       "+-------------------------------+\n",
       "[39774 rows x 4 columns]\n",
       "Note: Only the head of the SFrame is printed.\n",
       "You can use print_rows(num_rows=m, num_columns=n) to print more rows and columns."
      ]
     },
     "execution_count": 10,
     "metadata": {},
     "output_type": "execute_result"
    }
   ],
   "source": [
    "data.add_column(temp)"
   ]
  },
  {
   "cell_type": "code",
   "execution_count": 11,
   "metadata": {
    "collapsed": false,
    "scrolled": true
   },
   "outputs": [
    {
     "data": {
      "text/html": [
       "<div style=\"max-height:1000px;max-width:1500px;overflow:auto;\"><table frame=\"box\" rules=\"cols\">\n",
       "    <tr>\n",
       "        <th style=\"padding-left: 1em; padding-right: 1em; text-align: center\">cuisine</th>\n",
       "        <th style=\"padding-left: 1em; padding-right: 1em; text-align: center\">id</th>\n",
       "        <th style=\"padding-left: 1em; padding-right: 1em; text-align: center\">ingredients</th>\n",
       "        <th style=\"padding-left: 1em; padding-right: 1em; text-align: center\">clean_ingredients</th>\n",
       "    </tr>\n",
       "    <tr>\n",
       "        <td style=\"padding-left: 1em; padding-right: 1em; text-align: center; vertical-align: top\">greek</td>\n",
       "        <td style=\"padding-left: 1em; padding-right: 1em; text-align: center; vertical-align: top\">10259</td>\n",
       "        <td style=\"padding-left: 1em; padding-right: 1em; text-align: center; vertical-align: top\">[romaine lettuce, black<br>olives, grape tomatoes, ...</td>\n",
       "        <td style=\"padding-left: 1em; padding-right: 1em; text-align: center; vertical-align: top\">[romaine lettuce, black<br>olive, grape tomato, ...</td>\n",
       "    </tr>\n",
       "    <tr>\n",
       "        <td style=\"padding-left: 1em; padding-right: 1em; text-align: center; vertical-align: top\">southern_us</td>\n",
       "        <td style=\"padding-left: 1em; padding-right: 1em; text-align: center; vertical-align: top\">25693</td>\n",
       "        <td style=\"padding-left: 1em; padding-right: 1em; text-align: center; vertical-align: top\">[plain flour, ground<br>pepper, salt, tomatoes, ...</td>\n",
       "        <td style=\"padding-left: 1em; padding-right: 1em; text-align: center; vertical-align: top\">[flour, pepper, tomato,<br>black pepper, thyme,  ...</td>\n",
       "    </tr>\n",
       "    <tr>\n",
       "        <td style=\"padding-left: 1em; padding-right: 1em; text-align: center; vertical-align: top\">filipino</td>\n",
       "        <td style=\"padding-left: 1em; padding-right: 1em; text-align: center; vertical-align: top\">20130</td>\n",
       "        <td style=\"padding-left: 1em; padding-right: 1em; text-align: center; vertical-align: top\">[eggs, pepper, salt,<br>mayonaise, cooking oil, ...</td>\n",
       "        <td style=\"padding-left: 1em; padding-right: 1em; text-align: center; vertical-align: top\">[egg, pepper, mayonaise,<br>cooking oil, green ...</td>\n",
       "    </tr>\n",
       "    <tr>\n",
       "        <td style=\"padding-left: 1em; padding-right: 1em; text-align: center; vertical-align: top\">indian</td>\n",
       "        <td style=\"padding-left: 1em; padding-right: 1em; text-align: center; vertical-align: top\">22213</td>\n",
       "        <td style=\"padding-left: 1em; padding-right: 1em; text-align: center; vertical-align: top\">[water, vegetable oil,<br>wheat, salt] ...</td>\n",
       "        <td style=\"padding-left: 1em; padding-right: 1em; text-align: center; vertical-align: top\">[water, vegetable oil,<br>wheat] ...</td>\n",
       "    </tr>\n",
       "    <tr>\n",
       "        <td style=\"padding-left: 1em; padding-right: 1em; text-align: center; vertical-align: top\">indian</td>\n",
       "        <td style=\"padding-left: 1em; padding-right: 1em; text-align: center; vertical-align: top\">13162</td>\n",
       "        <td style=\"padding-left: 1em; padding-right: 1em; text-align: center; vertical-align: top\">[black pepper, shallots,<br>cornflour, cayenne ...</td>\n",
       "        <td style=\"padding-left: 1em; padding-right: 1em; text-align: center; vertical-align: top\">[black pepper, shallot,<br>cornflour, cayenne ...</td>\n",
       "    </tr>\n",
       "    <tr>\n",
       "        <td style=\"padding-left: 1em; padding-right: 1em; text-align: center; vertical-align: top\">jamaican</td>\n",
       "        <td style=\"padding-left: 1em; padding-right: 1em; text-align: center; vertical-align: top\">6602</td>\n",
       "        <td style=\"padding-left: 1em; padding-right: 1em; text-align: center; vertical-align: top\">[plain flour, sugar,<br>butter, eggs, fresh ...</td>\n",
       "        <td style=\"padding-left: 1em; padding-right: 1em; text-align: center; vertical-align: top\">[flour, sugar, butter,<br>egg, ginger, cinnamon, ...</td>\n",
       "    </tr>\n",
       "    <tr>\n",
       "        <td style=\"padding-left: 1em; padding-right: 1em; text-align: center; vertical-align: top\">spanish</td>\n",
       "        <td style=\"padding-left: 1em; padding-right: 1em; text-align: center; vertical-align: top\">42779</td>\n",
       "        <td style=\"padding-left: 1em; padding-right: 1em; text-align: center; vertical-align: top\">[olive oil, salt, medium<br>shrimp, pepper, garlic, ...</td>\n",
       "        <td style=\"padding-left: 1em; padding-right: 1em; text-align: center; vertical-align: top\">[olive oil, shrimp,<br>pepper, garlic, cilan ...</td>\n",
       "    </tr>\n",
       "    <tr>\n",
       "        <td style=\"padding-left: 1em; padding-right: 1em; text-align: center; vertical-align: top\">italian</td>\n",
       "        <td style=\"padding-left: 1em; padding-right: 1em; text-align: center; vertical-align: top\">3735</td>\n",
       "        <td style=\"padding-left: 1em; padding-right: 1em; text-align: center; vertical-align: top\">[sugar, pistachio nuts,<br>white almond bark, fl ...</td>\n",
       "        <td style=\"padding-left: 1em; padding-right: 1em; text-align: center; vertical-align: top\">[sugar, pistachio nut,<br>white almond bark, fl ...</td>\n",
       "    </tr>\n",
       "    <tr>\n",
       "        <td style=\"padding-left: 1em; padding-right: 1em; text-align: center; vertical-align: top\">mexican</td>\n",
       "        <td style=\"padding-left: 1em; padding-right: 1em; text-align: center; vertical-align: top\">16903</td>\n",
       "        <td style=\"padding-left: 1em; padding-right: 1em; text-align: center; vertical-align: top\">[olive oil, purple onion,<br>fresh pineapple, pork, ...</td>\n",
       "        <td style=\"padding-left: 1em; padding-right: 1em; text-align: center; vertical-align: top\">[olive oil, purple onion,<br>pineapple, pork, poblano ...</td>\n",
       "    </tr>\n",
       "    <tr>\n",
       "        <td style=\"padding-left: 1em; padding-right: 1em; text-align: center; vertical-align: top\">italian</td>\n",
       "        <td style=\"padding-left: 1em; padding-right: 1em; text-align: center; vertical-align: top\">12734</td>\n",
       "        <td style=\"padding-left: 1em; padding-right: 1em; text-align: center; vertical-align: top\">[chopped tomatoes, fresh<br>basil, garlic, extra- ...</td>\n",
       "        <td style=\"padding-left: 1em; padding-right: 1em; text-align: center; vertical-align: top\">[tomato, basil, garlic,<br>extra-virgin olive oil, ...</td>\n",
       "    </tr>\n",
       "</table>\n",
       "[39774 rows x 4 columns]<br/>Note: Only the head of the SFrame is printed.<br/>You can use print_rows(num_rows=m, num_columns=n) to print more rows and columns.\n",
       "</div>"
      ],
      "text/plain": [
       "Columns:\n",
       "\tcuisine\tstr\n",
       "\tid\tint\n",
       "\tingredients\tlist\n",
       "\tclean_ingredients\tlist\n",
       "\n",
       "Rows: 39774\n",
       "\n",
       "Data:\n",
       "+-------------+-------+-------------------------------+\n",
       "|   cuisine   |   id  |          ingredients          |\n",
       "+-------------+-------+-------------------------------+\n",
       "|    greek    | 10259 | [romaine lettuce, black ol... |\n",
       "| southern_us | 25693 | [plain flour, ground peppe... |\n",
       "|   filipino  | 20130 | [eggs, pepper, salt, mayon... |\n",
       "|    indian   | 22213 | [water, vegetable oil, whe... |\n",
       "|    indian   | 13162 | [black pepper, shallots, c... |\n",
       "|   jamaican  |  6602 | [plain flour, sugar, butte... |\n",
       "|   spanish   | 42779 | [olive oil, salt, medium s... |\n",
       "|   italian   |  3735 | [sugar, pistachio nuts, wh... |\n",
       "|   mexican   | 16903 | [olive oil, purple onion, ... |\n",
       "|   italian   | 12734 | [chopped tomatoes, fresh b... |\n",
       "+-------------+-------+-------------------------------+\n",
       "+-------------------------------+\n",
       "|       clean_ingredients       |\n",
       "+-------------------------------+\n",
       "| [romaine lettuce, black ol... |\n",
       "| [flour, pepper, tomato, bl... |\n",
       "| [egg, pepper, mayonaise, c... |\n",
       "| [water, vegetable oil, wheat] |\n",
       "| [black pepper, shallot, co... |\n",
       "| [flour, sugar, butter, egg... |\n",
       "| [olive oil, shrimp, pepper... |\n",
       "| [sugar, pistachio nut, whi... |\n",
       "| [olive oil, purple onion, ... |\n",
       "| [tomato, basil, garlic, ex... |\n",
       "+-------------------------------+\n",
       "[39774 rows x 4 columns]\n",
       "Note: Only the head of the SFrame is printed.\n",
       "You can use print_rows(num_rows=m, num_columns=n) to print more rows and columns."
      ]
     },
     "execution_count": 11,
     "metadata": {},
     "output_type": "execute_result"
    }
   ],
   "source": [
    "data.rename({'X4':'clean_ingredients'})"
   ]
  },
  {
   "cell_type": "markdown",
   "metadata": {},
   "source": [
    "# Checking data for Power Law Distribution"
   ]
  },
  {
   "cell_type": "code",
   "execution_count": 12,
   "metadata": {
    "collapsed": false
   },
   "outputs": [
    {
     "data": {
      "text/plain": [
       "Counter({'garlic': 11168, 'onion': 10246, 'olive oil': 7972, 'butter': 7697, 'black pepper': 7627, 'water': 7459, 'sugar': 7283, 'garlic clove': 7110, 'egg': 6360, 'flour': 6134, 'tomato': 6086, 'cilantro': 5662, 'ginger': 5187, 'chicken': 5140, 'pepper': 4824, 'cumin': 4635, 'vegetable oil': 4385, 'soy sauce': 4380, 'lemon': 4319, 'lime': 3954, 'green onion': 3550, 'carrot': 3188, 'milk': 3169, 'kosher': 3113, 'parmesan cheese': 2815, 'basil': 2807, 'extra-virgin olive oil': 2747, 'parsley': 2649, 'oregano': 2633, 'chicken broth': 2285, 'brown sugar': 2244, 'chili': 2230, 'thyme': 2221, 'coriander': 2152, 'sesame oil': 1974, 'oil': 1970, 'red bell pepper': 1939, 'cinnamon': 1927, 'shrimp': 1902, 'bay': 1896, 'purple onion': 1896, 'scallion': 1891, 'red pepper': 1822, 'corn starch': 1757, 'baking': 1738, 'jalapeno chilies': 1730, 'cayenne pepper': 1662, 'beef': 1605, 'sour cream': 1594, 'white wine': 1585, 'celery': 1508, 'shallot': 1500, 'cooking spray': 1490, 'cream': 1454, 'green bell pepper': 1448, 'paprika': 1309, 'honey': 1299, 'vanilla extract': 1298, 'spinach': 1283, 'fish sauce': 1247, 'avocado': 1235, 'canola oil': 1223, 'rice vinegar': 1204, 'yellow onion': 1203, 'cheddar cheese': 1194, 'red pepper flake': 1174, 'mint': 1159, 'tomato paste': 1159, 'mushroom': 1123, 'egg yolk': 1117, 'white sugar': 1114, 'chicken stock': 1098, 'flat parsley': 1094, 'nutmeg': 1091, 'curry': 1063, 'orange': 1054, 'potato': 1047, 'clove': 1047, 'coconut milk': 1012, 'salsa': 969, 'corn tortilla': 965, 'turmeric': 962, 'freshly pepper': 949, 'mozzarella cheese': 942, 'baking soda': 942, 'black bean': 938, 'egg white': 938, 'green chilies': 932, 'garam masala': 926, 'zucchini': 922, 'pork': 912, 'flour tortilla': 884, 'tomato sauce': 869, 'buttermilk': 863, 'plum tomato': 858, 'whipping cream': 841, 'cucumber': 798, 'white pepper': 787, 'mayonaise': 781, 'bread crumb': 779, 'tumeric': 763, 'red wine vinegar': 752, 'rosemary': 748, 'sesame': 704, 'worcestershire sauce': 702, 'white onion': 684, 'hot sauce': 674, 'bacon': 659, 'fennel': 654, 'mustard': 652, 'coarse': 646, 'cinnamon stick': 646, 'red chili pepper': 644, 'feta cheese': 626, 'pea': 624, 'cheese': 613, 'cream cheese': 610, 'peanut oil': 610, 'lemon zest': 591, 'corn': 583, 'warm water': 577, 'balsamic vinegar': 574, 'lettuce': 568, 'celery rib': 567, 'white vinegar': 554, 'rice': 552, 'chive': 552, 'caper': 541, 'cabbage': 539, 'red wine': 538, 'pecan': 533, 'cardamom': 531, 'allspice': 519, 'dijon mustard': 513, 'eggplant': 507, 'cold water': 506, 'mirin': 503, 'powdered sugar': 501, 'chile': 498, 'almond': 498, 'yogurt': 484, 'cooking oil': 483, 'lime wedge': 482, 'le chicken broth': 479, 'cayenne': 470, 'raisin': 460, 'sauce': 458, 'finely onion': 457, 'oyster sauce': 455, 'sweet potato': 455, 'beansprouts': 454, 'black peppercorn': 453, 'corn kernel': 441, 'green bean': 439, 'leek': 439, 'cherry tomato': 436, 'vegetable broth': 436, 'ketchup': 432, 'hoisin sauce': 429, 'chickpea': 424, 'bell pepper': 422, 'sage': 421, 'beef broth': 414, 'peanut': 411, 'cracked black pepper': 408, 'spring onion': 407, 'cooked chicken': 407, 'confectioner sugar': 395, 'italian seasoning': 395, 'black olive': 390, 'cooked rice': 387, 'cajun seasoning': 377, 'active yeast': 377, 'green pepper': 373, 'cornmeal': 368, 'lemongrass': 364, 'sherry': 363, 'dill': 363, 'hot water': 356, 'toasted sesame oil': 355, 'pasta': 354, 'parmigiano reggiano cheese': 353, 'long-grain rice': 353, 'ricotta cheese': 352, 'white wine vinegar': 352, 'boiling water': 350, 'pinenuts': 348, 'cider vinegar': 348, 'smoked paprika': 345, 'sake': 345, 'chile pepper': 345, 'turkey': 344, 'spaghetti': 342, 'yellow corn meal': 341, 'half & half': 337, 'sweet onion': 336, 'shiitake': 331, 'basmati rice': 326, 'coconut': 324, 'tomatillo': 322, 'vanilla': 322, 'okra': 321, 'sharp cheddar cheese': 321, 'vinegar': 316, 'Monterey Jack cheese': 314, 'yeast': 313, 'romaine lettuce': 311, 'fine': 309, 'ghee': 307, 'hot pepper sauce': 306, 'rice noodle': 305, 'tortilla chip': 304, 'green chile': 302, 'serrano chile': 299, 'Sriracha': 298, 'enchilada sauce': 295, 'toasted sesame': 294, 'pineapple': 294, 'arborio rice': 292, 'yellow bell pepper': 291, 'prosciutto': 285, 'ham': 284, 'radish': 284, 'garlic paste': 282, 'taco seasoning': 279, 'saffron thread': 277, 'walnut': 277, 'long grain white rice': 277, 'melted butter': 276, 'creole seasoning': 276, 'peach': 276, 'mango': 275, 'asparagus': 273, 'sweetened condensed milk': 271, 'baguette': 270, 'seasoning': 270, 'vegetable': 269, 'apple cider vinegar': 268, 'banana': 267, 'andouille sausage': 267, 'pasta sauce': 267, 'russet potato': 266, 'unsweetened cocoa': 266, 'Shaoxing wine': 264, 'corn syrup': 263, 'vegetable oil cooking spray': 260, 'star anise': 259, 'flank steak': 258, 'white rice': 258, 'red chili': 253, 'chinese five-spice': 253, 'refried bean': 250, 'greek yogurt': 250, 'yoghurt': 250, 'linguine': 248, 'broccoli': 243, 'napa cabbage': 243, 'anchovy': 241, 'golden raisin': 240, 'roasted peanut': 239, 'roasted red pepper': 239, 'low-fat milk': 237, 'monterey jack': 235, 'strawberry': 234, 'tarragon': 234, 'salmon': 231, 'apple': 230, 'marinara sauce': 229, 'shortening': 229, 'pork tenderloin': 229, 'beer': 229, 'grape tomato': 228, 'rom tomato': 227, 'part-skim mozzarella cheese': 227, 'lemon wedge': 225, 'noodle': 225, 'arugula': 224, 'margarine': 224, 'thai chile': 223, 'cauliflower': 223, 'green pea': 222, 'tortilla': 222, 'coconut oil': 221, 'rice wine': 221, 'lemon peel': 221, 'lamb': 221, 'shiitake mushroom': 220, 'firm tofu': 220, 'cashew nut': 218, 'yukon gold potato': 218, 'tomato pur\\xc3\\xa9e': 217, 'wheat flour': 216, 'cilantro sprig': 215, 'pork shoulder': 214, 'thyme sprig': 212, 'bacon slice': 212, 'lasagna noodle': 209, 'saffron': 209, 'green cabbage': 208, 'evaporated milk': 208, 'rum': 207, 'baking potato': 207, 'red potato': 205, 'broccoli floret': 205, 'bok choy': 205, 'pitted kalamata olive': 204, 'spice': 204, 'cannellini bean': 203, 'vegetable stock': 203, 'pinto bean': 203, 'brown rice': 202, 'bourbon whiskey': 199, 'water chestnut': 196, 'black-eyed pea': 196, 'kalamata': 196, 'sausage': 195, 'apricot': 194, 'bread flour': 193, 'self rising flour': 193, 'chipotle in adobo': 193, 'couscous': 192, 'chipotle chile': 192, 'reduced chicken broth': 192, 'french bread': 192, 'unsweetened coconut milk': 191, 'english cucumber': 189, 'clam': 186, 'snow pea': 185, 'guacamole': 185, 'Tabasco Pepper Sauce': 184, 'grit': 184, 'mozzarella': 184, 'raspberry': 183, 'green olive': 182, 'taco seasoning mix': 181, 'kale': 180, 'cake flour': 179, 'all purpose unbleached flour': 179, 'thai basil': 178, 'penne pasta': 178, 'green': 178, 'jack cheese': 178, 'pancetta': 177, 'meat': 177, 'kidney bean': 175, 'mussel': 175, 'bread': 175, 'butternut squash': 174, 'Mexican cheese blend': 174, 'almond extract': 173, 'collard green': 172, 'hot red pepper flake': 171, 'pure vanilla extract': 169, 'goat cheese': 169, 'brandy': 169, 'beef stock': 169, 'fenugreek': 168, 'vanilla bean': 168, 'marjoram': 168, 'peppercorn': 168, 'fish': 168, 'slivered almond': 167, 'herb': 166, 'olive': 166, 'green cardamom': 166, 'provolone cheese': 165, 'ice water': 164, 'semisweet chocolate': 164, 'iceberg lettuce': 164, 'button mushroom': 163, 'sun-dried tomato': 161, 'ice': 161, 'sherry vinegar': 160, 'cream of tartar': 159, 'fettucine': 159, 'scallop': 158, 'chili flake': 158, 'wonton wrapper': 158, 'asian fish sauce': 158, 'pecorino romano cheese': 157, 'reduced soy sauce': 157, 'lard': 157, 'poblano chile': 155, 'jasmine rice': 152, 'orange zest': 152, 'garbanzo bean': 150, 'daikon': 150, 'mascarpone': 149, 'chili sauce': 148, 'artichoke heart': 148, 'polenta': 148, 'firmly packed brown sugar': 147, 'cooked white rice': 145, 'cr\\xc3\\xa8me fra\\xc3\\xaeche': 145, 'panko breadcrumb': 144, 'dashi': 144, 'ancho chile pepper': 143, 'cream cheese , soften': 143, 'cotija': 143, 'Gochujang base': 142, 'szechwan peppercorn': 142, 'currant': 142, 'pimento': 141, 'queso fresco': 141, 'bittersweet chocolate': 140, 'parsley sprig': 140, 'molasses': 139, 'smoked sausage': 139, 'kaffir lime': 139, 'tofu': 138, 'cremini mushroom': 138, 'vegetable shortening': 138, 'lime zest': 137, 'italian sausage': 137, 'extra firm tofu': 137, 'bamboo shoot': 137, 'salsa verde': 135, 'orange peel': 135, 'red cabbage': 134, 'sweet paprika': 134, 'tequila': 133, 'non-fat sour cream': 133, 'pork loin': 133, 'chicken wing': 133, 'lentil': 132, 'mint sprig': 131, 'chinese rice wine': 131, 'rice flour': 130, 'caster sugar': 130, 'white bread': 130, 'garlic chili sauce': 130, 'ice cube': 130, 'romano cheese': 128, 'catfish': 128, 'Thai red curry paste': 127, 'barbecue sauce': 126, 'peanut butter': 126, 'chili pepper': 126, 'part-skim ricotta cheese': 125, 'Italian parsley': 125, 'canned chicken broth': 124, 'pork belly': 124, 'red curry paste': 122, 'pizza dough': 122, 'palm sugar': 122, 'chili paste': 122, 'chilli': 121, 'corn oil': 121, 'poblano pepper': 121, 'marsala wine': 121, 'ginger paste': 119, 'gingerroot': 119, 'granny smith apple': 119, 'crawfish': 118, 'anise': 118, 'Italian bread': 118, 'kimchi': 118, 'pesto': 118, 'greek style yogurt': 117, 'lump crab meat': 117, 'pork sausage': 117, 'yellow squash': 116, 'quinoa': 116, 'turnip': 115, 'vidalia onion': 115, 'chuck': 114, 'penne': 113, 'watercress': 112, 'sweet chili sauce': 112, 'black mustard': 112, 'pear': 111, 'creamy peanut butter': 111, 'maple syrup': 110, 'paneer': 110, 'low-fat yogurt': 110, 'red lentil': 110, 'duck': 110, 'bean': 109, 'sausage casing': 109, 'beet': 109, 'chili oil': 109, 'pumpkin': 108, 'unflavored gelatin': 108, 'Thai fish sauce': 108, 'green tomato': 108, 'rosemary sprig': 108, 'fontina cheese': 107, 'kernel corn , drain': 106, 'curry paste': 106, 'pastry puff sheet': 106, 'of lamb': 106, 'asafoetida': 106, 'reduced-fat sour cream': 105, 'freshly parmesan': 105, 'hazelnut': 105, 'cranberry': 105, 'dough': 105, 'ricotta': 105, 'serrano pepper': 104, 'hard-boiled egg': 104, 'egg noodle': 104, 'sugar pea': 104, 'cornflour': 103, 'whipped cream': 103, 'bow-tie pasta': 103, 'prawn': 103, 'red chile pepper': 103, 'cocoa': 103, 'chorizo sausage': 103, 'swiss chard': 103, 'tilapia': 102, 'nori': 101, 'swiss cheese': 101, 'masa harina': 100, 'Mexican oregano': 100, 'red kidney bean': 100, 'lemon grass': 100, 'porcini mushroom': 100, 'chicken piece': 100, 'cottage cheese': 100, 'broth': 99, 'boiling potato': 99, 'gruyere cheese': 99, 'old bay seasoning': 98, 'seasoned bread crumb': 98, 'blanched almond': 97, 'sunflower oil': 97, 'espresso': 97, 'angel hair': 96, 'adobo sauce': 94, 'wheat tortilla': 94, 'cognac': 94, 'orange bell pepper': 93, 'blackberry': 93, 'vanilla ice cream': 93, 'rice vermicelli': 93, 'corn husk': 93, 'cooked shrimp': 92, 'sirloin': 92, 'ripe olive': 92, 'coffee': 91, 'stock': 91, 'orzo': 91, 'halibut': 91, 'elbow macaroni': 90, 'cod': 90, 'tamari soy sauce': 90, 'chuck roast': 90, 'blueberry': 89, 'ancho': 89, 'roll': 88, 'jicama': 88, 'amchur': 87, 'chocolate': 87, 'caraway': 86, 'cooked ham': 86, 'tomato with': 86, 'quickcooking grit': 86, 'galangal': 85, 'canned tomato': 85, 'asiago': 85, 'pearl onion': 85, 'white cornmeal': 85, 'squid': 85, 'mung bean sprout': 85, 'lamb shoulder': 84, 'finely parsley': 84, 'kernel corn': 84, 'vegetable oil spray': 84, 'tamarind paste': 84, 'cream of chicken soup': 83, 'golden brown sugar': 83, 'cream style corn': 83, 'agave nectar': 83, 'panko': 83, 'yellow mustard': 82, 'low-fat buttermilk': 82, 'fruit': 82, 'pepper jack': 82, 'sirloin steak': 82, 'skim milk': 81, 'mace': 81, 'sushi rice': 81, 'serrano chilies': 81, 'marinade': 81, 'pizza sauce': 80, 'crabmeat': 80, 'bonito flake': 80, 'small red potato': 79, 'grapeseed oil': 79, 'white bean': 79, 'canned black bean': 79, 'pico de gallo': 79, 'table': 79, 'chicken bouillon': 78, 'sweet italian sausage': 78, 'lime rind': 78, 'guajillo chile': 78, 'skimmed chicken broth': 78, 'pistachio': 78, 'coconut cream': 77, 'salted butter': 77, 'artichoke': 77, 'hominy': 77, 'semi-sweet chocolate morsel': 77, 'veal': 76, 'white sesame': 76, 'reduced milk': 76, 'cauliflower floret': 75, 'nonfat yogurt': 74, 'vodka': 74, 'sweetened coconut flake': 74, 'plum': 74, 'condensed milk': 74, 'superfine sugar': 73, 'ranch dressing': 73, 'lima bean': 73, 'miso paste': 73, 'extra sharp cheddar cheese': 73, 'skirt steak': 73, 'steak': 72, 'prepared horseradish': 72, 'chorizo': 72, 'lemon rind': 72, 'egg substitute': 72, 'red food coloring': 71, 'beef rib short': 71, 'poppy': 71, 'cilantro stem': 71, 'white miso': 71, 'reduced-fat milk': 71, 'sweet corn': 71, 'cherry': 71, 'refrigerated piecrusts': 71, 'lower chicken broth': 71, 'cachaca': 70, 'corn flour': 70, 'chunky salsa': 70, 'lemon slice': 70, 'tomato ketchup': 69, 'masala': 69, 'white hominy': 69, 'rice paper': 69, 'salad dressing': 69, 'Mexican cheese': 68, 'chipotle pepper': 68, 'red bean': 68, 'soba noodle': 68, 'hot pepper': 68, 'urad dal': 68, 'parsnip': 68, 'portabello mushroom': 68, 'anchovy paste': 67, 'grating cheese': 67, 'curd': 67, 'pork butt': 67, 'phyllo dough': 67, 'bacon dripping': 66, 'brown mustard': 66, 'rigatoni': 66, 'konbu': 66, 'reduced cheddar cheese': 66, 'rotisserie chicken': 66, 'italian salad dressing': 66, 'date': 65, 'red enchilada sauce': 65, 'herbes de provence': 65, 'beef tenderloin': 65, 'creole mustard': 65, 'chicken liver': 65, 'udon': 64, 'crimini mushroom': 64, 'bass': 64, 'salad': 64, 'coarse kosher': 64, 'taco shell': 63, 'taco sauce': 63, 'jumbo shrimp': 63, 'shiitake mushroom cap': 63, 'pie crust': 63, 'dressing': 63, 'mashed potato': 63, 'preserved lemon': 63, 'littleneck clam': 62, 'sweet pepper': 62, 'low-fat sour cream': 62, 'poultry seasoning': 62, 'short-grain rice': 62, 'prune': 62, 'tahini': 62, 'smoked ham hock': 62, 'cooking wine': 62, 'condensed cream of chicken soup': 62, 'asparagus spear': 62, 'parmigiano-reggiano cheese': 61, 'oyster': 61, 'Gruy\\xc3\\xa8re cheese': 61, 'orange liqueur': 61, 'radicchio': 61, 'teriyaki sauce': 61, 'spring roll wrapper': 61, 'mayonnaise': 61, 'beef brisket': 61, 'scallion green': 61, 'roasting chicken': 61, 'ramen noodle': 60, 'white mushroom': 60, 'rotini': 60, 'escarole': 60, 'semolina': 60, 'bird chile': 60, 'manchego cheese': 60, 'liquid': 60, 'deveined shrimp': 60, 'seasoned rice wine vinegar': 60, 'fig': 59, 'sausage link': 59, 'fish stock': 59, 'potato starch': 59, 'dipping sauce': 59, 'rib': 59, 'semolina flour': 59, 'chinese cabbage': 59, 'roast peanut': 58, 'rib eye steak': 58, 'beaten egg': 58, 'salami': 58, 'mango chutney': 58, 'tomato salsa': 58, 'navel orange': 58, 'wine': 57, 'egg roll wrapper': 57, 'roasted tomato': 57, 'lower soy sauce': 57, 'pepper flake': 57, 'leav spinach': 57, 'nut': 57, 'seaweed': 57, 'shrimp paste': 56, 'savoy cabbage': 56, 'picante sauce': 56, 'salad oil': 56, 'thick-cut bacon': 56, 'chicken meat': 55, 'smoked salmon': 55, 'condensed cream of mushroom soup': 55, 'crab': 55, 'cheese tortellini': 55, 'pecorino cheese': 55, 'tamarind': 55, 'wasabi': 55, 'biscuit': 55, 'haricot verts': 54, 'tea bag': 54, 'whipped topping': 54, 'round': 54, 'Italian turkey sausage': 54, 'hamburger bun': 54, 'whitefish': 54, 'chutney': 53, 'reduced sharp cheddar cheese': 53, 'chip': 53, 'fusilli': 53, 'milk ricotta cheese': 53, 'japanese eggplant': 53, 'bone-in chicken': 53, 'pork loin chop': 53, 'horseradish': 52, 'tuna': 52, 'pork chop': 52, 'pomegranate': 52, 'sambal ulek': 52, 'pepperoni': 52, 'edamame': 51, 'yellow pepper': 51, 'artichok heart marin': 51, 'mustard green': 51, 'bottled clam': 51, 'Anaheim chile': 51, 'chicken bouillon granule': 51, 'spanish chorizo': 51, 'malt vinegar': 51, 'clarified butter': 51, 'kasuri methi': 51, 'rubbed sage': 51, 'lime slice': 51, 'chickpea flour': 51, 'puff pastry': 51, 'California bay': 50, 'seedless cucumber': 50, 'thai green curry paste': 50, 'nonstick spray': 50, 'lobster': 50, 'wild mushroom': 50, 'bread slice': 50, 'sourdough bread': 50, 'capsicum': 50, 'turbinado': 50, 'steamed rice': 50, 'gari': 50, 'great northern bean': 50, 'salad green': 49, 'pitted date': 49, 'miso': 49, 'asafetida': 49, 'file': 49, 'tapioca flour': 49, 'colby jack cheese': 49, 'green bell pepper , slice': 49, 'organic vegetable broth': 49, 'rocket': 49, 'cooked turkey': 48, 'lamb shank': 48, 'country ham': 48, 'broccoli rabe': 48, 'brewed coffee': 48, 'berry': 48, 'hot Italian sausage': 48, 'Alfredo sauce': 48, 'rice stick noodle': 47, 'pita': 47, 'enokitake': 47, 'spanish onion': 47, 'pitted black olive': 47, 'tuna steak': 47, 'red onion': 47, 'ladyfinger': 47, 'soft tofu': 47, 'olive oil flavored cooking spray': 47, 'roast red pepper , drain': 46, 'green curry paste': 46, 'black sesame': 46, 'chicken stock cube': 46, 'pastry': 46, 'country bread': 46, 'scotch bonnet chile': 46, 'white sandwich bread': 46, 'chaat masala': 45, 'flour for dusting': 45, 'vermouth': 45, 'beef stew meat': 45, 'new potato': 45, 'oven-ready lasagna noodle': 45, 'club soda': 45, 'flaked coconut': 45, 'chile paste': 45, 'asian pear': 44, 'silken tofu': 44, 'jumbo pasta shell': 44, 'parsley flake': 44, 'ham hock': 44, 'Chinese egg noodle': 44, 'french baguette': 44, 'butter lettuce': 44, 'pineapple chunk': 44, 'floret': 44, 'ra el hanout': 44, 'pizza crust': 44, 'cake': 44, 'ha avocado': 43, 'greek seasoning': 43, 'epazote': 43, 'chinese black vinegar': 43, 'processed cheese': 43, 'vinaigrette': 43, 'pickle': 43, 'orecchiette': 43, 'slaw mix': 43, 'hothouse cucumber': 43, 'orange marmalade': 42, 'dill pickle': 42, 'crusty bread': 42, 'orange rind': 42, 'won ton wrapper': 42, 'bone in chicken': 42, 'apple cider': 42, 'chipotle chile pepper': 42, 'simple syrup': 42, 'fava bean': 42, 'harissa': 42, 'grain mustard': 42, 'chicken finger': 42, 'shell': 42, 'cooked brown rice': 41, 'grape': 41, 'pitted green olive': 41, 'yam': 41, 'orange concentrate': 41, 'gnocchi': 41, 'crouton': 41, 'liqueur': 41, 'shell-on shrimp': 41, 'chicken cutlet': 41, 'tea': 41, 'sherry wine vinegar': 41, 'jaggery': 40, 'sprinkle': 40, 'roasted cashew': 40, 'ear of corn': 40, 'pita bread': 40, 'vermicelli': 40, 'double cream': 40, 'black vinegar': 40, 'hot chili': 40, 'nonfat greek yogurt': 40, 'white cheddar cheese': 40, 'homemade chicken stock': 40, 'almond flour': 40, 'brown cardamom': 40, 'cream sweeten whip': 39, 'wasabi paste': 39, 'watermelon': 39, 'bean paste': 39, 'chile sauce': 39, 'mushroom cap': 39, 'toasted almond': 39, 'cream of mushroom soup': 39, 'saltine': 39, 'toasted pine nut': 39, 'le beef broth': 39, 'brussels sprout': 39, 'chile de arbol': 39, 'glass noodle': 39, 'key lime': 38, 'corn tortilla chip': 38, 'white chocolate': 38, 'crystallized ginger': 38, 'self-rising cornmeal': 38, 'gai lan': 38, 'vietnamese fish sauce': 38, 'tapioca starch': 38, 'graham cracker crumb': 38, 'Belgian endive': 38, 'neutral oil': 38, 'fillet red snapper': 38, 'pork roast': 38, 'cracker': 38, 'plantain': 38, 'pork shoulder roast': 38, 'salted peanut': 38, 'crumbled gorgonzola': 37, 'chinese chive': 37, 'low-fat cottage cheese': 37, 'mini marshmallow': 37, 'brie cheese': 37, 'soft goat cheese': 37, 'coconut sugar': 37, 'base': 37, 'pimento stuffed green olive': 37, \"hellmann ' or best food real mayonnais\": 37, 'crumbled blue cheese': 37, 'range egg': 37, 'beef sirloin': 37, 'naan': 37, 'orange flower water': 37, 'basil pesto sauce': 37, 'bread dough': 37, 'lemon pepper': 37, 'hungarian sweet paprika': 37, 'phyllo pastry': 36, 'dillweed': 36, 'pepperoni slice': 36, 'sun-dried tomato in oil': 36, 'spaghetti squash': 36, 'unsweetened chocolate': 36, 'grate lime peel': 36, 'safflower oil': 36, 'Madras curry': 36, 'onion top': 36, 'fermented black bean': 36, 'bean thread': 36, 'chop fine pecan': 36, 'hot chili sauce': 36, 'macaroni': 36, 'oxtail': 36, 'crema': 36, ', chicken': 36, 'nonfat ricotta cheese': 35, 'wood ear mushroom': 35, 'dri leav thyme': 35, 'meat bone': 35, 'vanilla pudding': 35, 'American cheese': 35, 'triple sec': 35, 'chop pork': 35, 'vanilla wafer': 35, 'canola': 35, 'refrigerated pizza dough': 35, 'store bought chicken stock': 35, 'heirloom tomato': 35, 'beef shank': 34, 'italian plum tomato': 34, 'liquid smoke': 34, 'fresco queso': 34, 'grapefruit': 34, 'pepper sauce': 34, 'soup': 34, 'coffee granule': 34, 'mung bean': 34, 'soba': 34, 'papaya': 34, 'beef bouillon': 34, 'tamarind concentrate': 34, 'filet': 34, 'vine ripened tomato': 34, 'Madeira': 33, 'crab meat': 33, 'nonfat milk': 33, 'mexican chorizo': 33, 'chestnut': 33, 'oyster mushroom': 33, 'rice cake': 33, 'cornichons': 33, 'orzo pasta': 33, 'squash': 33, 'green tea': 33, 'spanish paprika': 33, 'smoked bacon': 33, 'salted roast peanut': 33, 'rolled oat': 33, 'poblano chilies': 33, 'gram flour': 33, 'steamed white rice': 33, 'pie shell': 32, 'corned beef': 32, 'serrano': 32, 'chayotes': 32, 'chow mein noodle': 32, 'cooked bacon': 32, 'prepared mustard': 32, 'raw cashew': 32, 'allspice berry': 32, 'mexican chocolate': 32, 'extra beef': 32, 'extra egg': 32, 'pickle relish': 32, 'sticky rice': 32, 'mandarin orange': 32, 'mustard oil': 32, 'chervil': 32, 'food colouring': 32, 'calamansi': 32, 'golden delicious apple': 32, 'powdered milk': 31, 'pearl barley': 31, 'cocktail cherry': 31, 'baked tortilla chip': 31, 'green lettuce': 31, 'waxy potato': 31, 'tangerine': 31, 'Irish whiskey': 31, 'mint flake': 31, 'green enchilada sauce': 31, 'cashew': 31, 'gorgonzola': 31, 'rotelle': 31, 'bay scallop': 31, 'black bean sauce': 31, 'frond': 31, 'corn chip': 31, 'pepper jack cheese': 31, 'syrup': 31, 'habanero pepper': 31, 'straw mushroom': 31, 'fettuccine pasta': 30, 'veggie': 30, 'Velveeta': 30, 'Italian seasoned breadcrumb': 30, 'prepar salsa': 30, 'gochugaru': 30, 'black tea': 30, 'loosely packed basil': 30, 'pork rib': 30, 'glutinous rice': 30, 'breakfast sausage': 30, 'coffee liqueur': 30, 'dumpling': 30, 'fat-free chicken broth': 30, 'wheat pastry flour': 30, 'chunky peanut butter': 30, 'Grand Marnier': 30, 'sweet rice flour': 30, 'whiskey': 30, 'pasta shell': 30, 'pitted olive': 30, 'golden syrup': 30, 'milk chocolate': 30, 'Mexican beer': 30, 'white flour': 30, 'beef stock cube': 30, 'pork back rib': 30, 'regular soy sauce': 30, 'dumpling wrapper': 30, 'raw sugar': 29, 'crema mexican': 29, 'beef tenderloin steak': 29, 'champagne vinegar': 29, 'ziti': 29, 'sauerkraut': 29, 'Japanese soy sauce': 29, 'tuna packed in olive oil': 29, 'navy bean': 29, 'wheat spaghetti': 29, 'sweet soy sauce': 29, 'genoa salami': 29, 'apricot preserve': 29, 'chicken tender': 29, 'starch': 29, 'msg': 29, 'brown lentil': 29, 'fontina': 29, 'pasilla chile': 29, 'red miso': 29, 'lo mein noodle': 28, 'short rib': 28, 'amaretto': 28, 'milk yoghurt': 28, 'cooked quinoa': 28, 'round steak': 28, 'serrano ham': 28, 'chili bean paste': 28, 'arrowroot': 28, 'shrimp uncook': 28, 'turnip green': 28, 'champagne': 28, 'crust': 28, 'kielbasa': 28, 'flatbread': 27, 'candied orange peel': 27, 'cooky': 27, 'masa': 27, 'Boston lettuce': 27, 'pickled jalapeno': 27, 'Ni\\xc3\\xa7oise olive': 27, 'jam': 27, 'dijon style mustard': 27, 'top round steak': 27, 'white button mushroom': 27, 'nutritional yeast': 27, 'white peppercorn': 27, 'top sirloin steak': 27, 'shiso': 27, 'shucked oyster': 27, 'chinese sausage': 27, 'pastry dough': 27, 'tomato in': 27, 'chile paste with garlic': 27, 'jeera': 27, 'pesto sauce': 27, 'bbq sauce': 27, 'soy milk': 27, 'roasted sesame': 27, 'veal shank': 26, 'green papaya': 26, 'pork shoulder boston butt': 26, 'mild cheddar cheese': 26, 'corn mix muffin': 26, 'kiwi': 26, 'flavoring': 26, 'wheat': 26, 'ricotta salata': 26, 'half half': 26, 'stout': 26, 'candy': 26, 'olive oil cooking spray': 26, 'rotel tomato': 26, 'reduced monterey jack cheese': 26, 'chicken tenderloin': 26, 'jack': 26, 'smoked gouda': 26, 'pie dough': 26, 'Guinness Beer': 26, 'kirby cucumber': 26, 'yellow split pea': 26, 'glutinous rice flour': 26, 'lasagna noodle , cooked drained': 26, 'pork sparerib': 25, 'refrigerated crescent roll': 25, 'wheat bread': 25, 'canned beef broth': 25, 'chili bean': 25, 'tiger prawn': 25, 'fleur de sel': 25, 'muscovado sugar': 25, 'toasted walnut': 25, 'toasted pecan': 25, 'garlic chive': 25, 'lemon extract': 25, 'part-skim mozzarella': 25, 'fat-free mayonnaise': 25, 'chicken quarter': 25, 'butter bean': 25, 'chipotle': 25, 'nectarine': 25, 'pure maple syrup': 25, 'clear honey': 25, 'bibb lettuce': 25, 'peach slice': 25, 'seedless red grape': 24, 'nigella': 24, 'mutton': 24, 'cantaloupe': 24, 'spaghettini': 24, 'meatball': 24, 'persian cucumber': 24, 'loin pork roast': 24, 'chilli paste': 24, 'hungarian paprika': 24, 'rice stick': 24, 'gravy': 24, 'grain dijon mustard': 24, 'stir fry vegetable blend': 24, 'bulgur': 24, 'beefsteak tomato': 24, 'passata': 24, 'colby cheese': 24, 'cheese ravioli': 24, 'tostada shell': 24, 'almond paste': 24, 'center cut pork chop': 24, 'rabbit': 24, 'shrimp stock': 24, 'stewing beef': 23, 'red lettuce': 23, 'butter-margarine blend': 23, 'white corn tortilla': 23, 'rhubarb': 23, 'hot dog': 23, 'dill weed': 23, 'coconut flake': 23, 'tomato basil sauce': 23, 'roasted garlic': 23, \"soft goat 's cheese\": 23, 'bacon grease': 23, 'rub': 23, 'ciabatta': 23, 'gluten': 23, 'tasso': 23, 'pastry shell': 23, 'moong dal': 23, 'bosc pear': 23, 'medjool date': 23, 'pimento stuffed olive': 23, 'lamb stock': 23, 'wine vinegar': 23, 'chana dal': 23, 'low-sodium fat-free chicken broth': 22, 'pumpkin pie spice': 22, 'piloncillo': 22, 'tagliatelle': 22, 'cold milk': 22, 'canadian bacon': 22, 'hummus': 22, 'nonfat evaporated milk': 22, 'graham cracker': 22, 'almond milk': 22, 'jamaican jerk season': 22, 'glaze': 22, 'irish cream liqueur': 22, 'coleslaw': 22, 'chocolate chip': 22, 'pistachio nut': 22, 'lamb loin chop': 22, 'broccolini': 22, 'roast': 22, 'blue cheese': 22, 'roasted hazelnut': 22, 'yardlong bean': 22, 'yellow food coloring': 22, 'red snapper': 22, 'Korean chile flake': 22, 'tamarind pulp': 22, 'pepperoncini': 22, 'chinkiang vinegar': 22, 'kelp': 22, 'spicy brown mustard': 22, 'lamb stew meat': 22, 'reduced mayonnaise': 22, 'crema mexicana': 22, 'ponzu': 22, 'swordfish steak': 22, 'chinese noodle': 22, 'apricot jam': 21, 'spinach , thawed squeezed': 21, 'farro': 21, 'guanciale': 21, 'calvados': 21, 'mild olive oil': 21, 'bawang goreng': 21, 'italian tomato': 21, 'medium-grain rice': 21, 'truffle oil': 21, 'buckwheat flour': 21, 'yellow corn': 21, 'pita bread round': 21, 'rose water': 21, 'bulk italian sausag': 21, 'slaw': 21, 'long grain brown rice': 21, 'methi': 21, 'olive oil spray': 21, 'applesauce': 21, 'double-acting baking': 21, 'shoyu': 21, 'pernod': 21, 'sweet cherry': 21, 'Dutch-processed cocoa': 21, 'Country Crock\\xc2\\xae Spread': 21, 'harissa paste': 21, 'fajita seasoning mix': 21, 'kahl\\xc3\\xbaa': 21, 'banana pepper': 21, 'bread ciabatta': 21, 'Maggi': 21, 'oil-cured black olive': 21, 'nopales': 21, 'Vietnamese coriander': 21, 'snapper': 21, 'pound cake': 21, 'soda': 21, 'pepitas': 21, 'veal cutlet': 21, 'jelly': 21, 'sweet rice': 21, 'ice cream': 21, 'chocolate morsel': 21, 'Italian cheese': 21, 'Tabasco Green Pepper Sauce': 21, 'tawny port': 21, 'pickling spice': 21, 'Philadelphia Cream Cheese': 21, 'juniper berry': 21, 'smoked turkey': 21, 'butter oil': 20, 'five-spice': 20, 'edamame bean': 20, 'soybean sprout': 20, 'pitted prune': 20, 'onion flake': 20, 'shahi jeera': 20, 'tortellini': 20, 'potato gnocchi': 20, 'cheese slice': 20, 'clove garlic , fine chop': 20, 'raspberry jam': 20, 'cornbread': 20, 'five spice': 20, 'mexicorn': 20, 'fingerling potato': 20, 'cane sugar': 20, 'wide rice noodle': 20, 'crumb': 20, 'habanero chile': 20, 'beef roast': 20, 'liver': 20, 'brine-cured black olive': 20, 'xanthan gum': 20, 'tartar sauce': 20, 'gelatin': 20, 'manicotti shell': 20, 'browning': 20, 'yellow miso': 20, 'wild rice': 20, 'pea carrot': 20, 'prepar pesto': 20, 'low-fat mayonnaise': 20, 'full coconut milk': 20, 'port': 20, 'coconut extract': 20, 'salted codfish': 20, 'peanut sauce': 20, 'chicken sausage': 20, 'back rib': 19, 'japanese rice': 19, 'heart of palm': 19, 'sesame paste': 19, 'ham steak': 19, 'sweet pea': 19, 'unsweetened coconut': 19, 'tart cherry': 19, 'pumpkin pur\\xc3\\xa9e': 19, 'wakame': 19, 'celery stick': 19, 'vermicelli noodle': 19, 'caramel sauce': 19, 'extra shrimp': 19, 'frosting': 19, 'red chile': 19, 'quick-cooking oat': 19, 'new york strip steak': 19, 'sherry wine': 19, 'beef steak': 19, 'nori sheet': 19, 'frisee': 19, 'uncook shrimp , peel devein': 19, 'pandanus': 19, 'Burgundy wine': 19, 'beef chuck roast': 19, 'a\\xc3\\xa7ai': 19, 'tandoori spice': 19, 'bouquet garni': 19, 'phyllo': 19, 'shichimi togarashi': 18, 'roast beef': 18, 'acorn squash': 18, 'chocolate shaving': 18, 'wheat pasta': 18, 'bone in skin on chicken': 18, 'no-salt-added tomato': 18, 'chili pepper flake': 18, 'gyoza wrapper': 18, 'green lentil': 18, 'cooking sherry': 18, 'baking mix': 18, 'top sirloin': 18, 'rock sugar': 18, 'red kidnei bean , rins drain': 18, 'imitation crab meat': 18, 'Turkish bay': 18, 'toast': 18, 'natural yogurt': 18, 'shelled pistachio': 18, 'small curd cottage cheese': 18, 'raw honey': 18, 'natural peanut butter': 18, 'chevre': 18, 'crepe': 18, 'asadero': 18, 'mild Italian sausage': 18, 'lite coconut milk': 18, 'pappardelle': 18, 'turkey kielbasa': 18, 'green peppercorn': 18, 'penne rigate': 18, 'no-salt-added black bean': 18, 'black': 18, 'sardine': 18, 'chicken-flavored soup': 18, 'long bean': 18, 'hamburger': 18, 'ragu old world style pasta sauc': 18, 'chocolate sprinkle': 18, 'annatto': 18, 'fryer chicken': 18, 'stilton cheese': 18, 'garden pea': 18, \"I Ca n't Believe It 's Not Butter ! \\xc2\\xae Spread\": 18, 'ravioli': 18, 'bouillon': 18, 'essence': 18, 'fat-free cottage cheese': 18, 'summer squash': 18, 'suet': 18, 'cutlet': 18, 'tzatziki': 17, 'chili bean sauce': 17, 'port wine': 17, 'color food green': 17, 'bicarbonate of soda': 17, 'reduced coconut milk': 17, 'peach nectar': 17, 'bocconcini': 17, 'ditalini pasta': 17, 'coffee bean': 17, 'sichuan pepper': 17, 'rutabaga': 17, 'seafood seasoning': 17, 'brine': 17, 'stuffing': 17, 'french fried onion': 17, 'haddock': 17, 'pickled carrot': 17, 'bean sauce': 17, 'sultana': 17, 'lager': 17, 'corn bread': 17, 'soppressata': 17, 'applewood smoked bacon': 17, 'tempeh': 17, 'onion soup mix': 17, 'kecap manis': 17, 'white cake mix': 17, 'white rice flour': 17, 'wheat breadcrumb': 17, 'italian style tomato': 17, 'habanero': 17, 'flake': 17, 'bun': 17, 'dashi kombu': 17, 'unbaked pie crust': 17, 'condensed tomato soup': 17, 'seafood': 17, 'zesty italian dressing': 17, 'maida flour': 17, 'beef bouillon granule': 17, 'kirsch': 17, 'coconut amino': 17, 'brine-cured olive': 17, 'dri oregano , crush': 16, 'calamari': 16, 'tart apple': 16, 'rapid rise yeast': 16, 'jackfruit': 16, 'small white bean': 16, 'lemonade concentrate': 16, 'seedless green grape': 16, 'savory': 16, 'hand': 16, 'lumpia wrapper': 16, 'seafood stock': 16, 'barbecued pork': 16, 'toor dal': 16, 'coconut flour': 16, 'blood orange': 16, 'bucatini': 16, 'canela': 16, 'hoagie roll': 16, 'white corn': 16, 'flounder': 16, 'Bertolli\\xc2\\xae Classico Olive Oil': 16, 'soft-boiled egg': 16, 'turkey meat': 16, 'butter cooking spray': 16, 'yellow cake mix': 16, 'grouper': 16, 'center cut loin pork chop': 16, 'fire roasted tomato': 16, 'kumquat': 16, 'cardamon': 16, 'garlic puree': 16, 'white truffle oil': 16, 'oat': 16, 'stevia': 16, 'corn grit': 16, 'collard': 16, 'brewed espresso': 16, 'asian eggplant': 16, 'gin': 16, 'strong white bread flour': 16, 'deli ham': 16, 'chicken part': 16, 'turkey sausage': 16, 'evaporated skim milk': 16, 'boiled egg': 16, 'chocolate syrup': 15, 'chicken base': 15, 'breadstick': 15, 'prebaked pizza crust': 15, 'adobo': 15, 'mushroom soy sauce': 15, 'reduced beef broth': 15, 'tostada': 15, 'white rum': 15, 'beef consomme': 15, 'idaho potato': 15, 'plum sauce': 15, 'pork shoulder butt': 15, 'string bean': 15, 'sweetener': 15, 'bone-in pork chop': 15, 'calimyrna fig': 15, 'splenda': 15, 'pickled vegetable': 15, 'Mexican seasoning mix': 15, 'vanilla bean paste': 15, 'farmer cheese': 15, 'heart of romaine': 15, 'marshmallow creme': 15, 'boiling onion': 15, 'dill tip': 15, 'breadcrumb': 15, 'extract': 15, 'baked ham': 15, 'red capsicum': 15, 'chanterelle': 15, 'country white bread': 15, 'orange slice': 15, 'portobello mushroom': 15, 'stone-ground cornmeal': 15, 'fettuccine': 15, 'pig': 15, 'sprout': 15, 'mahi mahi': 15, 'chat masala': 15, 'brown basmati rice': 15, 'ajwain': 15, 'poblano': 15, 'anise extract': 14, 'walnut oil': 14, 'soy': 14, 'sparerib': 14, 'gemelli': 14, 'nonfat buttermilk': 14, 'carnaroli rice': 14, 'Louisiana Hot Sauce': 14, 'almond butter': 14, 'gluten soy sauce': 14, 'hot chili oil': 14, 'curry sauce': 14, 'low-fat cream cheese': 14, 'toasted nori': 14, 'cornbread mix': 14, 'monterey jack cheese': 14, 'picholine olive': 14, 'white kidney bean': 14, 'chili garlic paste': 14, 'thin pizza crust': 14, 'quick cooking brown rice': 14, 'candied fruit': 14, 'yolk': 14, 'morel': 14, 'old-fashioned oat': 14, 'cream sherry': 14, 'tonkatsu sauce': 14, 'canned corn': 14, 'cracker crumb': 14, 'armagnac': 14, 'sunflower': 14, 'rock': 14, 'solid pack pumpkin': 14, 'rapeseed oil': 14, 'rump roast': 14, 'porcini': 14, 'japanese cucumber': 14, 'carbonated water': 14, 'toasted slivered almond': 14, 'low-fat greek yogurt': 14, 'split black lentil': 14, 'soybean paste': 14, 'dal': 14, 'wheat pita': 14, 'min': 14, 'steak sauce': 14, 'sour cherry': 14, 'fried egg': 14, 'yellow rock sugar': 14, 'mild curry': 14, 'ale': 14, 'varnish clam': 14, 'stir fry sauce': 14, 'bartlett pear': 14, 'honeydew melon': 14, 'runny honey': 14, 'bitter': 13, 'gyoza': 13, 'hot smoked paprika': 13, 'turkey tenderloin': 13, 'coleslaw mix': 13, 'black cod': 13, 'refrigerated buttermilk biscuit': 13, 'taro': 13, 'passion fruit': 13, 'relish': 13, 'parmagiano reggiano': 13, 'ancho chili pepper': 13, 'sweet sour sauce': 13, 'caviar': 13, 'lower beef broth': 13, 'yellow lentil': 13, 'fresno chile': 13, 'salmon steak': 13, 'meyer lemon': 13, 'chipotle salsa': 13, 'pink grapefruit': 13, 'single crust pie': 13, 'cream of celery soup': 13, 'mole sauce': 13, 'smoked turkey sausage': 13, 'vanilla essence': 13, 'pan dripping': 13, 'shelled edamame': 13, 'togarashi': 13, 'limeade concentrate': 13, 'almond meal': 13, 'herb seasoning': 13, 'tentacle': 13, 'walnut piece': 13, 'Equal Sweetener': 13, 'gala apple': 13, 'raw almond': 13, 'hash brown': 13, 'sorrel': 13, 'cornish game hen': 13, 'pork spare rib': 13, 'thin spaghetti': 13, 'red grape': 13, 'golden caster sugar': 13, 'fat-free refried bean': 13, 'gran marnier': 13, 'custard': 13, 'chilegarlic sauce': 13, 'sprite': 13, 'beef bone': 13, 'cornish hen': 13, 'trout fillet': 13, 'sweet mini bell': 13, 'tapenade': 13, 'low-fat mozzarella cheese': 13, 'Angostura bitter': 13, 'poha': 13, 'caesar salad dressing': 13, 'guajillo': 13, 'italian style seasoning': 13, 'vegetable bouillon': 13, 'peach preserve': 13, 'beef dripping': 12, 'cool whip': 12, 'preserve': 12, 'buttermilk biscuit': 12, 'palm oil': 12, 'aleppo pepper': 12, 'pickling': 12, 'reduced cream cheese': 12, 'refrigerated biscuit': 12, 'Dungeness crab': 12, 'sweet pickle': 12, 'coca-cola': 12, 'achiote': 12, 'manioc flour': 12, 'pork liver': 12, 'fajita size flour tortilla': 12, 'masa dough': 12, 'store bought chicken broth': 12, 'turkey bacon': 12, 'foie gras': 12, 'baked pizza crust': 12, 'veal stock': 12, 'blue crab': 12, 'biscuit dough': 12, 'soya bean': 12, 'small new potato': 12, 'prosecco': 12, 'pickling cucumber': 12, 'hot mustard': 12, 'fully cooked ham': 12, 'non stick spray': 12, 'cuban pepper': 12, 'doritos': 12, 'risotto': 12, 'capellini': 12, 'potato flake': 12, 'Old El Paso\\xe2\\x84\\xa2 green chile': 12, 'shrimp shell': 12, 'mackerel': 12, 'bonito': 12, 'perilla': 12, 'chinese black mushroom': 12, 'shuck corn': 12, 'no added chicken broth': 12, 'Japanese turnip': 12, 'mild green chile': 12, 'cointreau': 12, 'quince': 12, 'chinese wheat noodle': 12, 'giblet': 12, 'jalape': 12, 'aged balsamic vinegar': 12, 'bengal gram': 12, \"hellmann ' or best food mayonnais\": 12, 'choy sum': 12, 'lemon-lime soda': 12, 'Spike Seasoning': 12, 'avocado oil': 12, 'roquefort cheese': 12, 'gold potato': 12, 'riesling': 12, 'prepared lasagne': 12, 'rye bread': 12, 'fatfree lowsodium chicken broth': 12, 'pink peppercorn': 12, 'roast of chicken': 12, 'lamb rib chop': 12, 'ravva': 11, 'yellow curry paste': 11, 'meringue': 11, 'Old El Paso\\xe2\\x84\\xa2 taco seasoning mix': 11, 'orange blossom honey': 11, 'linguini': 11, 'tarragon vinegar': 11, 'filet mignon': 11, 'sandwich roll': 11, 'dhal': 11, 'cassia cinnamon': 11, 'black truffle': 11, 'italian seasoned bread crumb': 11, 'tomato soup': 11, 'octopus': 11, 'red beet': 11, 'smoked ham': 11, 'Baileys Irish Cream Liqueur': 11, 'flat spinach': 11, 'monkfish': 11, 'ramp': 11, 'mulato chile': 11, 'country style bread': 11, 'cavatappi': 11, 'low-fat ricotta cheese': 11, 'sourdough baguette': 11, 'ruby port': 11, 'Biryani Masala': 11, 'white distilled vinegar': 11, 'extra-lean beef': 11, 'egg noodle , cooked drained': 11, 'pork butt roast': 11, 'garlic sauce': 11, 'marmite': 11, 'lobster meat': 11, 'yellow summer squash': 11, 'Thai chili paste': 11, 'demerara sugar': 11, 'parboiled rice': 11, 'graham cracker crust': 11, 'chinese celery': 11, 'masoor dal': 11, 'granola': 11, 'Frangelico': 11, 'bouillon cube': 11, 'sweet vermouth': 11, 'pork cutlet': 11, 'matcha green tea': 11, 'pork country-style rib': 11, 'ditalini': 11, '( oz . ) tomato sauce': 11, 'chuck steak': 11, 'buffalo sauce': 11, 'chicken bone': 11, 'pigeon pea': 11, 'bisquick': 11, 'white chocolate chip': 11, 'chestnut mushroom': 11, 'achiote paste': 11, 'fatback': 11, 'Himalayan': 11, 'pasta water': 11, 'Flora Cuisine': 11, 'giardiniera': 11, 'top whip': 11, 'arbol chile': 11, 'macadamia nut': 11, 'brioche': 11, 'kaiser roll': 11, 'quail': 11, 'vegetarian refried bean': 11, 'condensed chicken broth': 11, 'mincemeat': 11, 'Amaretti Cookies': 11, 'center cut bacon': 11, 'soda water': 11, 'pickled okra': 11, 'shiro miso': 11, 'water chestnut , drained': 10, 'lacinato kale': 10, 'zinfandel': 10, 'carnitas': 10, 'italian eggplant': 10, 'unsweetened almond milk': 10, 'tortilla shell': 10, 'cane vinegar': 10, 'bean curd': 10, 'cornflake cereal': 10, 'shell pasta': 10, 'steamer': 10, 'extra sharp white cheddar cheese': 10, 'pancake syrup': 10, 'zest': 10, 'marshmallow': 10, 'pak choi': 10, 'Pillsbury\\xe2\\x84\\xa2 Refrigerated Crescent Dinner Rolls': 10, 'cranberry sauce': 10, 'black cardamom': 10, 'slab bacon': 10, 'caramel': 10, 'vine tomato': 10, 'lumpia skin': 10, 'cream of coconut': 10, 'Swanson Chicken Broth': 10, 'sourdough': 10, 'organic chicken broth': 10, 'Nutella': 10, 'pure olive oil': 10, 'green mango': 10, 'balsamic vinaigrette': 10, 'flavored oil': 10, 'chinese eggplant': 10, 'chocolate pudding': 10, 'hot dog bun': 10, 'canned coconut milk': 10, 'cavatelli': 10, 'korean chile paste': 10, 'spicy sausage': 10, 'soft-wheat flour': 10, 'adobo seasoning': 10, 'groundnut': 10, 'roast turkey': 10, 'chili paste with garlic': 10, 'red preserved bean curd': 10, 'oil cured olive': 10, 'mortadella': 10, 'ginger ale': 10, 'chip tortilla': 10, 'french roll': 10, 'chihuahua cheese': 10, 'risotto rice': 10, 'raspberry preserve': 10, 'English mustard': 10, 'Kraft Grated Parmesan Cheese': 10, 'ouzo': 10, 'sundried tomato pesto': 10, 'broccoli stem': 10, 'hanger steak': 10, 'gumbo file': 10, 'Nilla Wafers': 10, 'sweet pickle relish': 10, 'citron': 10, 'lavender': 10, 'piecrust': 10, 'paneer cheese': 10, 'scotch': 10, 'canola mayonnaise': 10, 'thai noodle': 10, 'Chianti': 10, 'veal scallop': 10, 'pineapple in': 10, 'aioli': 10, 'cheese soup': 10, 'black mushroom': 10, 'roasted pistachio': 10, 'lager beer': 10, 'white fleshed fish': 10, 'beef gravy': 10, 'toasted peanut': 10, 'dinner roll': 10, 'chardonnay': 10, 'rice syrup': 10, 'chard': 10, 'yellow hominy': 10, 'Meyer lemon': 10, 'peperoncini': 10, 'queso blanco': 10, 'red': 10, 'mirlitons': 10, 'white cabbage': 10, 'condiment': 10, 'potato flour': 10, 'sponge cake': 10, 'wheel': 10, 'turkey cutlet': 10, 'beef tongue': 10, 'focaccia': 10, 'atta': 10, 'kiwi fruit': 10, 'sole fillet': 10, 'tomatillo salsa': 10, 'stew meat': 10, 'crumbled ricotta salata cheese': 10, 'sharp white cheddar cheese': 10, 'red currant jelly': 10, 'brown rice vinegar': 10, 'buckwheat noodle': 10, 'small red bean': 10, 'corn-on-the-cob': 10, 'Wish-Bone Italian Dressing': 10, 'cinnamon sugar': 10, 'crescent roll': 10, 'roux': 10, 'grilled chicken': 10, \"Campbell 's Condensed Cream of Chicken Soup\": 10, 'converted rice': 10, 'fishcake': 10, 'cooking apple': 9, 'chipotle sauce': 9, 'shirataki': 9, 'chocolate sauce': 9, 'toasted baguette': 9, 'nuoc cham': 9, 'peasant bread': 9, 'spanish rice': 9, 'cockle': 9, 'raita': 9, 'curly kale': 9, 'wide egg noodle': 9, 'hot bean paste': 9, 'steak seasoning': 9, 'confit duck': 9, 'peach in syrup': 9, 'patis': 9, 'flaxseed': 9, 'garlic oil': 9, 'matzo meal': 9, 'ch\\xc3\\xa8vre': 9, 'fritos': 9, 'wheat germ': 9, 'pita round': 9, 'refrigerated fettuccine': 9, 'hot curry': 9, 'lamb shoulder chop': 9, 'cabernet sauvignon': 9, 'red radish': 9, 'ros\\xc3\\xa9 wine': 9, 'firm silken tofu': 9, 'refried black bean': 9, 'black rice vinegar': 9, 'veal demi-glace': 9, 'channa dal': 9, 'candied cherry': 9, 'mochiko': 9, 'khoa': 9, 'cheese spread': 9, 'alfredo sauce': 9, 'cane syrup': 9, 'black mission fig': 9, 'pork neck': 9, 'peach schnapps': 9, 'vinaigrette dressing': 9, 'daal': 9, 'mexican style cheese blend': 9, 'stilton': 9, 'bittersweet chocolate chip': 9, 'Old El Paso Enchilada Sauce': 9, 'king prawn': 9, 'kidney': 9, 'yellow crookneck squash': 9, 'spicy pork sausage': 9, 'pear tomato': 9, 'ackee': 9, 'vanilla sugar': 9, 'puff pastry sheet': 9, 'smoked sweet Spanish paprika': 9, 'jerk seasoning': 9, 'reduced firm tofu': 9, 'sweet corn kernel': 9, 'flat iron steak': 9, 'rajma': 9, 'tuna packed in water': 9, 'split pea': 9, 'california avocado': 9, 'free-range egg': 9, 'tomato with garlic onion': 9, 'broccoli slaw': 9, 'French lentil': 9, 'fried garlic': 9, 'vanilla wafer crumb': 9, 'Ranch Style Beans': 9, 'edible flower': 9, 'white rice vinegar': 9, 'pineapple slice': 9, 'bacon bit': 9, 'pita chip': 9, 'batter': 9, 'decorating sugar': 9, 'oatmeal': 9, 'shaoxing': 9, 'mozzarella ball': 9, 'celtic': 9, 'organic chicken': 9, 'natural pistachio': 9, 'field lettuce': 9, 'kefalotyri': 9, 'pasta sheet': 9, 'croissant': 9, 'gold tequila': 9, 'pork stock': 9, 'campari': 9, 'cornflakes': 9, 'loin': 9, 'fat-free buttermilk': 9, 'vegan butter': 9, 'English toffee bit': 9, 'grappa': 9, 'baked bean': 9, 'sanding sugar': 9, 'russet': 9, 'cooked rigatoni': 9, 'hazelnut oil': 9, '( oz . ) tomato paste': 9, 'tapioca': 9, 'red chile sauce': 9, 'maltose': 9, 'brisket': 9, 'fresca': 9, 'callaloo': 9, 'queso asadero': 9, 'green pumpkin': 9, 'turkey stock': 9, 'creole style seasoning': 9, 'field pea': 9, 'shrimp crab seasoning': 9, 'trout': 9, 'shank': 9, 'cooking': 8, 'Bisquick Baking Mix': 8, 'french fry': 8, 'wheat bran': 8, 'snail': 8, 'nam pla': 8, 'andouille sausage link': 8, 'mission fig': 8, 'havarti cheese': 8, 'wheat couscous': 8, 'Yakisoba noodle': 8, 'ragu': 8, 'branzino': 8, 'bean curd skin': 8, 'stuffing mix': 8, 'shrimp tail': 8, 'organic sugar': 8, 'wheat hamburger bun': 8, 'gherkin': 8, 'merlot': 8, 'liver pate': 8, 'Italian herb': 8, 'green apple': 8, 'yellow rice': 8, 'crisp': 8, 'broiler-fryer chicken': 8, 'meat sauce': 8, 'cornhusk': 8, 'lily bud': 8, 'toasted coconut': 8, 'hard shelled clam': 8, 'mesclun': 8, 'salted roasted peanut': 8, 'unbleached flour': 8, 'chia': 8, 'kabocha squash': 8, 'lamb chop': 8, 'lemon pepper seasoning': 8, 'bread , cut into italian loaf': 8, 'furikake': 8, 'biscuit mix': 8, 'chunky': 8, 'andouille chicken sausage': 8, 'cooked meat': 8, 'wheat lasagna noodle': 8, 'pea shoot': 8, 'limeade': 8, 'grana padano': 8, 'stew': 8, 'small pasta': 8, 'broad bean': 8, 'yuzu': 8, 'brine cured green olive': 8, 'Jell-O Gelatin': 8, 'lime peel': 8, 'English muffin': 8, 'knorr garlic minicub': 8, 'shaved parmesan cheese': 8, 'chicken strip': 8, 'char siu': 8, 'italian salad dressing mix': 8, 'cajun spice mix': 8, 'confit': 8, 'garlic pepper seasoning': 8, 'low-fat coconut milk': 8, 'striped bass': 8, 'brown rice flour': 8, 'sweet potato & yam': 8, 'Chinese rice vinegar': 8, 'sugar syrup': 8, 'pinot noir': 8, 'chocolate bar': 8, 'beef fillet': 8, 'black gram': 8, 'curly endive': 8, 'ramen': 8, 'Pace Chunky Salsa': 8, 'grit quick': 8, 'french dressing': 8, 'amaretto liqueur': 8, 'pimenton': 8, 'knorr chicken flavor bouillon': 8, 'salted cashew': 8, 'creme anglaise': 8, 'spaghetti , cook drain': 8, 'bread mix': 8, 'cashew butter': 8, 'seedless watermelon': 8, 'dandelion green': 8, 'barley': 8, 'apricot nectar': 8, 'melon': 8, 'pepperoni turkei': 8, 'radish sprout': 8, 'fat-free reduced-sodium chicken broth': 8, 'pie': 8, 'pork stew meat': 8, 'red delicious apple': 8, 'meat tenderizer': 8, 'catalina dressing': 8, 'lotus root': 8, 'silver tequila': 8, 'mandarin orange segment': 8, 'sub bun': 8, 'pork lard': 8, 'liquid amino': 8, 'tomato green chilies': 8, 'distilled vinegar': 8, 'garnish': 8, 'pectin': 8, 'goat': 8, 'Bertolli\\xc2\\xae Alfredo Sauce': 8, 'beef sausage': 8, 'wonton skin': 8, 'chapati flour': 8, 'cream cheese frosting': 8, 'dripping': 8, 'shrimp head': 8, 'black bean garlic sauce': 8, 'Emmenthal': 8, 'maldon': 8, 'tart shell': 8, 'steel-cut oat': 7, 'silver': 7, 'celery heart': 7, 'dende oil': 7, 'icing': 7, 'green grape': 7, 'quarter': 7, 'amaretti': 7, 'italian pork sausage': 7, 'soft corn tortilla': 7, 'ginger piece': 7, 'spiced rum': 7, 'Sicilian olive': 7, 'cherry preserve': 7, 'pastry cream': 7, 'tripe': 7, 'coffee ice cream': 7, 'baton': 7, 'burrata': 7, 'black treacle': 7, 'loaf': 7, 'maple sugar': 7, 'sorbet': 7, 'lemon curd': 7, 'sugar substitute': 7, 'nonfat cottage cheese': 7, 'pork fillet': 7, 'corn flake': 7, 'albacore tuna in water': 7, 'marzipan': 7, 'truffle': 7, 'vanilla lowfat yogurt': 7, 'white tuna in water': 7, 'coconut rum': 7, 'holy basil': 7, 'tubetti': 7, 'brat': 7, 'toasted wheat germ': 7, 'grenadine syrup': 7, 'deep dish pie crust': 7, 'white cheese': 7, 'gaeta olive': 7, 'chipotle paste': 7, 'cola': 7, 'Kikkoman Soy Sauce': 7, 'flax meal': 7, 'cassava': 7, 'flat anchovy': 7, 'polish sausage': 7, 'veal rib chop': 7, 'cubed potato': 7, 'catsup': 7, 'Italian cheese blend': 7, 'anjou pear': 7, 'leafy green': 7, 'cooked meatball': 7, 'chenpi': 7, 'smoked trout': 7, 'chicken soup base': 7, 'golden zucchini': 7, 'double crust pie': 7, 'rib pork chop': 7, 'green split pea': 7, 'raspberry liqueur': 7, 'pork meat': 7, 'pancake': 7, 'flanken short rib': 7, 'candied lemon peel': 7, 'OREO\\xc2\\xae Cookies': 7, 'Balsamico Bianco': 7, 'reduced-sodium tamari sauce': 7, 'kochujang': 7, 'le taco seasoning': 7, 'luke warm water': 7, 'drumstick': 7, 'chambord': 7, 'pomegranate molasses': 7, 'seasoning mix': 7, 'veal for stew': 7, 'banger': 7, 'mini chocolate chip': 7, 'milk greek yogurt': 7, 'quail egg': 7, 'sirloin tip': 7, 'Corn Flakes Cereal': 7, 'Hatch Green Chiles': 7, \"Old El Paso\\xe2\\x84\\xa2 Thick 'n Chunky salsa\": 7, 'cubed beef': 7, 'coco': 7, 'pork bone': 7, 'onion ring': 7, 'shoepeg corn': 7, 'condensed cream of celery soup': 7, 'chunky pasta sauce': 7, 'crumbled goat cheese': 7, 'yellow tomato': 7, 'green tea bag': 7, 'red bell pepper ,': 7, 'chicken gizzard': 7, 'table cream': 7, 'halibut steak': 7, 'satsuma': 7, 'taco topping': 7, 'fig jam': 7, 'rendered bacon': 7, 'portobello cap': 7, 'cider': 7, 'organic tomato': 7, 'taco seasoning reduced': 7, 'crisco': 7, \"Campbell 's Condensed Tomato Soup\": 7, 'soman': 7, 'free-range chicken': 7, 'merguez sausage': 7, 'roast beef deli meat': 7, 'pork rind': 7, 'muenster cheese': 7, 'lardons': 7, 'Pace Picante Sauce': 7, 'pecorino': 7, 'irish bacon': 7, 'pierogi': 7, 'chicken wing drummettes': 7, 'pork bean': 7, 'le soy sauce': 7, 'Fuji Apple': 7, 'coconut vinegar': 7, 'hot chili paste': 7, 'seltzer water': 7, 'pappardelle pasta': 7, 'smoked cheddar cheese': 7, 'yukon gold': 7, 'low-fat spaghetti sauce': 7, 'goji berry': 7, 'reduced black bean': 7, 'pickled radish': 7, 'sumac': 7, 'pickled jalapeno pepper': 7, 'raspberry vinegar': 7, 'vin santo': 7, 'short pasta': 7, 'perciatelli': 7, 'pace picante sauce': 7, 'pressed tofu': 7, 'jasmine': 6, 'lychee': 6, \"Hellmann's\\xc2\\xae Real Mayonnaise\": 6, 'grain bread': 6, 'frying oil': 6, 'toasted cashew': 6, 'chocolate candy bar': 6, 'vegan margarine': 6, 'Accent Seasoning': 6, 'caper berry': 6, 'mahimahi': 6, 'sauterne': 6, 'beef base': 6, 'fideos': 6, 'yellow chive': 6, 'panettone': 6, 'wheat penne': 6, 'fine herbes': 6, 'spearmint': 6, 'cherry pepper': 6, 'turkey broth': 6, 'cake mix': 6, 'Massaman curry paste': 6, 'clam , well scrub': 6, 'fromage blanc': 6, 'jerk sauce': 6, 'crostini': 6, 'prepared guacamole': 6, 'extra olive oil': 6, 'bitter melon': 6, 'blackberry jam': 6, 'brown hash potato': 6, 'queso anejo': 6, 'Kewpie Mayonnaise': 6, 'tart': 6, 'sweet basil': 6, 'wafer': 6, 'seasoned flour': 6, 'fudge brownie mix': 6, 'casing': 6, 'apple jelly': 6, 'prepared pasta sauce': 6, 'pudding': 6, \"Campbell 's Condensed Cheddar Cheese Soup\": 6, 'forest fruit': 6, 'toasted pumpkinseed': 6, 'hot green chile': 6, 'mussel , well scrubbed': 6, 'mature cheddar': 6, 'swordfish': 6, 'tri-tip roast': 6, 'white radish': 6, 'bottle gourd': 6, 'broiler-fryers': 6, 'strawberry jam': 6, 'elbow pasta': 6, 'stone flower': 6, 'golden beet': 6, 'lemonade': 6, 'calamata olive': 6, 'campanelle': 6, 'splenda no calorie sweetener': 6, 'peel': 6, 'smoked & fish': 6, 'mitsuba': 6, 'asparagus tip': 6, 'pie filling': 6, 'sambal chile paste': 6, 'veal chop': 6, 'rouille': 6, 'harissa sauce': 6, 'cornflake crumb': 6, 'homemade chicken broth': 6, 'filet mignon steak': 6, 'apple pie filling': 6, 'squirt': 6, 'Haas avocado': 6, 'Johnsonville Smoked Sausage': 6, 'Herdez Salsa Verde': 6, 'kalonji': 6, 'red bean paste': 6, 'colby': 6, 'unsweetened soymilk': 6, 'sweet tea': 6, 'bread butter pickle': 6, 'cooked vermicelli': 6, 'Ritz Crackers': 6, 'cornbread stuffing mix': 6, 'wax bean': 6, 'uncooked ziti': 6, 'bulgur wheat': 6, 'chocolate curl': 6, 'mung bean noodle': 6, 'roasted white sesame': 6, 'capicola': 6, 'beef short rib': 6, 'sweet gherkin': 6, 'tenderloin': 6, 'doenzang': 6, 'smoked haddock': 6, 'sweet sherry': 6, 'candied ginger': 6, 'horseradish sauce': 6, 'condensed cheddar cheese soup': 6, 'smoked': 6, 'venison': 6, 'bow': 6, 'Johnsonville Andouille': 6, 'wheat pizza dough': 6, 'sundried tomato paste': 6, 'pumpkinseed kernel': 6, 'soy bean paste': 6, 'liquid honey': 6, 'fish steak': 6, 'lasagne': 6, 'gluten-free tamari': 6, 'red grapefruit': 6, 'espresso granule': 6, 'posole': 6, 'vegan mayonnaise': 6, 'rock shrimp': 6, 'dri leav rosemari': 6, 'black rice': 6, 'shimeji mushroom': 6, 'mild salsa': 6, 'roasted chestnut': 6, 'whipped cream cheese': 6, 'peperoncino': 6, 'spelt': 6, 'liquor': 6, 'minute rice': 6, 'agar': 6, 'pickled onion': 6, 'Cointreau Liqueur': 6, 'loin pork chop': 6, 'sausage meat': 6, 'low-fat cheddar cheese': 6, 'mild curry paste': 6, 'black lentil': 6, 'uncooked rigatoni': 6, 'satsuma imo': 6, 'rye whiskey': 6, 'crumbled cornbread': 6, 'southern comfort': 6, 'country pork rib': 6, 'cook egg hard': 6, 'white peach': 6, 'pickled beet': 6, 'sponge': 6, 'porterhouse steak': 6, 'green garlic': 6, 'tamarind extract': 6, 'gyoza skin': 6, 'pasta shell small': 6, 'whip topping , thaw': 6, 'yellow bean sauce': 6, 'honey mustard': 6, 'Neufch\\xc3\\xa2tel': 6, 'apple concentrate': 6, 'Mazola Corn Oil': 6, 'hemp': 6, 'soft shelled crab': 6, 'lamb neck': 6, 'nuoc mam': 6, 'sandwich': 6, 'apple butter': 6, 'limoncello': 6, 'Daisy Sour Cream': 6, 'red bliss potato': 6, 'kewra water': 6, 'buckwheat soba noodle': 6, 'fish ball': 6, 'self raising flour': 6, 'cranberry bean': 6, 'rye flour': 6, 'challa': 6, 'hot cherry pepper': 6, 'beet green': 6, 'louisiana hot sauce': 6, 'safflower': 6, 'reduced swiss cheese': 6, 'balsamic reduction': 6, 'shao hsing wine': 6, 'sugar cane': 6, 'crusty roll': 6, 'banana liqueur': 6, 'manicotti': 6, 'jack daniel': 6, 'pearl couscous': 6, 'sandwich bun': 6, 'long grain wild rice mix': 6, 'polenta prepar': 6, 'sushi nori': 5, 'millet': 5, 'salted fish': 5, 'Old El Paso Flour Tortillas': 5, 'kalamata olive': 5, 'idli': 5, 'Thai chili': 5, 'rose petal': 5, 'solid white tuna': 5, 'pot roast': 5, 'jamaican rum': 5, 'ragu cheesi classic alfredo sauc': 5, 'beef for stew': 5, 'red swiss chard': 5, 'KRAFT Mexican Style Finely Shredded Four Cheese': 5, 'oloroso sherry': 5, 'roasted pumpkin': 5, 'wholemeal flour': 5, 'boar': 5, 'sandwich bread': 5, 'raw cane sugar': 5, 'pork blood': 5, 'Chinese rose wine': 5, 'veal shoulder': 5, 'unsweetened apple': 5, 'black cumin': 5, 'sorghum syrup': 5, 'chile bean paste': 5, 'espresso bean': 5, 'Lea & Perrins Worcestershire Sauce': 5, 'petite pea': 5, 'ume plum vinegar': 5, 'roasted rice': 5, 'Edam': 5, 'popcorn': 5, 'stone mustard': 5, 'chinese rock sugar': 5, 'spam': 5, 'tortilla wrap': 5, 'sweet red bean paste': 5, 'greek-style vinaigrette': 5, 'powdered gelatin': 5, 'curly parsley': 5, 'pasilla': 5, 'curd cottage cheese': 5, 'compote': 5, 'buttermilk cornbread': 5, 'bone broth': 5, 'knorr chicken flavor bouillon cube': 5, 'borlotti bean': 5, 'beef shoulder roast': 5, 'chicken foot': 5, 'wheat berry': 5, 'skimmed reduced chicken broth': 5, 'globe eggplant': 5, 'beef rib': 5, 'blue cheese dressing': 5, 'long pepper': 5, 'string cheese': 5, 'pastry flour': 5, 'oil packed anchovy': 5, 'corn salsa': 5, 'burger bun': 5, 'seitan': 5, 'wheat linguine': 5, 'chicken noodle soup': 5, 'smoked kielbasa': 5, 'chili seasoning': 5, 'goose': 5, 'italian chicken sausage': 5, 'blackening seasoning': 5, 'sushi grade tuna': 5, 'beef jerky': 5, 'butter pecan cake mix': 5, 'almond liqueur': 5, 'KRAFT Zesty Italian Dressing': 5, 'banana blossom': 5, 'sirloin tip roast': 5, 'cut up cooked chicken': 5, 'flavored syrup': 5, 'fine sugar': 5, 'French mustard': 5, 'sweet potato or yam': 5, 'cocktail sauce': 5, 'pappadams': 5, 'Heinz Chili Sauce': 5, 'tandoori paste': 5, 'gouda': 5, 'white asparagus': 5, 'citric acid': 5, 'sesame chili oil': 5, 'hog casing': 5, 'small caper , rins drain': 5, 'schmaltz': 5, 'boston butt': 5, 'margarita mix': 5, 'rice pilaf': 5, 'thawed vegetable ,': 5, 'coconut water': 5, 'reduced creamy peanut butter': 5, 'condensed fiesta nacho cheese soup': 5, 'red apple': 5, 'powdered garlic': 5, 'canned chicken stock': 5, 'twist': 5, 'pattypan squash': 5, 'chiffonade': 5, 'gremolata': 5, 'cr\\xc3\\xa8me de cassis': 5, 'brown shrimp': 5, 'fregola': 5, 'non dairy milk': 5, 'soda bread': 5, 'Red Gold\\xc2\\xae tomato': 5, 'grenadine': 5, 'Kraft Miracle Whip Dressing': 5, 'bacon piece': 5, 'basmati': 5, 'beef kidney': 5, 'sweet yellow corn': 5, 'clementine': 5, 'cheese cube': 5, 'reduced vegetable broth': 5, 'rome apple': 5, 'bertolli vineyard premium collect marinara with burgundi wine sauc': 5, 'Splenda Brown Sugar Blend': 5, 'pasilla pepper': 5, 'jamaican jerk spice': 5, 'pita loaf': 5, 'rose essence': 5, 'red vermouth': 5, 'angel food cake': 5, 'rioja': 5, 'jerk marinade': 5, 'chocolate ice cream': 5, 'chinese mustard': 5, 'milk chocolate chip': 5, 'lobster tail': 5, 'buttercream frosting': 5, 'sazon seasoning': 5, 'winter melon': 5, 'clotted cream': 5, 'bechamel': 5, 'porridge oat': 5, 'burger': 5, 'winter squash': 5, 'kefir': 5, 'roasted almond': 5, 'soaking liquid': 5, 'sourdough loaf': 5, 'mo hanh': 5, 'chinese ham': 5, 'starchy potato': 5, 'tapioca pearl': 5, 'jerusalem artichoke': 5, 'round loaf': 5, 'pink bean': 5, 'bean dip': 5, \"Piment d'Espelette\": 5, 'adzuki bean': 5, 'Herdez Salsa Casera': 5, 'fruit cocktail': 5, 'persimmon': 5, 'shortbread cooky': 5, 'virgin olive oil': 5, 'chunk tuna in water': 5, 'tater tot': 5, 'Saigon cinnamon': 5, 'le taco seasoning mix': 5, 'caster': 5, 'waffle': 5, 'sago': 5, 'rich chicken stock': 5, 'brown gravy mix': 5, 'beef shoulder': 5, 'vegan Worcestershire sauce': 5, 'ahi': 5, 'nuoc nam': 5, 'sofrito': 5, 'other vegetable': 5, 'calf liver': 5, 'baking spray': 5, 'miniature semisweet chocolate chip': 5, 'guava': 5, 'prego traditional italian sauce': 5, 'uncooked vermicelli': 5, 'demi-glace': 5, 'self-rising cake flour': 5, 'cooking liquid': 5, 'spelt flour': 5, 'condensed cream of potato soup': 5, 'bread machine yeast': 5, 'grill seasoning': 5, 'pepperidge farm puff pastry': 5, 'thai jasmine rice': 5, 'flaked': 5, 'tandoori seasoning': 5, 'taco bell home original': 5, 'nopalitos': 5, 'all potato purpos': 5, 'tom yum paste': 5, 'sooji': 5, 'pancake mix': 5, 'assorted vegetable': 5, 'chop green chilies , undrain': 5, 'dijon': 5, 'chicken carcass': 5, 'Spring ! Water': 5, 'vanilla yogurt': 5, 'meatloaf': 5, 'promise buttery spread': 5, 'potato chip': 5, 'Chinese sesame paste': 5, 'emerils original essence': 5, 'soft taco size flour tortilla': 5, 'bouquet': 5, 'cube steak': 5, 'strawberry preserve': 5, 'gluten all purpose flour': 5, 'fat-free cheddar cheese': 5, 'hard salami': 5, 'black fungus': 5, 'moisture mozzarella': 5, 'Oscar Mayer Bacon': 5, 'sauvignon blanc': 5, 'dulce de leche': 5, 'seedless raspberry jam': 5, 'vegan parmesan cheese': 4, 'squash blossom': 4, 'french fri': 4, 'Taco Bell Taco Seasoning Mix': 4, 'kamaboko': 4, 'Jarlsberg': 4, 'low-fat refried bean': 4, 'hollandaise sauce': 4, 'california chile': 4, 'filo dough': 4, \"Frank's\\xc2\\xae RedHot\\xc2\\xae Original Cayenne Pepper Sauce\": 4, 'cooked bone in ham': 4, 'wheat penne pasta': 4, 'pickapeppa sauce': 4, 'sugar cube': 4, 'manzanilla': 4, 'Bengali Spice': 4, 'smoked pork': 4, 'concentrate': 4, 'pita wedge': 4, 'papad': 4, 'cola soft drink': 4, 'chicken demi-glace': 4, 'oat bran': 4, 'alfalfa sprout': 4, 'butter extract': 4, 'iceberg': 4, 'apple pie spice': 4, 'Jamaican allspice': 4, 'raspberry sauce': 4, 'pumpernickel bread': 4, 'sourdough starter': 4, 'barley flour': 4, 'cake batter': 4, 'burgundy': 4, 'black bass': 4, 'abura age': 4, \"Uncle Ben 's Original Converted Brand rice\": 4, 'tenderloin roast': 4, 'rice bran oil': 4, 'fried rice': 4, 'vidalia': 4, 'hatcho miso': 4, 'beef round': 4, 'barilla': 4, 'crayfish': 4, 'low-fat pasta sauce': 4, 'unsweetened pineapple': 4, 'muscat': 4, 'char': 4, 'beni shoga': 4, 'candy bar': 4, 'kohlrabi': 4, 'marrow': 4, 'cubed bread': 4, 'Bragg Liquid Aminos': 4, 'meringue nest': 4, 'reduced alfredo sauce': 4, 'gluten-free flour': 4, 'pure acai puree': 4, 'wheat fettuccine': 4, 'Knorr Chicken Flavor Bouillon': 4, 'unseasoned breadcrumb': 4, 'european cucumber': 4, 'balm': 4, 'raisin bread': 4, 'soy yogurt': 4, 'back bacon rasher': 4, 'veget': 4, 'uncle ben': 4, 'Italian basil': 4, 'popcorn chicken': 4, 'arrowroot starch': 4, 'beef tendon': 4, 'sichuanese chili paste': 4, 'hot italian turkey sausage link': 4, 'Japanese rice vinegar': 4, 'gooseberry': 4, 'condensed golden mushroom soup': 4, 'SYD Hot Rub': 4, 'seltzer': 4, 'salad seasoning mix': 4, 'hazelnut liqueur': 4, 'progresso reduced chicken broth': 4, 'virgin coconut oil': 4, 'egg bread': 4, 'rib roast': 4, 'merluza': 4, 'kasseri': 4, 'skin on chicken': 4, 'smoked chicken sausage': 4, 'pozole': 4, 'green onion bottom': 4, 'shortcrust pastry': 4, 'Pompeian Canola Oil Extra Virgin Olive Oil': 4, 'extra virgin coconut oil': 4, 'carne seca': 4, 'durum wheat flour': 4, 'cherrystone clam': 4, 'quick oat': 4, 'hot salsa': 4, 'chinese barbecue sauce': 4, 'iodized': 4, 'coarse sugar': 4, 'smoked streaky bacon': 4, 'king crab': 4, 'wheat pita bread': 4, 'rice cracker': 4, 'Gold Medal Flour': 4, 'nonfat mayonnaise': 4, 'flowering chive': 4, 'orange bitter': 4, 'foot': 4, 'seasoned black bean': 4, 'chilled prosecco': 4, 'mushroom soup': 4, 'sweet rice wine': 4, 'egg roll wrap': 4, 'sheep\\xe2\\x80\\x99s milk cheese': 4, 'sugar pumpkin': 4, 'prepared pie crust': 4, 'caramel topping': 4, 'bloody mary mix': 4, 'lavender blossom': 4, 'taco meat': 4, 'escargot': 4, 'pizza topping': 4, 'bread roll': 4, 'mint sauce': 4, 'italian loaf': 4, 'london broil': 4, 'orange extract': 4, 'sambuca': 4, 'rendered duck': 4, 'all purpose seasoning': 4, 'cracker meal': 4, \"I Ca n't Believe It 's Not Butter ! \\xc2\\xae All Purpose Sticks\": 4, 'raw pistachio': 4, 'beef rib roast': 4, 'laurel': 4, 'mezcal': 4, 'Mrs . Dash': 4, 'caramel ice cream topping': 4, 'snail shell': 4, 'Up': 4, 'bing cherry': 4, 'asian basil': 4, 'biscuit baking mix': 4, 'quatre \\xc3\\xa9pices': 4, 'anchovy filet': 4, 'prepared pizza crust': 4, 'bean thread vermicelli': 4, 'head on shrimp': 4, 'homemade beef stock': 4, 'hazelnut butter': 4, 'virginia ham': 4, 'tatsoi': 4, 'tamale': 4, 'Hidden Valley\\xc2\\xae Original Ranch\\xc2\\xae Dressing': 4, 'sour milk': 4, 'sweet bean sauce': 4, 'Cholula Hot Sauce': 4, 'hominy grit': 4, 'beef deli roast slice thinli': 4, 'Italian sausage': 4, 'candied peel': 4, 'carrot stick': 4, 'squab': 4, 'muffin': 4, 'spring roll skin': 4, 'vegetable seasoning': 4, 'white frosting': 4, 'camembert': 4, 'garlic shoot': 4, 'beef liver': 4, 'palm vinegar': 4, 'queso panela': 4, 'Old El Paso\\xe2\\x84\\xa2 refried bean': 4, 'parmigiana-reggiano': 4, 'vanilla flavoring': 4, 'knockwurst': 4, 'chinese roast pork': 4, 'lasagna': 4, 'rye': 4, 'sparkling wine': 4, 'rosewater': 4, 'brown mushroom': 4, 'salad dressing mix': 4, 'mein': 4, 'cayenne pepper sauce': 4, 'mashed banana': 4, 'wheat thin spaghetti': 4, 'low-fat natural yogurt': 4, 'reduced tamari': 4, 'candy sprinkle': 4, 'pitted Medjool date': 4, 'ruby red grapefruit': 4, 'streaky bacon': 4, 'green plantain': 4, 'regular tofu': 4, 'manicotti pasta': 4, 'ganache': 4, 'color food orang': 4, 'puffed rice': 4, 'paella rice': 4, 'cajeta': 4, 'hard cider': 4, 'chocolate glaze': 4, 'sweet italian sausag link , cut into': 4, 'center cut pork loin chop': 4, 'quick-cooking barley': 4, 'pear nectar': 4, 'shellfish': 4, 'stevia extract': 4, 'flour tortilla ( not )': 4, 'jello': 4, 'pizza shell': 4, 'pink salmon': 4, 'pig foot': 4, 'coarse mustard': 4, 'black turtle bean': 4, 'eau de vie': 4, 'lily flower': 4, 'whey': 4, 'cut up chicken': 4, 'gingersnap': 4, 'red jalapeno pepper': 4, 'pepper onion': 4, 'tri tip': 4, 'white poppy': 4, 'spring roll': 4, 'coars black pepper': 4, 'cavolo nero': 4, 'grissini': 4, 'cultured buttermilk': 4, 'cod fish': 4, 'italian seasoning mix': 4, 'reduced mozzarella': 4, 'mini phyllo dough shell': 4, 'gorgonzola dolce': 4, 'fettuccine , cook drain': 4, 'grass-fed butter': 4, 'chinese': 4, 'cress': 4, 'gingersnap cooky': 4, 'flax': 4, 'glace cherry': 4, 'honey roasted peanut': 4, 'garlic herb feta': 4, 'kahlua': 4, 'KRAFT Shredded Cheddar Cheese': 4, 'malt syrup': 4, 'apple brandy': 4, 'pie pastry': 4, 'pineapple salsa': 4, 'cherry pie filling': 4, 'yucca': 4, 'reduced-fat cheese': 4, 'fennel frond': 4, 'treacle': 4, 'ahi tuna steak': 4, 'marmalade': 4, 'ginger beer': 4, 'fry mix': 4, 'cold cut': 4, 'peppermint extract': 4, 'buffalo mozzarella': 4, 'greater yam': 4, 'caribbean jerk seasoning': 4, 'unsweetened applesauce': 4, 'sansho': 4, 'muffin mix': 4, 'white corn syrup': 4, 'citrus': 4, 'sambal olek': 4, 'beef demi-glace': 4, 'Johnsonville Mild Italian Sausage Links': 4, 'pineapple ring': 4, 'evaporated cane': 4, 'turkey breakfast sausage': 4, 'water spinach': 4, 'pomelo': 4, 'brown ale': 4, 'cheese sauce': 4, 'nonfat vanilla yogurt': 4, 'stewing hen': 4, 'gelato': 4, 'reduced cheese': 4, 'sweetened coconut': 3, 'baking chocolate': 3, 'chicken schmaltz': 3, 'chestnut pur\\xc3\\xa9e': 3, 'cajun style tomato': 3, 'spaghetti sauce seasoning mix': 3, 'lemon thyme': 3, 'maple extract': 3, 'rum extract': 3, 'chunky mild salsa': 3, 'kangkong': 3, 'sugarcane': 3, 'fish finger': 3, 'Smithfield Ham': 3, 'aged cheddar cheese': 3, 'knorr leek recip mix': 3, 'le ham': 3, 'capocollo': 3, 'wish bone ranch dress': 3, 'mizuna': 3, 'gluten corn tortilla': 3, 'ampalaya': 3, 'umeboshi': 3, 'hoagie bun': 3, 'butterflied of lamb': 3, 'sweet potato vermicelli': 3, 'skate': 3, 'slider bun': 3, 'chocolate covered english toffee': 3, 'Knorr Onion Minicubes': 3, 'hibiscus flower': 3, 'low-fat cheddar': 3, 'cinnamon roll': 3, 'madeira wine': 3, 'vegetable demi-glace': 3, 'knorr homestyl stock chicken': 3, 'lotus': 3, 'organic cane sugar': 3, 'black bean corn salsa': 3, 'salmon roe': 3, 'eye of round steak': 3, 'tuna in oil': 3, 'hot sausage': 3, 'pork cube': 3, 'compressed yeast': 3, 'remoulade': 3, 'endive': 3, 'cura\\xc3\\xa7ao': 3, 'sundae syrup': 3, 'tahini paste': 3, 'gem lettuce': 3, 'carne asada': 3, 'pita pocket': 3, 'chocolate cake mix': 3, 'gingersnap crumb': 3, 'clamato': 3, 'jambalaya mix': 3, 'nut oil': 3, 'fish paste': 3, 'low-fat cheese': 3, 'char siu sauce': 3, 'ajinomoto': 3, 'crispy rice cereal': 3, 'Crystal Hot Sauce': 3, 'wild salmon': 3, 'romaine lettuce heart': 3, 'flavored vodka': 3, 'jumbo shell': 3, 'sweet chocolate': 3, 'boned lamb shoulder': 3, 'low-fat ricotta': 3, 'white vermouth': 3, 'white bread flour': 3, 'canning': 3, 'chocolate-hazelnut spread': 3, 'chili seasoning mix': 3, 'mango salsa': 3, 'jamaican pumpkin': 3, 'chocolate baking bar': 3, 'earl grey tea bag': 3, 'green gram': 3, 'codfish': 3, 'chipotle puree': 3, 'wheat pizza crust': 3, 'shelled shrimp': 3, 'quick-cooking tapioca': 3, 'gluten-free hoisin sauce': 3, 'chinese pancake': 3, 'garlic herb seasoning': 3, 'marrow bone': 3, 'pistou': 3, 'clover honey': 3, 'Lipton\\xc2\\xae Recipe Secrets\\xc2\\xae Onion Soup Mix': 3, 'split yellow lentil': 3, 'regular or convert rice': 3, 'cactus pad': 3, 'coarse semolina': 3, 'wheat soy sauce': 3, 'earl grey tea': 3, 'lamb loin': 3, 'Gourmet Garden garlic paste': 3, 'steamed brown rice': 3, 'condensed reduced reduced cream of chicken soup': 3, 'Scotch whisky': 3, 'beef heart': 3, 'powdered vanilla pudding mix': 3, 'red rice': 3, 'mullet': 3, 'Good Seasons Italian Dressing Mix': 3, 'oliv pit ripe': 3, 'polenta corn meal': 3, 'semisweet baking chocolate': 3, 'pinot grigio': 3, 'oat flour': 3, 'wheat rigatoni': 3, 'duck egg': 3, 'millet flour': 3, 'pot sticker': 3, 'fino sherry': 3, 'hawaiian sweet roll': 3, 'spice cake mix': 3, 'cacao': 3, 'hero roll': 3, 'brownie': 3, 'bhindi': 3, 'margarita': 3, 'biscotti': 3, 'old-fashioned oatmeal': 3, 'brown rice noodle': 3, 'konnyaku': 3, 'peach pie filling': 3, 'lasagna sheet': 3, 'cake yeast': 3, 'fatfre cream of chicken soup': 3, 'topping': 3, 'chile negro': 3, 'honeydew': 3, 'sweet potato starch': 3, 'framboise eau-de-vie': 3, 'white italian tuna in olive oil': 3, 'yu choy': 3, 'burdock': 3, 'reduced Mexican cheese': 3, 'lamb sausage': 3, 'rib-eye roast': 3, 'asian chile paste': 3, 'sorghum flour': 3, 'yuca': 3, 'drummettes': 3, 'tamale filling': 3, 'poppadoms': 3, 'sweet relish': 3, 'herb vinegar': 3, 'Gold Medal All Purpose Flour': 3, 'cauliflower floweret': 3, 'torn romain lettuc leav': 3, 'chunky tomato sauce': 3, 'Thai chili garlic sauce': 3, 'crumb topping': 3, 'cantal': 3, 'onion soup': 3, 'boiled ham': 3, 'low-fat marinara sauce': 3, 'Japanese mountain yam': 3, 'vegan sour cream': 3, 'back bacon': 3, 'buckwheat': 3, 'mostaccioli': 3, 'rice bran': 3, 'yellowfin tuna': 3, 'kewra essence': 3, 'arhar dal': 3, 'Fuyu persimmon': 3, 'unagi': 3, 'popcorn kernel': 3, 'Jameson Irish Whiskey': 3, 'gray': 3, 'wheat rotini': 3, 'swanson beef broth': 3, 'eggroll wrapper': 3, 'mozzarella stick': 3, 'poultry': 3, 'picholine': 3, 'curly-leaf parsley': 3, 'pork sirloin chop': 3, 'maitake mushroom': 3, 'potsticker wrapper': 3, 'ear': 3, 'rump steak': 3, 'ranch dip mix': 3, 'kirschenliqueur': 3, 'organic butter': 3, 'sweet white miso': 3, 'albacore': 3, 'oleo': 3, 'thousand island dressing': 3, 'lamb steak': 3, 'english muffin , split toasted': 3, 'condensed french onion soup': 3, 'blanched hazelnut': 3, 'prego mushroom italian sauce': 3, 'meal': 3, 'tenderloin steak': 3, 'butter cracker': 3, 'red raspberry': 3, 'Kerrygold Pure Irish Butter': 3, 'condensed reduced reduced cream of mushroom soup': 3, 'umeboshi paste': 3, 'snow pea shoot': 3, 'day old bread': 3, 'chrysanthemum': 3, 'ginger pur\\xc3\\xa9e': 3, 'tangerine zest': 3, 'french onion soup': 3, 'low-fat flour tortilla': 3, 'round sourdough bread': 3, 'cho-cho': 3, 'kiwifruit': 3, 'shanghai noodle': 3, 'jujube': 3, 'farina': 3, 'brewed tea': 3, 'spring water': 3, 'small pearl tapioca': 3, 'Tokyo negi': 3, 'corkscrew pasta': 3, 'canton noodle': 3, 'garlic bread': 3, 'penn pasta , cook drain': 3, 'parma ham': 3, 'grained': 3, 'brioche bun': 3, 'duck liver': 3, 'sazon': 3, 'crusty sandwich roll': 3, 'hoja santa': 3, 'cookie crumb': 3, 'small green chile': 3, 'top loin': 3, 'calabaza': 3, 'glazed pecan': 3, 'red russian kale': 3, 'Domino Light Brown Sugar': 3, 'vietnamese rice paper': 3, 'potato bread': 3, 'parmigiano': 3, 'flageolet': 3, 'San Marzano tomato': 3, 'lamb cutlet': 3, 'pork hock': 3, 'braising steak': 3, 'enriched white rice': 3, 'pheasant': 3, '( 14.5 oz . ) tomato': 3, 'vegetarian oyster sauce': 3, 'cactus paddle': 3, 'milkfish': 3, 'scrod': 3, 'bread , cut french into loaf': 3, 'anisette': 3, 'Ro-Tel Diced Tomatoes & Green Chilies': 3, 'brown chicken stock': 3, 'olive tapenade': 3, 'cannoli shell': 3, 'bolillo': 3, 'cheese dip': 3, 'Oscar Mayer Deli Fresh Smoked Ham': 3, 'butterscotch chip': 3, 'braeburn apple': 3, 'rice paddy herb': 3, 'vine': 3, 'jelli strawberri': 3, 'asian noodle': 3, 'urad dal split': 3, 'basil mayonnaise': 3, 'blue corn tortilla chip': 3, 'cream of shrimp soup': 3, 'ranch salad dressing mix': 3, 'cream sauce': 3, 'chinese parsley': 3, 'Thai eggplant': 3, 'mole paste': 3, 'sparkling sugar': 3, 'blanched almond flour': 3, 'chocolate covered coffee bean': 3, 'bacon , crisp-cooked crumbled': 3, 'summer savory': 3, 'pasta spiral': 3, 'digestive biscuit': 3, 'kasha': 3, 'white cannellini bean': 3, 'quince paste': 3, 'boudin': 3, 'japanese breadcrumb': 3, 'powdered buttermilk': 3, 'asian chili red sauc': 3, 'vegetable cocktail': 3, 'banana squash': 3, 'natto': 3, 'tex mex seasoning': 3, 'mie': 3, 'korean chile': 3, 'fish broth': 3, 'yeast extract': 3, 'crabmeat , thaw drain': 3, 'wondra flour': 3, 'p\\xc3\\xa2t\\xc3\\xa9': 3, 'nonfat chicken broth': 3, 'besan ( flour )': 3, 'vegan cheese': 3, 'cacao nib': 3, 'lowfat pepper jack cheese': 3, 'american cheese slice': 3, 'coke': 3, 'lentilles du puy': 3, 'strozzapreti': 3, 'eye of round roast': 3, 'swanson chicken broth': 3, 'grain pasta': 3, 'empanada dough': 3, 'country loaf': 3, 'mcintosh apple': 3, 'chinese spinach': 3, 'Philadelphia Light Cream Cheese': 3, 'strawberry syrup': 3, 'sweet sour mix': 3, 'helix snail': 3, 'chocolate wafer cooky': 3, 'baking yeast': 3, 'wheat starch': 3, 'full-fat yogurt': 3, 'taleggio': 3, '( oz . ) spinach': 3, 'Bisquick Original All-Purpose Baking Mix': 3, 'canned snail': 3, 'Swerve Sweetener': 3, 'meat filling': 3, 'knorr chipotl minicub': 3, 'orange segment': 3, 'roe': 3, 'Philadelphia Cooking Creme': 3, 'linguica': 3, 'chicken-apple sausage': 3, 'oyster-flavor sauc': 3, 'honey glazed ham': 3, 'duxelles': 3, 'rainbow trout': 3, 'curing': 3, 'strawberry ice cream': 3, 'deep-fried tofu': 3, 'cranberry cocktail': 3, 'barbecue rub': 3, 'French bread loaf': 3, 'ginseng': 3, 'recipe': 3, 'turbot': 3, 'verjus': 3, 'baking apple': 3, 'drambuie': 3, 'cooked long-grain brown rice': 3, 'farofa': 3, 'pork bouillon cube': 3, 'halloumi cheese': 3, 'caul': 3, 'organic coconut milk': 3, 'chinese plum sauce': 3, 'thin deli ham': 3, 'chunky tomato salsa': 3, 'onion gravy': 3, 'aka miso': 3, 'Greek feta': 3, 'reduced reduced cream of mushroom soup': 3, 'bread butter pickle slice': 3, 'cuminseed': 3, '( oz . ) refried bean': 3, 'empanada': 3, 'sole': 3, 'Melba toast': 3, 'candlenut': 3, 'black truffle oil': 3, 'knorr reduc chicken flavor bouillon': 3, 'low-fat vanilla yogurt': 3, 'dessert wine': 3, \"Eggland 's Best\\xc2\\xae egg\": 3, 'double concentrate tomato paste': 3, 'extra fine sugar': 3, 'wheat cereal': 3, 'pizza crust mix': 3, 'vanilla bean ice cream': 3, 'Quinoa Flour': 3, 'black forest ham': 3, 'golden mushroom soup': 3, 'beef rump steak': 3, 'smoked pork neck bone': 3, 'head cauliflower': 3, 'tempura batter': 3, 'brown rice syrup': 3, 'knorr tomato bouillon with chicken flavor cube': 3, 'lamb fillet': 3, 'powdered turmeric': 3, 'bagel': 3, 'wheat angel hair pasta': 3, 'nonfat powdered milk': 3, 'deli roll': 3, 'dri thyme , crush': 3, 'habanero hot sauce': 3, 'croissant dough': 3, 'roasted salted cashew': 3, 'pineapple preserve': 3, 'turkey sausage link': 3, 'smoked haddock fillet': 3, 'white grapefruit': 3, 'panang curry paste': 3, 'kinchay': 3, 'wildflower honey': 3, 'Asian chili sauce': 3, 'tap water': 3, 'acinus di pepe': 3, 'maui onion': 3, 'bean soup': 3, 'top round roast': 3, 'cooking cream': 3, 'Breakstone\\xe2\\x80\\x99s Sour Cream': 2, 'broiler': 2, 'chicken gravy mix': 2, 'salsify': 2, 'honey dijon mustard': 2, 'sweet mustard': 2, 'dumpling skin': 2, 'balsamic vinaigrette salad dressing': 2, 'roquefort': 2, 'Bartlett Pear': 2, 'sour mix': 2, 'pickling liquid': 2, 'moroccan seasoning': 2, 'red pepper hot sauce': 2, 'piquillo pepper': 2, 'McCormick Ground Ginger': 2, 'cipollini onion': 2, 'Morton Salt': 2, 'pink lady apple': 2, 'canola oil cooking spray': 2, 'reduced sugar orange marmalade': 2, 'tofu puff': 2, 'pretzel': 2, 'whipped butter': 2, 'gingersnap cookie crumb': 2, 'kirschwasser': 2, 'barley miso': 2, 'ox tongue': 2, 'pasta shape': 2, 'microgreens': 2, 'alum': 2, 'hot spanish paprika': 2, 'rosemary needle': 2, 'borage': 2, 'Land O Lakes\\xc2\\xae Butter': 2, 'mochi': 2, 'cooked steak': 2, 'Southern Comfort Liqueur': 2, 'spring green': 2, 'gram dal': 2, 'lavender flower': 2, 'green chard': 2, 'chilli bean sauce': 2, 'condensed reduced reduced tomato soup': 2, 'skate wing': 2, 'cubed pumpkin': 2, 'Irish Red ale': 2, 'teriyaki marinade': 2, 'pork tongue': 2, 'thin rice stick noodle': 2, 'arrowroot flour': 2, 'cooked brisket': 2, 'bottom round roast': 2, 'beef soup bone': 2, 'center-cut salmon fillet': 2, 'reduced whipped topping': 2, 'brown gravy': 2, 'fast-rising active yeast': 2, 'chicken wingettes': 2, 'blade steak': 2, 'cole slaw mix': 2, 'vital wheat gluten': 2, 'black walnut': 2, 'Mizkan Oigatsuo Tsuyu Soup Base': 2, 'range chicken': 2, 'caramel ice cream': 2, 'steel-cut oatmeal': 2, 'dr. pepper': 2, 'Barilla Oven-Ready Lasagne': 2, 'lemon dressing': 2, 'breadfruit': 2, 'tvp': 2, 'foie gras terrine': 2, 'black onion': 2, 'le vegetable broth': 2, 'pinot blanc': 2, 'Best Foods\\xc2\\xae Real Mayonnaise': 2, 'tricolor quinoa': 2, 'hong kong-style noodle': 2, 'eating apple': 2, 'shanghai bok choy': 2, 'Manzanilla olive': 2, 'seville orange': 2, 'cajun-creole seasoning mix': 2, 'pollock': 2, 'malt': 2, '( oz . ) spinach , thawed squeezed': 2, 'sago pearl': 2, 'thickener': 2, 'crumb crust': 2, 'lavash': 2, 'Progresso\\xe2\\x84\\xa2 Chicken Broth': 2, 'papalo': 2, 'pasta rotel': 2, 'TACO BELL\\xc2\\xae Thick & Chunky Mild Salsa': 2, 'ragu old world style sweet tomato basil pasta sauc': 2, 'process cheese spread': 2, 'peppered bacon': 2, 'chocolate mousse': 2, 'stem ginger in syrup': 2, 'zucchini blossom': 2, 'sweetbread': 2, 'Kikkoman Oyster Sauce': 2, 'aonori': 2, 'montreal steak seasoning': 2, 'unsmoked bacon': 2, 'butterscotch sauce': 2, 'Italian turkey sausage link': 2, 'link': 2, 'low-fat chocolate milk': 2, 'Yuzukosho': 2, 'karo syrup': 2, 'chinese turnip': 2, 'wheat bun': 2, 'english breakfast tea': 2, 'pancetta slice': 2, 'asian wheat noodle': 2, 'Praline Liqueur': 2, 'chinese red rice vinegar': 2, 'cream style cottage cheese': 2, 'citrus slice': 2, 'wheat beer': 2, 'bottled chili sauce': 2, 'wheat rotini pasta': 2, 'canned bean': 2, 'wheat dough': 2, 'garlic flake': 2, 'pastis': 2, 'nonfat cream cheese': 2, 'keema': 2, 'chinese ginger': 2, 'creamed coconut': 2, 'unsulphured molasses': 2, 'Kitchen Bouquet': 2, 'nutritional yeast flake': 2, 'Knorr\\xc2\\xae Vegetable recipe mix': 2, 'Sargento\\xc2\\xae Traditional Cut Shredded Cheese Mexican': 2, 'beaujolais': 2, 'top loin steak': 2, 'mango nectar': 2, 'castellane': 2, 'cheese stick': 2, 'v8': 2, 'canned chicken': 2, 'Pale Ale': 2, 'Knox unflavored gelatin': 2, 'kefalotiri': 2, 'diet dr. pepper': 2, 'flavored tortilla chip': 2, 'meat loaf mix': 2, 'CURRY GUY Smoked Spicy Salt': 2, 'popped popcorn': 2, 'all beef hot dog': 2, 'textured soy protein': 2, 'bottled lime': 2, 'young coconut meat': 2, 'fruit filling': 2, 'sweet baking chocolate': 2, 'jamaica': 2, 'korma paste': 2, 'amaranth': 2, 'mexican cooking sauce': 2, 'refrigerated four cheese ravioli': 2, 'extra wide egg noodle': 2, 'meat marinade': 2, 'ceylon cinnamon': 2, \"Hellmann '' s Light Mayonnaise\": 2, 'duckling': 2, 'italian-style meatball': 2, 'tagliarini': 2, 'reduced reduced swiss cheese': 2, 'lavender bud': 2, 'bouillon granule': 2, 'cream ic peach': 2, 'pork tail': 2, 'saltine crumb': 2, 'pepperocini': 2, 'flat cut': 2, 'kashmiri chile': 2, 'muscadine grape': 2, 'Spanish olive': 2, 'raspberry puree': 2, 'alfredo sauce mix': 2, 'Ciabatta roll': 2, 'chitterlings': 2, 'roasting hen': 2, 'pilsner': 2, 'reduced chunky peanut butter': 2, 'sucanat': 2, 'wheat bread slice': 2, 'muesli': 2, 'heeng': 2, 'mexican cheese': 2, 'Japanese Mayonnaise': 2, 'candy cane': 2, 'pastina': 2, 'carp': 2, 'chile verde': 2, 'cucumber salad': 2, 'gravy master': 2, \"devil 's food cake mix\": 2, 'gobo': 2, 'bean soup mix': 2, 'wheat baguette': 2, 'bertolli four rosa sauc': 2, 'raw tiger prawn': 2, 'candied pineapple': 2, 'hoop cheese': 2, 'teardrop tomato': 2, 'smooth natural peanut butter': 2, 'chili con carne': 2, 'finger chili': 2, 'blackstrap molasses': 2, 'fillet steak': 2, 'red serrano pepper': 2, 'artichoke bottom': 2, 'semi pearled farro': 2, 'sorghum': 2, 'lamb for stew': 2, 'cassava meal': 2, 'hamachi': 2, 'herbed goat cheese': 2, 'european style butter': 2, 'miniature chocolate chip': 2, 'chocolate sandwich cooky': 2, 'shrimp meat': 2, 'herb seasoned stuffing mix': 2, 'jamaican curry': 2, 'mild pork sausage': 2, 'stir fry beef meat': 2, 'tikka paste': 2, 'wonton noodle': 2, 'silver dragee': 2, 'asian barbecue sauce': 2, 'water packed artichoke heart': 2, 'homemade vegetable stock': 2, 'au jus mix': 2, 'quick-cooking hominy grit': 2, 'cuttlefish ball': 2, 'fermented bean paste': 2, 'coarse-grain': 2, 'hungarian hot paprika': 2, 'shoulder roast': 2, 'e-fu noodl': 2, 'redfish': 2, 'cremini': 2, 'Crystal Farms Butter': 2, 'cream of potato soup': 2, 'kelp noodle': 2, 'tartlet shell': 2, 'shungiku': 2, 'beef smoked sausage': 2, 'Hidden Valley\\xc2\\xae Original Ranch Salad\\xc2\\xae Dressing & Seasoning Mix': 2, 'bittersweet baking chocolate': 2, 'asafetida ( )': 2, 'beurre mani\\xc3\\xa9': 2, 'white tequila': 2, 'pie crust mix': 2, 'cava': 2, 'cooked italian meatball': 2, 'Nestle Table Cream': 2, 'bitter gourd': 2, 'wheat bread toasted': 2, 'small tomato': 2, 'Marcona almond': 2, 'hibiscus': 2, \"Campbell 's Condensed Cream of Mushroom Soup\": 2, 'shortcake': 2, 'dri basil , crush': 2, \"za'atar\": 2, 'savoiardi': 2, 'currant jelly': 2, 'muenster': 2, 'Mizkan Rice Vinegar': 2, 'olive oil mayonnaise': 2, 'cream filled chocolate sandwich cooky': 2, 'turkey deli meat': 2, 'traditional italian sauce': 2, 'full cream cheese': 2, 'chinese chili paste': 2, 'rustic rub': 2, 'eel': 2, 'culantro': 2, 'vanilla frosting': 2, 'alphabet pasta': 2, 'Spanish smoked paprika': 2, 'prime rib': 2, 'red mullet': 2, 'teleme': 2, 'bacardi': 2, 'sangria': 2, 'sweet italian pork sausage': 2, 'cointreau liqueur': 2, 'peel tomato , undrain chop': 2, 'rotel pasta , cook drain': 2, 'brioche bread': 2, 'pancit canton': 2, 'stewing steak': 2, 'bbq seasoning': 2, 'citrus fruit': 2, 'beef marrow': 2, 'greater galangal': 2, 'szechuan sauce': 2, 'shoulder lamb chop': 2, 'high-gluten flour': 2, 'shell steak': 2, 'bresaola': 2, 'rennet': 2, 'horseradish mustard': 2, 'unbaked pie shell': 2, \"i ca n't believ it ' not butter ! made with olive oil spread\": 2, 'celery flake': 2, 'beef rump': 2, 'reduced teriyaki sauce': 2, 'small egg': 2, 'mini cucumber': 2, 'hot pepper ring': 2, 'low-fat goat cheese': 2, 'Kung Pao sauce': 2, 'reduced italian dressing': 2, 'buffalo mozarella': 2, 'aged Manchego cheese': 2, 'white baking bar': 2, 'tropical fruit': 2, 'red bartlett pear': 2, 'Hidden Valley\\xc2\\xae Original Ranch\\xc2\\xae Light Dressing': 2, 'brazil nut': 2, 'southwest chipotle seasoning': 2, 'cannelloni shell': 2, 'low-fat smoked sausage': 2, 'semi firm tofu': 2, 'roti': 2, 'Jif Creamy Peanut Butter': 2, 'nacho chip': 2, 'cream cheese spread': 2, 'carpaccio': 2, 'rustic bread': 2, 'veget soup mix': 2, 'chicken flavor stuffing mix': 2, 'cold meatloaf': 2, 'cactus': 2, 'natural low-fat yogurt': 2, 'gluten cornmeal': 2, 'pork sirloin roast': 2, 'cooked barley': 2, 'hot chocolate mix': 2, 'bottled italian dressing': 2, 'refined sugar': 2, 'graham cracker pie crust': 2, 'au jus gravy mix': 2, 'pearl tapioca': 2, 'poppy dressing': 2, 'butter pecan ice cream': 2, 'parmesan romano': 2, 'organic coconut oil': 2, 'cereal flake': 2, 'crumbled cheese': 2, 'pasilla chile pepper': 2, 'buckwheat groat': 2, 'vanilla cream': 2, 'komatsuna': 2, 'chinese cinnamon': 2, 'country crock calcium plus vitamin d': 2, 'sturgeon': 2, 'ginkgo nut': 2, 'conch': 2, 'wheat pita round': 2, 'galanga': 2, 'hot tea': 2, 'boysenberry': 2, 'soursop': 2, 'chili habanero pepper': 2, 'erythritol': 2, 'apricot brandy': 2, 'nori flake': 2, 'Hidden Valley\\xc2\\xae Original Ranch\\xc2\\xae Dips Mix': 2, 'nonpareil': 2, 'gluten-free spaghetti': 2, 'food paste color': 2, '( oz . ) sweetened condensed milk': 2, 'tex-mex cheese': 2, 'toffee sauce': 2, 'hot cocoa mix': 2, 'dukkah': 2, 'lipton tea bag': 2, 'pickle spear': 2, 'cajun seasoning mix': 2, 'turkey carcass': 2, 'crab claw': 2, 'veal tongue': 2, 'pork rib chop': 2, 'satsuma orange': 2, 'veal scallopini': 2, 'pompano': 2, 'solid white tuna in oil': 2, 'gravy granule': 2, 'burgundy wine': 2, 'chocolate chunk': 2, 'katsuo bushi': 2, 'canned jalapeno pepper': 2, 'smoked fully cooked ham': 2, 'cream cheese with chive onion': 2, 'natural sugar': 2, 'canned chipotle': 2, 'coconut butter': 2, 'coconut milk yogurt': 2, 'coulis': 2, 'Old El Paso Taco Seasoning Mix': 2, 'pummelo': 2, 'sugarcane stick': 2, 'gluten-free pasta': 2, 'Knorr\\xc2\\xae Pasta Sides\\xe2\\x84\\xa2 - Alfredo': 2, 'toffee bit': 2, 'petit poi': 2, 'swede': 2, 'tobiko': 2, 'gumbo': 2, 'filo': 2, 'meat stock': 2, 'andouille turkey sausage': 2, 'cabrales': 2, 'chilean bass': 2, 'canned tuna': 2, 'piri-piri sauce': 2, 'mini m & m': 2, 'soy chorizo': 2, 'paccheri': 2, 'vegetable bouillon cube': 2, 'frangipane': 2, 'condensed soup': 2, 'Reblochon': 2, 'nori paper': 2, 'pitted cherry': 2, 'soup mix': 2, 'Wolf Brand Chili': 2, 'vanilla soy milk': 2, 'comino': 2, 'mustard sauce': 2, 'potato roll': 2, 'pork blade steak': 2, 'pure vanilla': 2, 'vanilla low-fat ic cream': 2, 'bone marrow': 2, 'ibarra': 2, 'Bertolli Garlic Alfredo Sauce': 2, 'angel food cake mix': 2, 'chuno sauce': 2, 'Knorr\\xc2\\xae Fiesta Sides\\xe2\\x84\\xa2 - Mexican Rice': 2, 'Rice Krispies Cereal': 2, 'cherry gelatin': 2, 'Poire Williams': 2, 'tikka masala curry paste': 2, 'coleslaw dressing': 2, 'mesquite seasoning': 2, 'huitlacoche': 2, 'Doubanjiang': 2, 'brown butter': 2, 'karashi': 2, 'full sour cream': 2, 'lowfat greek yogurt': 2, 'sugar cookie dough': 2, 'knoblauch': 2, 'veal knuckle': 2, 'Jiffy Corn Muffin Mix': 2, 'poussin': 2, 'fructose': 2, 'raclette': 2, 'tomato on the vine': 2, 'cashew chop unsalt': 2, 'non chicken stock': 2, 'luncheon meat': 2, 'nonfat sweetened condensed milk': 2, 'boned duck': 2, 'White Lily Flour': 2, 'red sockeye': 2, 'hazelnut meal': 2, 'cream cheese with chive': 2, 'linguine , cook drain': 2, 'katakuriko': 2, 'dr pepper': 2, 'sack': 2, 'Jell-O Gelatin Dessert': 2, 'bologna': 2, 'veal loin chop': 2, 'white arborio rice': 2, 'Crispy Rice Cereal': 2, 'low-fat coffee ice cream': 2, 'precooked meatball': 2, 'ramen soup mix': 2, 'bottom round': 2, 'sunchoke': 2, 'nappa cabbage': 2, 'cascabel chile': 2, 'sparkling mineral water': 2, 't-bone steak': 2, 'hing ( )': 2, 'vegetable gumbo': 2, 'herb seasoned stuffing': 2, 'chinese black bean': 2, 'kalamansi': 2, 'queso manchego': 2, 'Texas toast bread': 2, 'pork chop , inch thick': 2, 'black trumpet mushroom': 2, 'pisco': 2, 'goya sazon': 2, 'grain rice': 2, 'sauce tomato': 2, 'cooked pumpkin': 2, 'pandan extract': 2, 'wheat cracker': 2, 'soft bun': 2, 'ginger syrup': 2, 'yogurt cheese': 2, 'valencia rice': 2, 'yaki-nori': 2, 'condensed cream': 2, 'mi': 2, 'pineapple concentrate': 2, 'low-sodium low-fat chicken broth': 2, 'McCormick Parsley Flakes': 2, 'disco empanada': 2, 'filling': 2, 'Stonefire Italian Thin Pizza Crust': 2, 'licorice': 2, 'bee pollen': 2, 'beef sirloin steak': 2, 'beef rib eye steak': 2, 'tomato chutney': 2, 'duck stock': 2, 'jerk paste': 2, 'chocolate truffle': 2, 'yellow pea': 2, 'razor clam': 2, 'pickled garlic': 2, 'carnation': 2, 'pork cheek': 2, 'wheat french bread': 2, 'toasted unsweetened coconut': 2, 'wheatberries': 2, 'gluten blend': 2, 'old ginger': 2, 'carambola': 2, 'melon liqueur': 2, 'Jasmine brown rice': 2, 'asian rice noodle': 2, 'Indian spice': 2, 'meat cut': 2, 'flavored rice mix': 2, 'Breyers\\xc2\\xae Natural Vanilla Ice Cream': 2, '1/2 to lb . chicken , cut into serving piece': 2, 'sour orange': 2, 'onion slice': 2, 'reduced provolone cheese': 2, 'pignolis': 2, 'caciocavallo': 2, 'gluten-free breadcrumb': 2, 'french toast': 2, \"pig 's trotter\": 2, 'milk & cream': 2, 'chocolate spread': 2, 'Knorr Chicken Stock Pots': 2, 'iced tea': 2, 'chile puree': 2, 'rockfish': 2, 'salmon sashimi': 2, 'organic milk': 2, 'cubed meat': 2, 'Texas Pete Hot Sauce': 2, 'any': 2, \"Best Food 's Mayonnaise with Lime Juice\": 2, 'coke zero': 2, 'queso fresca': 2, 'coconut meat': 2, 'bison': 2, 'almond filling': 2, 'Greek dressing': 2, 'glace de viande': 2, 'creamed horseradish': 2, 'kokum': 2, 'paratha': 2, 'abalone': 2, 'strained yogurt': 2, 'raw prawn': 2, 'mole poblano': 2, 'southwest seasoning': 2, 'kabuli channa': 2, 'ficelle': 2, 'amber': 2, 'cr\\xc3\\xa8me de menthe': 2, 'tostitos': 2, 'regular cucumber': 2, 'Alaskan king crab': 2, 'Spice Islands Oregano': 2, 'crescent dinner roll': 2, 'anasazi bean': 2, 'jambalaya rice mix': 2, 'soft sandwich roll': 2, 'triscuits': 2, 'radish slice': 2, 'herring': 2, 'fish flake': 2, 'cheddar cheese soup': 2, 'flan': 2, 'guinea hen': 2, 'shoulder meat': 2, 'bhaji': 2, 'mahimahi fillet': 2, 'pudding mix': 2, 'sweet bean paste': 2, 'salted nut': 2, 'sashimi grade tuna': 2, 'robiola': 2, 'cream cheese lowfat': 2, 'alcohol': 2, 'chicken gravy': 2, 'long green bean': 2, 'bihon': 2, 'regular sour cream': 2, 'fast rising yeast': 2, 'black moss': 2, 'tarama': 2, 'regular sugar': 2, 'wheat spaghetti noodle': 2, \"M & M 's Candy\": 2, 'low-fat baked tortilla chip': 2, 'hot italian turkey sausage': 2, 'barolo': 2, 'aspic': 2, 'reduced cream of mushroom soup': 2, 'strip steak': 2, 'crispy bacon': 2, 'cummin': 2, 'mostarda': 2, 'chicory': 2, 'Godiva Chocolate Liqueur': 2, 'pea eggplant': 2, 'anise oil': 2, 'kasu': 2, 'snapper head': 2, 'capon': 2, 'mentsuyu': 2, 'cubed ham': 2, 'Stonefire Italian Artisan Pizza Crust': 2, 'peppermint': 2, 'pork sirloin': 2, 'buffalo': 2, 'rigatoni or tube pasta': 2, \"Potatoes O'Brien\": 2, 'french sandwich roll': 2, 'black pudding': 2, 'beau monde seasoning': 2, 'knorr rice side cheddar broccoli': 2, 'frog': 2, 'preserv raspberri seedless': 2, 'blanco tequila': 2, 'finely coffee': 2, 'Johnsonville\\xc2\\xae Mild Italian Ground Sausage': 2, 'hot pork sausage': 2, 'Braeburn Apple': 2, 'Mexican vanilla extract': 2, 'accent': 2, 'toast point': 2, 'giant white bean': 2, 'reduced ranch dressing': 2, 'sub roll': 2, 'flavored vinegar': 2, 'pickle wedge': 2, 'lady finger': 2, 'wild garlic': 2, 'tortellini , cook drain': 2, 'small yellow onion': 2, 'shrimp small uncook': 2, 'beef meat stew': 2, 'rooster': 2, 'myzithra': 2, 'oil packed tomato': 2, 'reduced ricotta cheese': 2, 'skin on bone in chicken': 2, 'chuka soba noodle': 2, 'grassfed beef': 2, 'banh pho rice noodle': 2, 'tamarind water': 2, 'green chile sauce': 2, 'tuna drained flaked': 2, 'Diamond Crystal\\xc2\\xae Kosher Salt': 2, 'meat glaze': 2, 'other': 2, 'ramen noodle seasoning': 2, 'tree ear mushroom': 2, 'crusty wheat toast': 1, 'sandwich wrap': 1, 'no added canned tomato': 1, 'clam sauce': 1, 'broccoli romanesco': 1, 'country crock honey spread': 1, 'Kraft Slim Cut Mozzarella Cheese Slices': 1, 'refrigerated dinner roll': 1, 'wheat pita bread round': 1, 'orange soda': 1, 'chopmeat': 1, 'shred cheddar sharp varieti': 1, 'custard dessert mix': 1, 'gluten-free broth': 1, 'lady house seasoning': 1, 'Martha White Cornbread Mix': 1, 'Toulouse sausage': 1, 'mild sausage': 1, 'white creme de cacao': 1, 'gluten flour': 1, 'hop': 1, 'yellowfin': 1, 'beef stew seasoning mix': 1, 'aleppo': 1, 'Robert Mondavi Fume Blanc': 1, 'treviso': 1, 'duck bone': 1, 'gluten-free tamari sauce': 1, 'marrons glac\\xc3\\xa9s': 1, 'arrow': 1, 'yam bean': 1, 'cola-flavored carbonated beverage': 1, 'reduced ham': 1, 'jamaican jerk rub': 1, 'lamb seasoning': 1, 'curry mix': 1, 'Bertolli\\xc2\\xae Arrabbiata Sauce': 1, 'carrot green': 1, 'gluten vanilla extract': 1, 'Crystal Farms Shredded Gouda Cheese': 1, 'asian black bean sauce': 1, 'icing mix': 1, 'Lipton\\xc2\\xae Iced Tea Brew Family Size Tea Bags': 1, \"Cox 's Orange Pippin\": 1, 'Flora pro.activ': 1, 'pecan meal': 1, 'raspberry lambic': 1, 'red drum': 1, 'fresno pepper': 1, 'Goya Hot Sauce': 1, 'soybean oil': 1, 'lemon twist': 1, 'chinese celery cabbage': 1, 'flowering chinese chive': 1, 'melissa': 1, 'reduced garbanzo': 1, 'mentaiko': 1, 'butterscotch pudding mix': 1, 'sweet soy': 1, 'cinnamon candy cane': 1, 'nonfat half-and-half': 1, 'garlic olive oil': 1, 'chunky mushroom pasta sauce': 1, 'sorghum molasses': 1, 'red mustard': 1, 'barilla piccolini mini': 1, 'potato nugget': 1, 'chestnut spread': 1, 'spinach , rins pat': 1, 'no-calorie sweetener': 1, 'praline syrup': 1, 'burro banana': 1, 'marshmallow vodka': 1, 'soft margarine': 1, 'smoked mackerel': 1, 'asakusa nori': 1, 'fat-trimmed beef flank steak': 1, 'wish-bone country italian dressing': 1, 'buttermilk self-rising white cornmeal mix': 1, 'baked pita chip': 1, 'lowfat monterey jack cheese': 1, 'baking sugar': 1, 'homemade stock': 1, 'goat milk feta': 1, 'filipino eggplant': 1, 'Velveeta Queso Blanco': 1, 'bone-in short rib': 1, 'tiger lily bud': 1, 'do chua': 1, 'panela': 1, 'garland chrysanthemum': 1, 'kha': 1, 'Heinz Tomato Ketchup': 1, 'pot pie': 1, 'strip loin': 1, 'samphire': 1, 'cinnamon graham cracker': 1, 'tree ear': 1, 'conchiglie': 1, 'lavender honey': 1, 'lemon pudding': 1, 'mooli': 1, 'buckwheat honey': 1, 'sloe gin': 1, 'frankfurter': 1, 'speck': 1, 'smoked hog jowl': 1, 'marrons': 1, 'garlic mayonnaise': 1, 'Argo Corn Starch': 1, 'champagne grape': 1, 'refrigerated chocolate chip cookie dough': 1, 'licor': 1, 'pepperidge farm puff pastry sheet': 1, 'rock cornish game hen': 1, 'madagascar bourbon vanilla extract': 1, 'sesame bun': 1, 'salted seaweed': 1, 'matzo': 1, 'lipton pure unsweeten iced tea': 1, 'katsuo dashi': 1, 'chinese wolfberries': 1, 'imitation seafood': 1, 'powdered sugar icing': 1, 'reduced condensed cream of chicken soup': 1, 'Mazola Canola Oil': 1, 'legume': 1, 'turtle': 1, 'Hidden Valley\\xc2\\xae Farmhouse Originals Italian with Herbs Dressing': 1, 'mellow white miso': 1, 'dulong': 1, 'date sugar': 1, 'pasta wagon wheel': 1, 'carrot green pea': 1, 'ascorbic acid': 1, 'reduced chicken flavor stuffing mix': 1, 'herb dressing': 1, 'baobab fruit': 1, 'corn bread crumb': 1, 'ammonium bicarbonate': 1, 'Sangiovese': 1, 'havarti': 1, 'deviled ham': 1, 'Adobo All Purpose Seasoning': 1, 'Lipton Sparkling Diet Green Tea with Strawberry Kiwi': 1, 'lotus paste': 1, 'maraschino': 1, 'pita wrap': 1, 'brown rice spaghetti': 1, 'duck sauce': 1, 'pekin duck': 1, 'Neapolitan ice cream': 1, 'cranberry concentrate': 1, 'single malt Scotch': 1, 'garlic pepper blend': 1, 'asti spumante': 1, 'vegan yogurt': 1, 'red quinoa': 1, 'unsweetened vanilla almond milk': 1, 'low-fat vegetarian chili with bean': 1, 'sablefish': 1, 'side pork': 1, 'cake mix or white yellow': 1, 'sucralose sweetener': 1, 'p\\xc3\\xa2te bris\\xc3\\xa9e': 1, 'milk chocolate kiss': 1, 'caponata': 1, 'dinosaur kale': 1, 'Elmlea single': 1, 'bacon rind': 1, 'tomato garlic pasta sauce': 1, 'double crust': 1, 'Ragu Classic Alfredo Sauce': 1, 'nondairy whipped topping': 1, 'strawberry gelatin': 1, 'crusty loaf': 1, 'vegetarian chicken': 1, 'rub seasoning': 1, 'buttercup squash': 1, 'chicharron': 1, 'hen': 1, 'fideos pasta': 1, 'pointed pepper': 1, 'rusk': 1, 'cipollini': 1, 'coconut syrup': 1, 'Gourmet Garden Parsley': 1, 'puff paste': 1, 'ti': 1, 'thai black glutinous rice': 1, 'canned salmon': 1, 'reduced vegetable stock': 1, 'gluten-free oat': 1, 'b\\xc3\\xa2tarde': 1, 'chile con queso': 1, 'century egg': 1, 'pandan essence': 1, 'cooked vegetable': 1, 'sherbet': 1, 'puy lentil': 1, 'Kikkoman Less Sodium Soy Sauce': 1, 'cream or half half': 1, 'king salmon': 1, 'chocolate fudge ice cream': 1, 'Holland House White Wine Vinegar': 1, 'chocolate milk': 1, 'beef stew': 1, 'gluten barbecue sauce': 1, 'McCormick\\xc2\\xae Pure Vanilla Extract': 1, 'asian dressing': 1, 'mousse': 1, 'turkey ham': 1, 'chocolate flavored liqueur': 1, 'eye steak': 1, 'wasabe': 1, 'Italian seasoned tomato': 1, 'kumquat in syrup': 1, 'truffle puree': 1, 'Alexia Waffle Fries': 1, 'awase miso': 1, 'skinned boned duck': 1, 'agave tequila': 1, 'burger roll': 1, 'refrigerated seamless crescent dough': 1, 'hots': 1, 'masur dal': 1, 'raw buckwheat groat': 1, 'mian': 1, 'house seasoning': 1, 'liquid egg substitute': 1, 'Kraft Extra Sharp Cheddar Cheese': 1, 'au jus gravy': 1, 'salted roasted almond': 1, 'soft-shell clam': 1, 'Homemade Yogurt': 1, 'dandelion': 1, \"Hellmann 's Dijonnaise Creamy Dijon Mustard\": 1, 'lamb cube': 1, 'Tyson Crispy Chicken Strips': 1, 'red velvet cake mix': 1, 'red vinegar': 1, 'sauce mix': 1, 'strawberry compote': 1, 'fish bone': 1, 'Italian seasoned panko bread crumb': 1, 'ranch-style seasoning': 1, 'wheat bread dough': 1, 'Vadouvan curry': 1, 'reduced chicken stock': 1, 'Mountain Dew Soda': 1, 'sobrasada': 1, 'padron pepper': 1, 'cumberland sausage': 1, 'mandarin pancake': 1, 'ginseng tea': 1, 'sesame butter': 1, 'scape pesto': 1, 'poundcake': 1, 'fillet medallion': 1, 'chinese pea': 1, 'Pure Wesson Canola Oil': 1, 'low-fat cr\\xc3\\xa8me fra\\xc3\\xaeche': 1, 'blueberri preserv': 1, 'cheddar': 1, 'german mustard': 1, 'cajun remoulade': 1, 'low-fat canned coconut milk': 1, 'tamari almond': 1, 'seasoned turkey': 1, \"Colman 's Mustard Powder\": 1, 'Smart Balance Cooking Spray': 1, 'reduced pasta sauce': 1, 'evaporated low-fat milk': 1, 'BACARDI\\xc2\\xae Superior': 1, 'salted anchovy': 1, 'Galliano': 1, 'low-fat salad dressing': 1, 'Old El Paso Green Chiles': 1, 'wheat bread flour': 1, 'quahog clam': 1, 'toasted nut': 1, 'wish bone red wine vinaigrett dress': 1, 'steak tip': 1, 'Elmlea Single Light': 1, 'dipping chocolate': 1, 'italian meatball': 1, 'masago': 1, 'tubettini': 1, 'vanilla almondmilk': 1, 'macaroni cheese dinner': 1, 'pumpkin oil': 1, 'miswa': 1, 'brown beech mushroom': 1, 'yam noodle': 1, 'Meyer lemon peel': 1, 'coffee low-fat yogurt': 1, 'chinese bun': 1, 'imitation vanilla flavoring': 1, 'Ragu Sauce': 1, 'gluten-free pie crust': 1, 'La Victoria Red Chile Sauce': 1, 'ceci bean': 1, 'garbonzo bean': 1, 'hierba santa': 1, 'bean curd stick': 1, 'mora chile': 1, 'black grape': 1, 'kochu chang': 1, 'roast duck meat': 1, 'saba': 1, 'veal medallion': 1, 'low-fat caesar dressing': 1, 'cook drain pasta ziti': 1, 'Boursin': 1, 'ketjap': 1, 'brown muscavado sugar': 1, \"Uncle Ben 's Ready Rice Whole Grain Brown Rice\": 1, 'cherry vinegar': 1, 'Oscar Mayer Cotto Salami': 1, 'non dairy sour cream': 1, 'bourbon liqueur': 1, 'reduced refried bean': 1, 'grain bun': 1, 'cooked beetroot': 1, 'branca menta': 1, 'cabbage head': 1, 'passover wine': 1, 'crosswise': 1, 'accompaniment': 1, 'chive blossom': 1, 'creamy gravy': 1, 'Conimex Wok Olie': 1, 'nut meal': 1, 'bertolli organic tradit sauc': 1, 'crab stick': 1, 'wensleydale': 1, 'forest mushroom': 1, 'Zatarains Creole Seasoning': 1, 'San Marzano Diced Tomatoes': 1, 'Wish-Bone Light Italian Dressing': 1, 'meat loaf mixture': 1, 'guanabana': 1, 'sweetened red bean': 1, 'pippin apple': 1, 'drum': 1, 'vegetable gumbo mixture': 1, 'salted roasted pecan': 1, 'hijiki': 1, 'jerk seasoning mix': 1, 'ciabatta roll': 1, 'eggnog': 1, 'coffee extract': 1, 'Skippy Creamy Peanut Butter': 1, 'chuck tender': 1, 'artificial sweetener': 1, 'Green Giant\\xe2\\x84\\xa2 mushroom': 1, 'proscuitto': 1, 'ciabatta loaf': 1, 'pancit bihon': 1, 'cinnamon hot candy': 1, 'seafood glaze': 1, 'freeze-dried strawberry': 1, 'red wine vinaigrette': 1, 'barramundi': 1, 'aged gouda': 1, 'kielbasa ( not )': 1, \"tony chachere 's seasoning\": 1, 'hoagi or roll': 1, 'peach sorbet': 1, 'tart crust': 1, 'smoked mozzarella': 1, 'sweet white wine': 1, 'bai cai': 1, 'Dole Seven Lettuces': 1, 'chocolatecovered espresso bean': 1, 'chicken consomme': 1, 'orgeat syrup': 1, 'calabash': 1, 'wheat bread cube': 1, 'low-fat sharp cheddar cheese': 1, 'vanilla low-fat yogurt': 1, 'ready-made pie crust': 1, 'Hogue Cabernet Sauvignon': 1, 'Imperial Sugar Light Brown Sugar': 1, 'Swanson Vegetable Broth': 1, 'fruitcake': 1, 'cloud ear': 1, 'boned skinned duck': 1, 'brill': 1, 'guava paste': 1, 'nonfat mozzarella cheese': 1, 'blue cura\\xc3\\xa7ao': 1, 'McCormick Taco Seasoning': 1, 'japanese pumpkin': 1, 'bran flake': 1, 'low-fat tartar sauce': 1, 'fiddlehead fern': 1, 'turkey salami': 1, 'Wish-Bone\\xc2\\xae Robusto Italian Dressing': 1, 'gluten marinara sauce': 1, 'smithfield ham': 1, 'mahlab': 1, 'panch phoran': 1, 'unhulled sesame': 1, 'lemon verbena': 1, 'pina colada mix': 1, 'cashew milk': 1, 'kampyo': 1, 'tonic water': 1, 'tandoori masala mix': 1, 'food gel': 1, 'candied citron peel': 1, 'sandwich steak': 1, 'coconut chip': 1, 'fil\\xc3\\xa9': 1, 'smoked rasher': 1, 'bream': 1, 'honey whiskey': 1, 'granary bread': 1, 'tri-tip steak': 1, 'stolichnaya': 1, 'sirloin tip steak': 1, 'jumbo macaroni shell': 1, 'reduced smoked ham': 1, 'preshred mozzarella': 1, 'xuxu': 1, 'peanut brittle': 1, 'french style sandwich roll': 1, 'true cinnamon': 1, 'Spice Islands\\xc2\\xae Minced Garlic': 1, 'Sargento\\xc2\\xae Artisan Blends\\xc2\\xae Shredded Parmesan Cheese': 1, 'cereal': 1, 'praline': 1, 'aquavit': 1, 'long pasta': 1, 'white almond bark': 1, 'snow crab': 1, 'garlic naan': 1, 'one third le chicken broth': 1, 'nacho cheese tortilla chip': 1, 'chapatti flour': 1, 'Ragu Traditional Sauce': 1, 'chocolate chip cookie mix': 1, 'standing rib roast': 1, 'cappuccino': 1, 'bottled balsamic vinaigrette': 1, 'smoked eel': 1, 'Tamari Tamari': 1, 'branston pickle': 1, 'italian sauce': 1, 'Pam Cooking Spray': 1, 'blackberry brandy': 1, 'curry sauce mix': 1, 'cone': 1, 'Heinz Ketchup': 1, 'italian style roll': 1, 'reduced chicken bouillon granule': 1, 'long bun': 1, 'shrimp chip': 1, 'reduced canned chicken broth': 1, 'huckleberry': 1, 'almond oil': 1, 'treviso radicchio': 1, 'Kahlua Liqueur': 1, 'arak': 1, 'chinese jujube': 1, 'tomato jam': 1, 'cherry syrup': 1, 'orchid': 1, 'portuguese roll': 1, 'spicy salami': 1, 'red anjou pear': 1, 'Ragu\\xc2\\xae Robusto ! \\xc2\\xae Pasta Sauce': 1, 'flavored wine': 1, 'low-fat monterey jack': 1, 'mung bean vermicelli': 1, 'ikura': 1, 'Estancia Pinot Noir': 1, 'chuck short rib': 1, 'blackcurrant syrup': 1, 'honey graham cracker': 1, 'Doritos Tortilla Chips': 1, 'Betty Crocker\\xe2\\x84\\xa2 oatmeal cookie mix': 1, 'low-fat bottled italian dressing': 1, 'low-fat sesame-ginger dressing': 1, 'unsweetened baking chocolate': 1, 'lap cheong': 1, 'haloumi': 1, 'milk chocolate piece': 1, 'KRAFT Original Barbecue Sauce': 1, 'organic soy sauce': 1, 'KRAFT Shredded Mozzarella Cheese': 1, 'banana bread': 1, 'soya flour': 1, 'Greek black olive': 1, 'Jonshonville\\xc2\\xae Cajun Style Chicken Sausage': 1, 'miso sesame grilling sauce': 1, 'artisan bread': 1, 'cr\\xc3\\xa8me de framboise': 1, 'annatto oil': 1, 'raw milk': 1, 'shoulder steak': 1, 'extra': 1, 'blacan': 1, 'haricot bean': 1, 'biga': 1, 'banana puree': 1, 'cooked deli ham': 1, 'prepared coleslaw': 1, 'Johnsonville Andouille Dinner Sausage': 1, 'white bread slice': 1, 'homemade meatball': 1, 'peppadews': 1, 'chocolate candy': 1, 'grilled chicken strip': 1, 'benne': 1, 'raki': 1, 'roasted chili paste': 1, 'cannelloni': 1, 'pimenton de la vera': 1, 'Castelvetrano olive': 1, 'sweetened raspberry': 1, 'CURRY GUY Smoked Garam Masala': 1, 'italian pizza crust': 1, 'Yoplait\\xc2\\xae Greek blackberry pie yogurt': 1, 'Mexican lager beer': 1, 'banh hoi': 1, 'king oyster mushroom': 1, 'Flora Original': 1, 'powdered egg white': 1, 'hubbard squash': 1, 'ounc ziti pasta , cook drain': 1, 'america': 1, 'liverwurst': 1, 'egg roll skin': 1, 'Crisco Pure Vegetable Oil': 1, 'knorr pasta side': 1, 'irish oat': 1, 'Lipton Lemon Iced Tea Mix': 1, 'watermelon radish': 1, 'maple flavored extract': 1, 'granular sucrolose sweetener': 1, 'low-fat turkey kielbasa': 1, 'banana cream pudding': 1, 'mandarin': 1, 'amba': 1, 'Bertolli Tomato & Basil Sauce': 1, 'lady apple': 1, 'cortland apple': 1, \"BREAKSTONE 'S Sour Cream\": 1, 'rotini pasta , cook drain': 1, 'lipton recip secret golden onion soup mix': 1, 'honey-flavored greek style yogurt': 1, 'chorizo spanish': 1, 'meat extract': 1, 'KRAFT Zesty Lime Vinaigrette Dressing': 1, 'Guinness Lager': 1, 'Jose Cuervo': 1, 'saltpeter': 1, 'Classico Pasta Sauce': 1, 'Budweiser': 1, 'shortbread': 1, 'barberry': 1, 'pinhead oatmeal': 1, 'Gourmet Garden Oregano': 1, 'red vinegar white white , wine ,': 1, 'warm bun': 1, 'fryer': 1, 'flowering garlic chive': 1, 'atlantic cod': 1, 'potato starch flour': 1, 'double-dark soi sauc': 1, 'cod cheek': 1, 'oat groat': 1, 'chop': 1, 'Kraft Big Slice Pepper Jack Cheese Slices': 1, 'schnapps': 1, 'bock beer': 1, 'lox': 1, 'abbamele': 1, 'white grape': 1, 'bragg liquid amino': 1, 'pineapple syrup': 1, 'tuna , drain flake': 1, 'nonfat italian dressing': 1, 'matzo cake meal': 1, 'granular no-calorie sucralose sweetener': 1, 'blood sausage': 1, 'cholesterol egg substitute': 1, 'Spice Islands Garlic Salt': 1, 'guacamole seasoning mix': 1, 'Pillsbury\\xe2\\x84\\xa2 Crescent Recipe Creations\\xc2\\xae refrigerated seamless dough sheet': 1, 'goose liver': 1, 'wheat tortilla wrap': 1, 'Honeysuckle White\\xc2\\xae Hot Italian Turkey Sausage Links': 1, 'jambon de bayonne': 1, 'black chicken': 1, 'knorr homestyl stock beef': 1, 'yellow heirloom tomato': 1, 'vodka sauce': 1, 'shiromiso': 1, 'roasted cumin': 1, 'poolish': 1, 'green pesto': 1, 'redcurrant jelly': 1, 'italian vinaigrette': 1, 'mineral water': 1, 'lemon cucumber': 1, 'tuong': 1, 'lemonade concentrate , thawed undiluted': 1, 'Earth Balance Buttery Spread': 1, 'gelatin sheet': 1, 'shaved chocolate': 1, 'Zatarain\\xe2\\x80\\x99s Jambalaya Mix': 1, 'glucose syrup': 1, 'wiener': 1, 'vanilla vodka': 1, 'wheat peasant bread': 1, 'Barilla Plus Pasta': 1, 'honeycomb tripe': 1, 'wheat english muffin': 1, 'chicken flavored rice': 1, 'yellowtail': 1, 'osetra caviar': 1, 'basa': 1, 'A Taste of Thai Rice Noodles': 1, 'Barilla Linguine': 1, 'chocolate frosting': 1, 'beef round steak': 1, 'edible gold': 1, 'grain rotini': 1, 'pork heart': 1, 'Progresso Black Beans': 1, 'ragu old world style tradit pasta sauc': 1, 'meat fat': 1, 'turkey meatball': 1, 'cloud ear fungus': 1, 'maca': 1, 'moonshine': 1, 'vanilla glaze': 1, 'pisco brandy': 1, 'turkey gravy': 1, 'pork loin rib chop': 1, 'wheat pita pocket': 1, 'cajun creole seasoning': 1, 'Old El Paso\\xe2\\x84\\xa2 mild red enchilada sauce': 1, 'knorr reduc chicken flavor bouillon cube': 1, 'low-fat firm silken tofu': 1, 'whipped dessert topping': 1, 'Progresso Artichoke Hearts': 1, 'turkey mince': 1, 'semisweet chocolate chunk': 1, 'japanese radish': 1, 'Flora Buttery': 1, 'semisweet vegan chocolate chip': 1, 'english breakfast tea bag': 1, 'chowchow': 1, 'Kraft Sharp Cheddar Cheese': 1, 'oil of orange': 1, 'chilled seltzer': 1, 'orange concentrate , thawed undiluted': 1, 'Ragu Golden Veggie Fettuccine Pasta': 1, \"Quorn Chik '' n Tenders\": 1, 'karo': 1, 'grana': 1, 'candied chestnut': 1, 'knorr cilantro minicub': 1, 'corn muffin': 1, 'chile colorado': 1, 'morsel': 1, 'ic pop': 1, 'reduced italian style tomato': 1, 'lemon olive oil': 1, 'game': 1, 'jamaican jerk marinade': 1, 'toasted sunflower': 1, 'leek top': 1, 'elderflower cordial': 1, 'longaniza': 1, 'veal loin': 1, 'braising beef': 1, 'kippered herring': 1, 'cuttlefish': 1, 'chilcostle chile': 1, 'soft-shelled crab': 1, 'cilantro pesto': 1, 'chocolate liqueur': 1, 'fully cooked luncheon meat': 1, 'Royal Baking Powder': 1, 'salmon caviar': 1, 'spicy mayonnaise': 1, 'comice pear': 1, 'korean buckwheat noodle': 1, 'Earth Balance Natural Buttery Spread': 1, 'savoy spinach': 1, 'dairy coconut ice cream': 1, 'gnocchetti sardi': 1, 'tortelloni': 1, 'Challenge Butter': 1, 'gomashio': 1, 'sushi vinegar': 1, 'bottled salsa': 1, 'Asian sweet chili sauce': 1, 'Azteca Flour Tortillas': 1, 'wheat spaghettini': 1, 'chourico': 1, 'semi-soft cheese': 1, 'roast pork seasoning mix': 1, 'fingerling': 1, 'lipton onion soup mix': 1, 'gluten-free bread': 1, 'Heinz Worcestershire Sauce': 1, 'Kroger Black Beans': 1, 'KRAFT Mexican Style Shredded Four Cheese with a TOUCH OF PHILADELPHIA': 1, 'le cooked deli ham': 1, 'sparkling sangria tradicional': 1, 'swanson chicken stock': 1, 'purple potato': 1, 'chinese hot mustard': 1, 'neem': 1, 'black bean stir fry sauce': 1, 'wheat potato bun': 1, 'low-fat sweetened condensed milk': 1, 'Bob Evans Italian Sausage': 1, 'extra firm silken tofu': 1, 'cassis liqueur': 1, 'Klondike Rose red skin potato': 1, 'Jimmy Dean Pork Sausage': 1, 'bone in': 1, 'riblets': 1, 'Minute White Rice': 1, 'cross rib roast': 1, 'jumbo shell pasta , cook drain': 1, 'KRAFT Shredded Pepper Jack Cheese with a TOUCH OF PHILADELPHIA': 1, 'small potato': 1, 'seasoned panko bread crumb': 1, 'non dairy yogurt': 1, 'lecithin': 1, 'sparkling ros\\xc3\\xa9 wine': 1, 'breakfast sausage link': 1, 'Mezzetta Sliced Greek Kalamata Olives': 1, 'brownie layer': 1, 'green bellpepper': 1, 'mesquite flavored seasoning mix': 1, 'raspberry sherbet': 1, 'fine egg noodle': 1, 'Manischewitz Matzo Meal': 1, 'water cracker': 1, 'Rotel Diced Tomatoes & Green Chilies': 1, 'hot fudge topping': 1, 'langoustine': 1, 'Vegeta Seasoning': 1, 'soy glaze': 1, 'hickory-flavored liquid smoke': 1, 'peach salsa': 1, 'apple schnapps': 1, 'burgundy snail': 1, 'chai tea concentrate': 1, 'clementine section': 1, 'soya cheese': 1, 'tongue': 1, 'almond syrup': 1, 'white zinfandel': 1, 'trout caviar': 1, 'nian gao': 1, 'Pernod Liqueur': 1, 'pansy': 1, 'hellmann\\xc3\\xa2\\xe2\\x82\\xac\\xe2\\x84\\xa2 or best food canola cholesterol mayonnais': 1, 'San Marzano Crushed Tomatoes': 1, 'grain thin spaghetti': 1, 'carnation condensed milk': 1, 'snip dill': 1, 'ginger liqueur': 1, 'cabernet': 1, 'asian': 1, 'black garlic': 1, 'barley grit': 1, 'cubed pancetta': 1, 'regular chicken broth': 1, 'chocolate drink': 1, 'gluten-free oyster sauce': 1, 'pancake batter': 1, 'pizza seasoning': 1, 'cracked wheat': 1, 'pearl rice': 1, 'long green chilies': 1, 'Cavenders Greek Seasoning': 1, 'hibiscus blossom': 1, 'pangasius': 1, 'oriental radish': 1, 'cherry vanilla ice cream': 1, 'burrito seasoning mix': 1, 'chateaubriand': 1, 'pain au levain': 1, 'ramen noodle soup': 1, 'peach pur\\xc3\\xa9e': 1, 'chocolate milk mix': 1, 'laksa paste': 1, 'Nido Milk Powder': 1, 'wheat seasoned breadcrumb': 1, 'chunky tomato': 1, 'boquerones': 1, 'oat milk': 1, 'Success White Rice': 1, 'mint extract': 1, 'cured pork': 1, 'liver sausage': 1, 'matsutake mushroom': 1, 'vanilla custard': 1, 'Knorr Beef Stock Cubes': 1, 'low-fat vegetable primavera spaghetti sauce': 1, 'malted milk': 1, 'wheat submarine loaf': 1, 'broiler chicken': 1, 'linguisa': 1, 'dip mix': 1, 'Mission Yellow Corn Tortillas': 1, 'spiny lobster': 1, 'uni': 1, 'lemon vodka': 1, 'pork rub': 1, 'chicken heart': 1, 'BACARDI\\xc2\\xae Mixers Margarita Mix': 1, 'stick butter': 1, 'lesser galangal': 1, 'melted': 1, 'butter-flavored spray': 1, 'old fashioned stone grit': 1, 'beef hot dog': 1, 'ragu cheesi doubl cheddar sauc': 1, 'crabapple': 1, 'vegetable slaw': 1, 'venison roast': 1, 'Conimex Woksaus Specials Vietnamese Gember Knoflook': 1, 'mincemeat pie filling': 1, 'red chard': 1, 'date molasses': 1, 'fried wonton strip': 1, 'chicken in water': 1, 'veal escalopes': 1, 'george dickel': 1, 'paprika paste': 1, 'alaskan king salmon': 1, 'brandy extract': 1, 'Knorr\\xc2\\xae Pasta Sides\\xe2\\x84\\xa2 - Butter & Herb': 1, 'soft roll': 1, 'italian roll': 1, 'Kim Crawford Sauvignon Blanc': 1, 'genoise': 1, 'tea cake': 1, 'hibiscus tea': 1, 'Old Bay Blackened Seasoning': 1, 'Karo Corn Syrup': 1, 'fat-free crouton': 1, 'graviera': 1, 'knorr italian side creami garlic shell': 1, 'burger style': 1, 'smoked bratwurst': 1, 'buttermilk ranch dressing': 1, 'Pillsbury Pie Crusts': 1, 'sweet cream butter': 1, 'Velveeta Cheese Spread': 1, 'vegetable-filled ravioli': 1, 'Cara Cara orange': 1, 'Bordelaise sauce': 1, 'adobo style seasoning': 1, 'saki': 1, 'superfine white sugar': 1, 'tangzhong roux': 1, 'Heath Candy Bars': 1, 'chinese winter melon': 1, 'sour': 1, 'stellette': 1, 'vegan coffee creamer': 1, 'apple puree': 1, 'pink': 1, 'garden cress': 1, 'lowfat greekstyl yogurt': 1, 'rice mix': 1, 'plum jam': 1, 'soy nut': 1, 'pecan pie': 1, 'cod roe': 1, 'butter cake': 1, 'paste tomato': 1, 'taco seasoned cheese': 1, 'pane di casa': 1, 'chimichurri': 1, 'tupelo honey': 1, 'carbonated beverage': 1, 'romana': 1, 'usukuchi soy sauce': 1, 'sweet chorizo': 1, 'Foster Farms chicken': 1, 'lingcod': 1, 'peppermint schnapps': 1, 'DeLallo Penne Ziti': 1, 'bird pepper': 1, 'Makers Mark Whisky': 1, 'organic vegetable stock': 1, 'fine grain': 1, 'arhar': 1, 'pink food coloring': 1, 'hillshire farm sausage': 1, 'lemon lime beverage': 1, 'duck dripping': 1, 'greek style seasoning': 1, 'Sugar in the Raw': 1, 'vegan chicken flavored bouillon': 1, 'tallow': 1, 'cornbread crumb': 1, 'soy marinade': 1, 'winter savory': 1, 'cabbage lettuce': 1, 'darjeeling tea': 1, 'brown sauce': 1, 'hickory smoke': 1, 'Franks Hot Sauce': 1, 'sweet turkey sausage': 1, 'mini ravioli': 1, 'soy-based liquid seasoning': 1, 'wheat sandwich bread': 1, 'tangelo': 1, 'nonhydrogenated margarine': 1, 'kappa': 1, 'butterscotch filling': 1, 'Truv\\xc3\\xada\\xc2\\xae Baking Blend': 1, 'protein': 1, 'gluten cooking spray': 1, 'petrale sole': 1, 'grain roll': 1, 'refrigerated bread dough': 1, 'green fig': 1, 'pork sausage casing': 1, 'soup pasta': 1, 'black bean sauce with garlic': 1, 'teff': 1, 'vanilla cake mix': 1, 'royal olive': 1, 'shoga': 1, 'Tuaca Liqueur': 1, 'soup bone': 1, 'Everglades Seasoning': 1, 'of veal': 1, 'smoked whitefish': 1, 'nori furikake': 1, 'japanese peanut': 1, 'KRAFT Shredded Low-Moisture Part-Skim Mozzarella Cheese': 1, 'wheat pasta shell': 1, 'Jameson Whiskey': 1, 'flaked oat': 1, 'graham flour': 1, 'hot italian pork sausage': 1, 'long green pepper': 1, 'angled loofah': 1, 'proscuitto di parma': 1, 'Fisher Pecans': 1, 'framboise liqueur': 1, 'liquorice': 1, 'egg beater': 1, 'lamb bouillon cube': 1, 'kim chee': 1, 'Pepperidge Farm Puff Pastry Sheets': 1, 'angus': 1, 'chinese red vinegar': 1, 'Jack Daniels Whiskey': 1, 'reduced beef stock': 1, 'smoked chorizo': 1, 'wagon wheel': 1, 'Johnsonville Andouille Fully Cooked Sausage': 1, 'chicken salad': 1, 'salted pistachio': 1, 'Domino Confectioners Sugar': 1, 'Pure Wesson Vegetable Oil': 1, 'black cherry': 1, 'Herdez Salsa': 1, 'TABASCO\\xc2\\xae Chipotle Pepper Sauce': 1, 'ornamental kale': 1, 'purple grape': 1, 'shark': 1, 'multigrain cereal': 1, 'ranch dip': 1, 'sato imo': 1, 'rose hip tea bag': 1, 'meat dripping': 1, 'blood': 1, 'psyllium husk': 1, 'eye of the round': 1, 'lo bok': 1, 'creamed spinach': 1, 'creole spice mix': 1, 'pullman loaf': 1, 'pound cake mix': 1, 'wheat uncooked lasagna noodle': 1, 'Hurst Family Harvest Chipotle Lime Black Bean Soup mix': 1, 'hakusai': 1, 'cheese cracker': 1, 'garbanzo bean flour': 1, 'orange roughy fillet': 1, 'orange pekoe tea': 1, 'long green': 1, 'KRAFT Mexican Style Milk Finely Shredded Four Cheese': 1, 'sweet white miso paste': 1, 'seafood base': 1, 'KRAFT Reduced Fat Shredded Mozzarella Cheese': 1, 'Mae Ploy Sweet Chili Sauce': 1, 'hazelnut flour': 1, 'veal kidney': 1, 'glucose': 1, 'apricot jelly': 1, 'grain spelt flour': 1, 'chinese radish': 1, 'sweet biscuit crumb': 1, 'Nielsen-Massey Vanilla Extract': 1, 'gravy mix mushroom': 1, 'cucuzza': 1, 'Goya Ground Cumin': 1, 'chinese duck sauce': 1, 'orange roughy': 1, 'fuji apple': 1, 'Ibarra Chocolate': 1, 'calamari steak': 1, 'new mexico red chile': 1, 'genmai miso': 1, 'leftover meat': 1, 'lillet': 1, 'store bought vegetable stock': 1, 'wheat fusilli': 1, 'levain bread': 1, 'meat-filled tortellini': 1, 'aloe': 1, 'hard cheese': 1, 'belacan': 1, 'raspberry fruit spread': 1, 'tofu sour cream': 1, 'chicken rice soup': 1, 'tart filling': 1, 'chicken nugget': 1, 'center cut pork roast': 1, 'empanada wrapper': 1, 'roasted almond oil': 1, 'flower petal': 1, 'rice milk': 1, 'Knorr\\xc2\\xae Beef Bouillon': 1, 'swiss': 1, 'low-fat soft goat cheese': 1, 'chocolate cocoa': 1, 'spring mix': 1, 'sweet & sour stir fry sauce': 1, 'snap': 1, 'Soy Vay\\xc2\\xae Veri Veri Teriyaki\\xc2\\xae Marinade & Sauce': 1, 'chinese pepper': 1, 'mild Italian turkey sausage': 1, 'veal bone': 1, 'vegetable fat': 1, 'bamboo': 1, 'Chambord Liqueur': 1, 'chocolate graham cracker crumb': 1, 'falafel': 1, 'asparagus bean': 1, 'sun tomato dressing': 1, 'part skim ricotta': 1, 'goma': 1, 'brown rice penne': 1, 'nigari tofu': 1, 'claw': 1, 'Tuttorosso Diced Tomatoes': 1, 'jimmy': 1, 'Nakano Seasoned Rice Vinegar': 1, 'toasted bun': 1, 'egg pasta': 1, 'low-fat feta': 1, 'sport drink': 1, \"JOHNSONVILLE\\xc2\\xae Hot 'N Spicy Brats\": 1, 'bone-in ribeye steak': 1, 'Camellia Red Kidney Beans': 1, 'poppy filling': 1, 'cooked fettuccini': 1, 'goat s milk cheese': 1, 'herb cheese': 1, 'low-fat vanilla ice cream': 1, 'jamaican jerk': 1, 'garlic herb spreadable cheese': 1, 'grape vine': 1, 'jarred chicken soup base': 1, 'assam': 1, 'pareve margarine': 1, 'citrus vinaigrette': 1, 'peanut butter chip': 1, 'fermented bean curd': 1, 'yoghurt natural': 1, 'gluten-free rolled oat': 1, 'truffle butter': 1, 'mojo marinade': 1, 'TACO BELL\\xc2\\xae HOME ORIGINALS\\xc2\\xae Taco Seasoning Mix': 1, 'non-dairy margarine': 1, 'Tipo flour': 1, 'fillet of beef': 1, 'pineapple chunk in natural': 1, 'won ton skin': 1, 'hake': 1, 'ricard': 1, 'bagel chip': 1, 'kingfish': 1, 'Taiwanese bok choy': 1, 'St Germain Liqueur': 1, 'butternut': 1, 'table syrup': 1, 'cocktail pumpernickel bread': 1, 'avocado dressing': 1, 'Amarena cherry': 1, 'chile piquin': 1, 'Crystal Farms Reduced Fat Shredded Marble Jack Cheese': 1, 'Mission Corn Tortillas': 1, 'fedelini': 1, 'chiltep\\xc3\\xadn': 1, 'amber rum': 1, 'tamarind pod': 1, 'poppyseeds': 1, 'frank': 1, 'apple slice': 1, 'Daiya': 1, 'Jagermeister Liqueur': 1, 'rum raisin ice cream': 1, 'lambrusco': 1, 'Jimmy Dean All Natural Regular Pork Sausage': 1, 'beef shin': 1, 'seasoning rub': 1, 'essence seasoning': 1, 'dangmyun': 1, 'JOHNSONVILLE Hot & Spicy Sausage Slices': 1, 'fudge cake mix': 1, 'double smoked bacon': 1, 'Hidden Valley\\xc2\\xae Original Ranch\\xc2\\xae Spicy Ranch Dressing': 1, 'pepper cheese': 1, 'cubed mango': 1, 'Louisiana Cajun Seasoning': 1, 'mini pepperoni slice': 1, 'redfish fillet': 1, 'bear': 1, 'low-fat white sauce': 1, 'Marshmallow Fluff': 1, 'mint chocolate chip ice cream': 1, 'chunky style pasta sauce': 1, 'knorr parslei minicub': 1, 'condensed cream of broccoli soup': 1, 'wish-bone': 1, 'Kraft Sun Dried Tomato Vinaigrette': 1, 'energy drink': 1, 'beef cheek': 1, 'chocolate chip cookie dough ice cream': 1, 'dri fruit tropic': 1, 'milk mozzarella cheese': 1, 'lobster stock': 1, 'creamer potato': 1, 'absinthe': 1, 'knorr tomato bouillon with chicken flavor': 1, 'New York Style Panetini\\xc2\\xae toast': 1, 'ngo gai': 1, 'liquid sweetener': 1, 'magret duck': 1, 'cr\\xc3\\xa8me de cacao': 1, 'fiber one': 1, 'sourdough roll': 1, 'blackpepper': 1, 'leftover gravy': 1, 'plum wine': 1, 'mashed cauliflower': 1, 'Pillsbury\\xe2\\x84\\xa2 classic pizza crust': 1, 'gravlax': 1, 'pork tenderloin medallion': 1, 'strawberry yogurt': 1, 'dhaniya': 1, 'matcha': 1, 'Yoplait\\xc2\\xae Greek caramel yogurt': 1, 'calabrese sausage': 1, 'sheepshead': 1, 'wish bone guacamol ranch dress': 1, 'citrus peel': 1, 'V8 Juice': 1, 'smoked almond': 1, 'mushroom broth': 1, 'pork shank': 1, 'granita': 1, 'country gravy': 1, 'Chartreuse Liqueur': 1, 'corn niblets': 1, 'chocolate extract': 1, 'Green Giant Whole Kernel Sweet Corn': 1, 'hyssop': 1, 'Mo Qua': 1, 'riso': 1, 'semi sweet mini chocolate chip': 1, 'lamb rib roast': 1, 'Goya Extra Virgin Olive Oil': 1, 'grain alcohol': 1, 'muscovy': 1, 'foccacia': 1, 'pork picnic roast': 1, 'table wine': 1, 'yoplait': 1, 'KRAFT Shredded Colby & Monterey Jack Cheese': 1, 'crumbled corn bread': 1, 'strawberry extract': 1, 'gravenstein apple': 1, 'cured meat': 1, 'Soy Vay\\xc2\\xae Hoisin Garlic Marinade & Sauce': 1, 'cured chorizo': 1, 'chocolate stick': 1, 'nama shoyu': 1, 'japanese style bread crumb': 1, 'unsweetened iced tea': 1, 'pink lentil': 1, 'gluten-free penne': 1, 'small shell': 1, 'low-fat deli ham': 1, 'culinary lavender': 1, 'winesap': 1, 'wheat thin italian pizza crust': 1, 'grain English muffin': 1, 'nashi': 1, 'sichuan peppercorn oil': 1, 'Progresso Diced Tomatoes': 1, 'chicken egg': 1, 'umeboshi plum vinegar': 1, 'lamb strip': 1, 'sazon goya with coriander annatto': 1, 'red currant': 1, 'umeboshi vinegar': 1, 'shishito chile': 1, 'amontillado sherry': 1, 'queso crema': 1, 'prune puree': 1, 'India Pale Ale': 1, 'country style italian bread': 1, 'fine grind white cornmeal': 1, 'amberjack fillet': 1, 'peach vodka': 1, 'yellowtail snapper': 1, 'Soy Vay\\xc2\\xae Toasted Sesame Dressing & Marinade': 1, 'rich turkey stock': 1, 'roasted pepitas': 1, 'margarine spread': 1, 'fat-free parmesan cheese': 1, 'orange flavored brandy': 1, 'green cauliflower': 1, 'canned pea carrot': 1, 'turkey steak': 1, 'Crystal Farms\\xc2\\xae Shredded Cheddar Cheese': 1, 'moose': 1, 'boy choy': 1, 'store-bought pound cake': 1, 'vindaloo paste': 1, 'acai': 1, 'Johnsonville Hot & Spicy Breakfast Links': 1, 'bermuda onion': 1, 'McCormick Poppy Seed': 1, 'pumpkin mole': 1, 'cold coffee': 1, 'meat seasoning': 1, 'veggie patty': 1, 'cornstarch noodle': 1, 'jamon serrano': 1, 'Knorr\\xc2\\xae Fiesta Sides Spanish Rice': 1, 'membrillo': 1, 'turkey burger': 1, 'reduced sugar ketchup': 1, 'vegan bouillon cube': 1, 'lamb liver': 1, 'distilled malt vinegar': 1, 'chinese corn': 1, 'jambalaya': 1, 'evapor low-fat milk': 1, 'strip loin steak': 1, 'Gebhardt Chili Powder': 1, 'peapods': 1, 'arctic char': 1, 'tamarind pur\\xc3\\xa9e': 1, 'pancit': 1, 'sparkling lemonade': 1, 'splenda granular': 1, 'chestnut flour': 1, 'torpedo roll': 1, 'flax egg': 1, 'Cinnamon Toast Crunch Cereal': 1, 'tuaca': 1, 'Saffron Road Vegetable Broth': 1, 'nam prik': 1, 'McCormick Ground Cumin': 1, 'wheat sourdough bread': 1, 'fern': 1, 'caramel flavored syrup': 1, 'mini banana': 1, 'puff pastry cup': 1, 'bigoli': 1, 'cheese curd': 1, 'sazon goya': 1, 'low-fat vanilla wafer': 1, 'loose black tea': 1, 'barley flake': 1, 'pork sausage link': 1, 'honey liqueur': 1, 'gluten chicken broth': 1, 'lamb kidney': 1, 'mint syrup': 1, 'perch': 1, 'beluga lentil': 1, 'roasted garlic oil': 1, 'turkey hot dog': 1, 'demi baguette': 1, 'white bread crumb': 1, 'beef carpaccio': 1, 'shank half': 1, 'nonfat block cream cheese': 1, 'basil olive oil': 1, 'banana flower': 1, 'topside steak': 1, 'poi': 1, 'lemon soda': 1, 'Knorr Chicken Stock Cubes': 1, 'KNUDSEN Milkfat Low Fat Cottage Cheese': 1, 'lipton green tea bag': 1, 'Stonefire Tandoori Garlic Naan': 1, 'ocean perch': 1, 'high-fructose corn syrup': 1, 'roasted bell pepper': 1, 'macarons': 1, 'Knorr Fish Stock Cubes': 1, 'low-fat balsamic vinaigrette': 1, 'organic buttermilk': 1, 'dumpling dough': 1, 'multi-grain penne pasta': 1, 'Hidden Valley\\xc2\\xae Greek Yogurt Original Ranch\\xc2\\xae Dip Mix': 1, 'friselle': 1, 'mantou': 1, 'korean vermicelli': 1, 'american cheese food': 1, 'Kraft Mayonnaise': 1, 'hot pepperoni': 1, 'lapsang': 1, 'chicken pan dripping': 1, 'porter': 1, 'dasheen': 1, 'minute steak': 1, 'turkey giblet stock': 1, 'cardoon': 1, 'fruit puree': 1, 'anise basil': 1, 'Ortega Tostada Shells': 1, 'white tuna': 1, 'celery top': 1, 'verjuice': 1, 'low-fat jarlsberg cheese': 1, 'cauliflowerets': 1, 'green tomato relish': 1, 'cake pound prepar': 1, 'manouri': 1, 'sunflower kernel': 1, 'tomato cream sauce': 1, 'thick curd': 1, 'mrs. dash seasoning mix': 1, 'pumpernickel': 1, 'madeleine': 1, 'bread yeast': 1, 'le cooked ham': 1, 'baked corn tortilla chip': 1, 'longan': 1, 'venison steak': 1, 'le mushroom flavored soy sauce': 1, 'wish-bone asian sesame ginger vinaigrette dressing': 1, 'low-fat parmesan cheese': 1, 'Jose Cuervo Gold Tequila': 1, 'wood mushroom': 1, 'v': 1, 'opo squash': 1, 'dragon fruit': 1, 'praline topping': 1, 'cherry coke': 1, 'english walnut': 1, 'wine syrup': 1, 'b\\xc3\\xa9n\\xc3\\xa9dictine': 1, 'hen of the wood': 1, 'maifun': 1, 'lapsang souchong': 1, 'Hawaiian': 1, 'leftover steak': 1, 'ogura-an': 1, 'young nettle': 1, 'Knorr\\xc2\\xae Pasta Sides\\xe2\\x84\\xa2 - Chicken flavor': 1, 'ragu pizza quick sauc': 1, 'green soybean': 1, 'pastry tart shell': 1, 'kosher wine': 1, 'Knudsen Sour Cream': 1, 'straight bourbon whiskey': 1, 'gluten-free chicken stock': 1, 'seasoned crouton': 1, 'banana extract': 1, 'barbecue seasoning': 1, 'sugar pearl': 1, 'low-fat soy milk': 1, 'swiss steak': 1, 'cream of tomato soup': 1, 'Kraft Shredded Pepper Jack Cheese': 1, 'Manischewitz Potato Starch': 1, 'Quorn': 1, 'conger eel': 1, 'herbsaint': 1, 'reduced reduced tomato herb pasta sauce': 1, 'Truv\\xc3\\xada\\xc2\\xae natural sweetener': 1, 'wondra': 1, 'hachiya': 1, 'Progresso Balsamic Vinegar': 1, 'Fisher Pecan Halves': 1, 'butter flavor vegetable shortening': 1, 'DeLallo Extra Virgin Olive Oil': 1, 'creole seafood seasoning': 1, 'Spice Islands Bay Leaves': 1, 'candied bacon': 1, 'white truffle': 1, 'chocolate graham cracker': 1, 'reduced kidney bean': 1, 'delicata squash': 1, 'pocket bread': 1, 'peppermint candy': 1, 'chocolate ice cream mix': 1, 'bertolli vodka sauc made with cream': 1, 'new mexico chile': 1, 'waffle fry': 1, 'apple ring': 1, 'kamut flour': 1, 'ciabatta bun': 1, 'sunflower butter': 1, 'mozzarella string cheese': 1, 'knorr pasta side cheesi cheddar': 1, 'Knudsen Light Sour Cream': 1, 'Margherita Pepperoni': 1, 'pork roll': 1, 'squid tube': 1, 'quick yeast': 1, 'habas': 1, 'reposado': 1, 'roasted sichuan pepper': 1, 'cassava flour': 1, 'wild asparagus': 1, 'indian flat bread': 1, 'chicken fillet': 1, 'shiraz': 1, 'kewra': 1, 'shelled hemp': 1, 'grain baguette': 1, 'azuki bean': 1, 'chipped beef': 1, 'chocolate cookie crumb': 1, 'oyster liquor': 1, 'crumpet': 1, 'lemon cake mix': 1, 'suckling pig': 1, 'vegetarian protein': 1, 'cream yogurt': 1, 'beer batter': 1, 'Better Than Bouillon Chicken Base': 1, 'rape': 1, 'moulard duck': 1, 'borlotti': 1, 'heirloom squash': 1, 'honey mustard dressing': 1, 'piment despelette': 1, 'vegetable soup': 1, 'tuscan sausage': 1, 'ratatouille': 1, 'gluten-free baking': 1, 'wing sauce': 1, 'Pam No-Stick Cooking Spray': 1, 'petits poi': 1, 'jerk rub seasoning': 1, 'tomate verde': 1, 'lop chong': 1, 'Tapatio Hot Sauce': 1, 'kipper': 1, 'seafood breader': 1, 'curly spinach': 1, 'orange blossom extract': 1, 'daikon sprout': 1, 'poured fondant': 1, 'agar agar flake': 1, 'yogurt dressing': 1, 'harusame': 1, 'fowl': 1, 'low-fat chicken broth': 1, 'gluten lasagna noodle': 1, 'scone': 1, 'le smoked fully cooked ham': 1, 'wheat orzo': 1, 'McCormick Ground White Pepper': 1, 'butter flavor shortening': 1, 'spot prawn': 1, 'violet': 1, 'young leek': 1, 'smoked turkey drumstick': 1, 'Wholesome Sweeteners Organic Sugar': 1, 'wheat penne rigate': 1, 'stem ginger': 1, 'farfalline': 1, 'le reduced ham': 1, 'cold-smoked salmon': 1, 'slider roll': 1, 'candied jalapeno': 1, 'blanco queso': 1, 'white quinoa': 1, 'arepa flour': 1, 'high gluten bread flour': 1, 'blueberry pie filling': 1, 'Pillsbury Thin Pizza Crust': 1, 'crouton italian season': 1, 'cooki vanilla wafer': 1, 'Mazola\\xc2\\xae Chicken Flavor Bouillon Powder': 1, 'creme de cacao': 1, 'Crisco Pure Canola Oil': 1, 'muscadet': 1, 'spinach tortilla': 1, 'greek seasoning mix': 1, 'pike': 1, 'morcilla': 1, 'shark steak': 1, 'creole seasoning mix': 1, 'val': 1, 'orange glaze': 1, 'Spice Islands Ground Cumin Seed': 1, 'Sargento\\xc2\\xae Traditional Cut Shredded Mozzarella Cheese': 1, 'anise liqueur': 1, 'caramel syrup': 1, 'breadcrumb mix': 1, 'low-fat sharp cheddar': 1, 'arame': 1, 'chioggia': 1, 'chicken chorizo sausage': 1, 'black radish': 1, 'cinnamon ice cream': 1})"
      ]
     },
     "execution_count": 12,
     "metadata": {},
     "output_type": "execute_result"
    }
   ],
   "source": [
    "import itertools, collections\n",
    "counter = collections.Counter(itertools.chain(*data['clean_ingredients']))\n",
    "counter"
   ]
  },
  {
   "cell_type": "code",
   "execution_count": 13,
   "metadata": {
    "collapsed": false
   },
   "outputs": [],
   "source": [
    "c_list = sorted(counter.items(), key=operator.itemgetter(1), reverse=True)\n",
    "frequency = collections.Counter(elem[1] for elem in c_list)\n"
   ]
  },
  {
   "cell_type": "code",
   "execution_count": 14,
   "metadata": {
    "collapsed": false
   },
   "outputs": [],
   "source": [
    "ingr_count = [int(x[1]) for x in c_list]\n",
    "ingredients = [x[0] for x in c_list]\n",
    "freq_count = [frequency[i] for i in ingr_count]\n"
   ]
  },
  {
   "cell_type": "code",
   "execution_count": 15,
   "metadata": {
    "collapsed": false
   },
   "outputs": [],
   "source": [
    "\n",
    "ingr_count = np.array(ingr_count)\n",
    "freq_count = np.array(freq_count)\n"
   ]
  },
  {
   "cell_type": "code",
   "execution_count": 16,
   "metadata": {
    "collapsed": false
   },
   "outputs": [
    {
     "data": {
      "text/plain": [
       "<matplotlib.text.Text at 0x125e26a50>"
      ]
     },
     "execution_count": 16,
     "metadata": {},
     "output_type": "execute_result"
    },
    {
     "data": {
      "image/png": "[encoded data removed]",
      "text/plain": [
       "<matplotlib.figure.Figure at 0x1251288d0>"
      ]
     },
     "metadata": {},
     "output_type": "display_data"
    }
   ],
   "source": [
    "%matplotlib inline\n",
    "import matplotlib.pyplot as plt\n",
    "plt.loglog(ingr_count,freq_count)\n",
    "plt.xlabel(\"Ingredient Frequency\")\n",
    "plt.ylabel(\"Frequency of Frequency\")"
   ]
  },
  {
   "cell_type": "code",
   "execution_count": 17,
   "metadata": {
    "collapsed": false
   },
   "outputs": [
    {
     "data": {
      "text/plain": [
       "array([11168, 10246,  7972, ...,     1,     1,     1])"
      ]
     },
     "execution_count": 17,
     "metadata": {},
     "output_type": "execute_result"
    }
   ],
   "source": [
    "ingr_count"
   ]
  },
  {
   "cell_type": "code",
   "execution_count": 18,
   "metadata": {
    "collapsed": false
   },
   "outputs": [],
   "source": [
    "recipe = np.array(data['clean_ingredients'])\n",
    "labels = np.array(data['cuisine'])"
   ]
  },
  {
   "cell_type": "code",
   "execution_count": 19,
   "metadata": {
    "collapsed": false
   },
   "outputs": [],
   "source": [
    "thousand_labels = labels[:1000]"
   ]
  },
  {
   "cell_type": "code",
   "execution_count": null,
   "metadata": {
    "collapsed": true
   },
   "outputs": [],
   "source": [
    "## I'm using the first 1500 most frequent ingredients right now"
   ]
  },
  {
   "cell_type": "code",
   "execution_count": 20,
   "metadata": {
    "collapsed": false
   },
   "outputs": [],
   "source": [
    "# The numpy array of the most frequent 1000 terms\n",
    "# replace 1000 recipes with len(data)\n",
    "frequency_matrix = np.zeros((len(data),1500))\n",
    "i=0\n",
    "for ingredient_list in recipe:\n",
    "    j=0\n",
    "    for ingr in ingredients[:1500]:\n",
    "        if ingr in ingredient_list:\n",
    "            frequency_matrix[i,j]=1\n",
    "        j+=1\n",
    "    i+=1\n"
   ]
  },
  {
   "cell_type": "code",
   "execution_count": 21,
   "metadata": {
    "collapsed": false
   },
   "outputs": [],
   "source": [
    "from sklearn import svm\n",
    "from sklearn import metrics\n",
    "from sklearn.cross_validation import train_test_split\n",
    "\n"
   ]
  },
  {
   "cell_type": "markdown",
   "metadata": {},
   "source": [
    "## This is the order of cuisines for the columns and rows in the confusion matrix"
   ]
  },
  {
   "cell_type": "code",
   "execution_count": 22,
   "metadata": {
    "collapsed": false,
    "scrolled": true
   },
   "outputs": [
    {
     "data": {
      "text/plain": [
       "['greek',\n",
       " 'southern_us',\n",
       " 'filipino',\n",
       " 'indian',\n",
       " 'jamaican',\n",
       " 'spanish',\n",
       " 'italian',\n",
       " 'mexican',\n",
       " 'chinese',\n",
       " 'british',\n",
       " 'thai',\n",
       " 'vietnamese',\n",
       " 'cajun_creole',\n",
       " 'brazilian',\n",
       " 'french',\n",
       " 'japanese',\n",
       " 'irish',\n",
       " 'korean',\n",
       " 'moroccan',\n",
       " 'russian']"
      ]
     },
     "execution_count": 22,
     "metadata": {},
     "output_type": "execute_result"
    }
   ],
   "source": [
    "cuisines = []\n",
    "for cuisine in data['cuisine']:\n",
    "    if cuisine not in cuisines:\n",
    "        cuisines.append(cuisine)\n",
    "cuisines"
   ]
  },
  {
   "cell_type": "markdown",
   "metadata": {},
   "source": [
    "### You don't need to run these next two cells. They compute the accuracy for selecting one cuisine not 20. (for instance Greek or not Greek)"
   ]
  },
  {
   "cell_type": "code",
   "execution_count": 43,
   "metadata": {
    "collapsed": false
   },
   "outputs": [
    {
     "name": "stdout",
     "output_type": "stream",
     "text": [
      "\n",
      "greek\n",
      "0.96771340115\n",
      "0.0322865988501\n",
      "\n",
      "southern_us\n",
      "0.906754098361\n",
      "0.0932459016393\n",
      "\n",
      "filipino\n",
      "0.61390625\n",
      "0.38609375\n",
      "\n",
      "indian\n",
      "0.924836601307\n",
      "0.0751633986928\n",
      "\n",
      "jamaican\n",
      "0.759259259259\n",
      "0.240740740741\n",
      "\n",
      "spanish\n",
      "0.76670128072\n",
      "0.23329871928\n",
      "\n",
      "italian\n",
      "0.886422503108\n",
      "0.113577496892\n",
      "\n",
      "mexican\n",
      "0.928403431101\n",
      "0.0715965688987\n",
      "\n",
      "chinese\n",
      "0.915632754342\n",
      "0.0843672456576\n",
      "\n",
      "british\n",
      "0.588456435206\n",
      "0.411543564794\n",
      "\n",
      "thai\n",
      "0.859053497942\n",
      "0.140946502058\n",
      "\n",
      "vietnamese\n",
      "0.885093167702\n",
      "0.114906832298\n",
      "\n",
      "cajun_creole\n",
      "0.942975006066\n",
      "0.0570249939335\n",
      "\n",
      "brazilian\n",
      "0.708460754332\n",
      "0.291539245668\n",
      "\n",
      "french\n",
      "0.666271788797\n",
      "0.333728211203\n",
      "\n",
      "japanese\n",
      "0.679012345679\n",
      "0.320987654321\n",
      "\n",
      "irish\n",
      "0.835076923077\n",
      "0.164923076923\n",
      "\n",
      "korean\n",
      "0.789570230608\n",
      "0.210429769392\n",
      "\n",
      "moroccan\n",
      "0.796992481203\n",
      "0.203007518797\n",
      "\n",
      "russian\n",
      "0.611963190184\n",
      "0.388036809816\n",
      "\n",
      "Averaged Linear:\n",
      "\n",
      "positive: 0.801627770007\n",
      "negative: 0.198372229993\n"
     ]
    }
   ],
   "source": [
    "clf = svm.SVC(kernel='linear',probability=True)\n",
    "positive = 0\n",
    "negative = 0\n",
    "for cuisine in cuisines:\n",
    "    y = data['cuisine'][:1000] == cuisine\n",
    "    data_train, data_test, labels_train, labels_test = train_test_split(frequency_matrix, y, test_size=0.33, random_state=42)\n",
    "    clf.fit(data_train, labels_train)\n",
    "    predict = clf.predict_proba(data_test)\n",
    "    positive += metrics.roc_auc_score(labels_test, predict[:,1])\n",
    "    negative += metrics.roc_auc_score(labels_test, predict[:,0])\n",
    "    print \"\\n\"+cuisine\n",
    "    print metrics.roc_auc_score(labels_test, predict[:,1])\n",
    "    print metrics.roc_auc_score(labels_test, predict[:,0])\n",
    "positive = positive/20\n",
    "negative = negative/20\n",
    "print \"\\nAveraged Linear:\\n\"\n",
    "print \"positive: \"+str(positive)\n",
    "print \"negative: \"+str(negative)\n"
   ]
  },
  {
   "cell_type": "code",
   "execution_count": 37,
   "metadata": {
    "collapsed": false
   },
   "outputs": [
    {
     "name": "stdout",
     "output_type": "stream",
     "text": [
      "\n",
      "greek\n",
      "0.965944272446\n",
      "0.0340557275542\n",
      "\n",
      "southern_us\n",
      "0.873836065574\n",
      "0.126163934426\n",
      "\n",
      "filipino\n",
      "0.611875\n",
      "0.388125\n",
      "\n",
      "indian\n",
      "0.923883442266\n",
      "0.0761165577342\n",
      "\n",
      "jamaican\n",
      "0.792695473251\n",
      "0.207304526749\n",
      "\n",
      "spanish\n",
      "0.751124956732\n",
      "0.248875043268\n",
      "\n",
      "italian\n",
      "0.904216742644\n",
      "0.095783257356\n",
      "\n",
      "mexican\n",
      "0.946734919757\n",
      "0.0532650802435\n",
      "\n",
      "chinese\n",
      "0.949293343403\n",
      "0.0507066565973\n",
      "\n",
      "british\n",
      "0.588677576294\n",
      "0.411322423706\n",
      "\n",
      "thai\n",
      "0.902263374486\n",
      "0.0977366255144\n",
      "\n",
      "vietnamese\n",
      "0.875194099379\n",
      "0.124805900621\n",
      "\n",
      "cajun_creole\n",
      "0.931327347731\n",
      "0.0686726522689\n",
      "\n",
      "brazilian\n",
      "0.625891946993\n",
      "0.374108053007\n",
      "\n",
      "french\n",
      "0.687933660518\n",
      "0.312066339482\n",
      "\n",
      "japanese\n",
      "0.712962962963\n",
      "0.287037037037\n",
      "\n",
      "irish\n",
      "0.844923076923\n",
      "0.155076923077\n",
      "\n",
      "korean\n",
      "0.796907756813\n",
      "0.203092243187\n",
      "\n",
      "moroccan\n",
      "0.81512605042\n",
      "0.18487394958\n",
      "\n",
      "russian\n",
      "0.710889570552\n",
      "0.289110429448\n",
      "\n",
      "Averaged rbf:\n",
      "\n",
      "positive: 0.810585081957\n",
      "negative: 0.189414918043\n"
     ]
    }
   ],
   "source": [
    "clf = svm.SVC(kernel='rbf',probability=True)\n",
    "positive = 0\n",
    "negative = 0\n",
    "for cuisine in cuisines:\n",
    "    y = data['cuisine'][:1000] == cuisine\n",
    "    data_train, data_test, labels_train, labels_test = train_test_split(frequency_matrix, y, test_size=0.33, random_state=42)\n",
    "    clf.fit(data_train, labels_train)\n",
    "    predict = clf.predict_proba(data_test)\n",
    "    positive += metrics.roc_auc_score(labels_test, predict[:,1])\n",
    "    negative += metrics.roc_auc_score(labels_test, predict[:,0])\n",
    "    print \"\\n\"+cuisine\n",
    "    print metrics.roc_auc_score(labels_test, predict[:,1])\n",
    "    print metrics.roc_auc_score(labels_test, predict[:,0])\n",
    "positive = positive/20\n",
    "negative = negative/20\n",
    "print \"\\nAveraged rbf:\\n\"\n",
    "print \"positive: \"+str(positive)\n",
    "print \"negative: \"+str(negative)"
   ]
  },
  {
   "cell_type": "markdown",
   "metadata": {},
   "source": [
    "## this runs the svm.svc classifier. The clf.fit and predict cells take about 10 mins to run right now."
   ]
  },
  {
   "cell_type": "code",
   "execution_count": 23,
   "metadata": {
    "collapsed": true
   },
   "outputs": [],
   "source": [
    "clf = svm.SVC(kernel='linear')"
   ]
  },
  {
   "cell_type": "code",
   "execution_count": 24,
   "metadata": {
    "collapsed": true
   },
   "outputs": [],
   "source": [
    "data_train, data_test, labels_train, labels_test = train_test_split(frequency_matrix, labels, test_size=0.33, random_state=42)"
   ]
  },
  {
   "cell_type": "code",
   "execution_count": 25,
   "metadata": {
    "collapsed": false
   },
   "outputs": [
    {
     "data": {
      "text/plain": [
       "SVC(C=1.0, cache_size=200, class_weight=None, coef0=0.0, degree=3, gamma=0.0,\n",
       "  kernel='linear', max_iter=-1, probability=False, random_state=None,\n",
       "  shrinking=True, tol=0.001, verbose=False)"
      ]
     },
     "execution_count": 25,
     "metadata": {},
     "output_type": "execute_result"
    }
   ],
   "source": [
    "clf.fit(data_train, labels_train)\n"
   ]
  },
  {
   "cell_type": "code",
   "execution_count": 26,
   "metadata": {
    "collapsed": true
   },
   "outputs": [],
   "source": [
    "predict = clf.predict(data_test)\n"
   ]
  },
  {
   "cell_type": "markdown",
   "metadata": {},
   "source": [
    "#### It might be interesting to see what cuisines were often mistaken for another cuisine. "
   ]
  },
  {
   "cell_type": "code",
   "execution_count": 27,
   "metadata": {
    "collapsed": false
   },
   "outputs": [
    {
     "data": {
      "text/plain": [
       "array([[  94,    3,    5,    1,    7,    4,    0,    1,    1,    6,    0,\n",
       "           0,    0,   20,    1,    0,   14,    4,    3,    0],\n",
       "       [   1,  103,    2,    0,    1,   52,    0,    6,   23,   25,    0,\n",
       "           3,    0,    3,    0,    6,   45,    1,    0,    0],\n",
       "       [   5,    5,  352,    2,    5,   16,    2,    0,    4,   26,    1,\n",
       "           0,    0,   16,    0,    3,   86,    7,    0,    0],\n",
       "       [   1,    1,    3,  690,   20,    6,    1,    2,    0,   14,    2,\n",
       "          31,   14,    7,    1,    0,    9,    1,   15,   17],\n",
       "       [   7,    1,    2,   34,  127,    6,    0,    2,    2,    4,    2,\n",
       "           4,    1,   11,    0,    1,   12,    2,    1,    6],\n",
       "       [   0,   25,   15,    2,    6,  558,    7,    2,   20,  168,    3,\n",
       "           1,    0,    9,    0,    9,   69,   17,    0,    0],\n",
       "       [   0,    1,    0,    0,    2,   15,  265,    2,    0,   68,    1,\n",
       "           0,    1,    2,    5,    2,    6,   12,    0,    0],\n",
       "       [   0,    3,    1,    3,    2,   11,   12,  865,    1,   16,    2,\n",
       "           8,    4,   18,   19,    5,    9,    2,   10,    1],\n",
       "       [   1,   25,    2,    2,    0,   27,    4,    3,   92,    9,    1,\n",
       "           0,    0,    5,    1,    3,   45,    0,    0,    2],\n",
       "       [   5,   13,   15,    4,    3,  138,   49,    6,    8, 2223,    1,\n",
       "           4,    0,   17,    7,    7,   55,   24,    1,    1],\n",
       "       [   5,    5,    2,    2,    4,    3,    0,    5,    1,    8,   90,\n",
       "           0,    1,    8,    2,    2,   11,    1,    0,    0],\n",
       "       [   1,    1,    1,   61,    3,    5,    1,   48,    3,   10,    0,\n",
       "         320,    7,    5,    1,    2,   11,    2,    5,    1],\n",
       "       [   0,    0,    0,   49,    4,    2,    0,    2,    0,    5,    0,\n",
       "          14,  189,    4,    0,    0,    3,    1,    1,    1],\n",
       "       [  10,    4,    9,   10,    2,   19,    8,   15,    3,   57,    4,\n",
       "           2,    1, 1921,    3,    1,   45,   23,    0,    1],\n",
       "       [   1,    0,    0,    0,    0,   13,    7,   14,    0,   14,    1,\n",
       "           1,    0,    7,  188,    0,    5,    9,    1,    0],\n",
       "       [   1,    5,    0,    0,    2,   23,    4,    1,    1,   16,    0,\n",
       "           3,    0,    8,    0,   71,   18,    1,    1,    0],\n",
       "       [   9,   24,   63,    8,    7,   62,    6,    8,   13,   83,    8,\n",
       "           9,    1,   51,    2,   12, 1052,    7,    1,    0],\n",
       "       [   5,    3,    3,    2,    4,   39,   12,    4,    1,   56,    0,\n",
       "           0,    0,   27,    3,    5,   18,  136,    1,    1],\n",
       "       [   1,    0,    0,   37,   12,    0,    0,   23,    2,    3,    0,\n",
       "           4,    2,    6,    0,    1,    2,    1,  395,   43],\n",
       "       [   3,    1,    0,   34,    7,    4,    3,    3,    1,    2,    0,\n",
       "           9,    1,    5,    0,    0,    4,    0,   59,  132]])"
      ]
     },
     "execution_count": 27,
     "metadata": {},
     "output_type": "execute_result"
    }
   ],
   "source": [
    "metrics.confusion_matrix(labels_test,predict)\n"
   ]
  },
  {
   "cell_type": "code",
   "execution_count": 28,
   "metadata": {
    "collapsed": false
   },
   "outputs": [
    {
     "data": {
      "text/plain": [
       "0.75140941642541526"
      ]
     },
     "execution_count": 28,
     "metadata": {},
     "output_type": "execute_result"
    }
   ],
   "source": [
    "metrics.accuracy_score(labels_test,predict)\n"
   ]
  },
  {
   "cell_type": "markdown",
   "metadata": {},
   "source": [
    "# We could also try: random forest, naive bayes, bagging. "
   ]
  },
  {
   "cell_type": "code",
   "execution_count": null,
   "metadata": {
    "collapsed": true
   },
   "outputs": [],
   "source": []
  }
 ],
 "metadata": {
  "anaconda-cloud": {},
  "kernelspec": {
   "display_name": "Python [python3]",
   "language": "python",
   "name": "Python [python3]"
  },
  "language_info": {
   "codemirror_mode": {
    "name": "ipython",
    "version": 2
   },
   "file_extension": ".py",
   "mimetype": "text/x-python",
   "name": "python",
   "nbconvert_exporter": "python",
   "pygments_lexer": "ipython2",
   "version": "2.7.12"
  }
 },
 "nbformat": 4,
 "nbformat_minor": 0
}
